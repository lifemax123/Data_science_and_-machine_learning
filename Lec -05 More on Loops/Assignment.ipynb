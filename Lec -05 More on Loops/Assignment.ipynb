{
 "cells": [
  {
   "cell_type": "markdown",
   "metadata": {},
   "source": [
    "### Decimal to Binary"
   ]
  },
  {
   "cell_type": "markdown",
   "metadata": {},
   "source": [
    "Given a decimal number (integer N), convert it into binary and print.\n",
    "The binary number should be in the form of an integer.\n",
    "Note: The given input number could be large, so the corresponding binary number can exceed the integer range."
   ]
  },
  {
   "cell_type": "code",
   "execution_count": 1,
   "metadata": {},
   "outputs": [
    {
     "name": "stdout",
     "output_type": "stream",
     "text": [
      "12\n",
      "1100"
     ]
    }
   ],
   "source": [
    "def DecimalToBinary(num):\n",
    "    if num > 1:\n",
    "        DecimalToBinary(num // 2)\n",
    "    print(num % 2, end='')\n",
    "\n",
    "number = int(input())\n",
    "\n",
    "DecimalToBinary(number)"
   ]
  },
  {
   "cell_type": "markdown",
   "metadata": {},
   "source": [
    "### Binary to decimal "
   ]
  },
  {
   "cell_type": "markdown",
   "metadata": {},
   "source": [
    "Given a binary number as an integer N, convert it into decimal and print."
   ]
  },
  {
   "cell_type": "code",
   "execution_count": 2,
   "metadata": {},
   "outputs": [
    {
     "name": "stdout",
     "output_type": "stream",
     "text": [
      "1100\n",
      "12\n"
     ]
    }
   ],
   "source": [
    "binary=int(input())\n",
    "decimal= 0\n",
    "temp = 0\n",
    "while (binary!=0):\n",
    "\n",
    "        reminder = binary % 10\n",
    "        binary = binary // 10\n",
    "        decimal = decimal + reminder*pow(2,temp)\n",
    "        temp=temp+1\n",
    "print(decimal) "
   ]
  },
  {
   "cell_type": "markdown",
   "metadata": {},
   "source": [
    "### Even Fibonacci Numbers"
   ]
  },
  {
   "cell_type": "markdown",
   "metadata": {},
   "source": [
    "Given a number N find the sum of all the even valued terms in the fibonacci sequence less than or equal to N. Try generating only even fibonacci numbers instead of iterating over all Fibonacci numbers."
   ]
  },
  {
   "cell_type": "code",
   "execution_count": 3,
   "metadata": {},
   "outputs": [
    {
     "name": "stdout",
     "output_type": "stream",
     "text": [
      "8\n",
      "10\n"
     ]
    }
   ],
   "source": [
    "n = int(input())\n",
    "a, b = 1, 1\n",
    "total = 0\n",
    "while a <= n:\n",
    "    if a % 2 == 0:\n",
    "        total += a\n",
    "    a, b = b, a+b\n",
    "print (total)"
   ]
  },
  {
   "cell_type": "markdown",
   "metadata": {},
   "source": [
    "### Trailing zeroes in n! "
   ]
  },
  {
   "cell_type": "markdown",
   "metadata": {},
   "source": [
    "Find and return number of trailing 0s in n factorial without calculating n factorial."
   ]
  },
  {
   "cell_type": "code",
   "execution_count": 4,
   "metadata": {},
   "outputs": [
    {
     "name": "stdout",
     "output_type": "stream",
     "text": [
      "50\n",
      "12\n"
     ]
    }
   ],
   "source": [
    "n = int(input())\n",
    "i = 5\n",
    "z = 0\n",
    "while n>=i:\n",
    "    z = n//i+z\n",
    "    i = i*5\n",
    "print(z)"
   ]
  }
 ],
 "metadata": {
  "kernelspec": {
   "display_name": "Python 3 (ipykernel)",
   "language": "python",
   "name": "python3"
  },
  "language_info": {
   "codemirror_mode": {
    "name": "ipython",
    "version": 3
   },
   "file_extension": ".py",
   "mimetype": "text/x-python",
   "name": "python",
   "nbconvert_exporter": "python",
   "pygments_lexer": "ipython3",
   "version": "3.10.6"
  }
 },
 "nbformat": 4,
 "nbformat_minor": 4
}
