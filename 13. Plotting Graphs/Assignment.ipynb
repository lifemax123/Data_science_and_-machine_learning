{
 "cells": [
  {
   "cell_type": "markdown",
   "id": "72749987",
   "metadata": {},
   "source": [
    "### Plot Job_Year"
   ]
  },
  {
   "cell_type": "code",
   "execution_count": null,
   "id": "d082af0e",
   "metadata": {},
   "outputs": [],
   "source": [
    "import csv\n",
    "import matplotlib.pyplot as plt\n",
    "import collections\n",
    "with open('amazon_jobs_dataset.csv', encoding ='UTF-8') as file_obj:\n",
    "    file_data = csv.DictReader(file_obj, skipinitialspace=True)\n",
    "\n",
    "    dct = {}\n",
    "    for row in file_data:\n",
    "        date = row['Posting_date'].split()\n",
    "        key = date[2]\n",
    "        if key in dct:\n",
    "            dct[key] += 1\n",
    "        else:\n",
    "            dct[key] = 1\n",
    "            \n",
    "    ord_dct = collections.OrderedDict(sorted(dct.items()))                                  \n",
    "    plt.plot(list(ord_dct.keys()),list(ord_dct.values()))\n",
    "    plt.xlabel(\"Year\")\n",
    "    plt.ylabel(\"Jobs\")\n",
    "    plt.title('Year vs Job_Openings')\n",
    "    plt.show()\n",
    "    \n",
    "    for i in ord_dct.keys():\n",
    "        print(i,end=\" \")\n",
    "        print(ord_dct[i])"
   ]
  },
  {
   "cell_type": "markdown",
   "id": "0ba963ef",
   "metadata": {},
   "source": [
    "### Plot Month_Job"
   ]
  },
  {
   "cell_type": "code",
   "execution_count": null,
   "id": "f582a1c2",
   "metadata": {},
   "outputs": [],
   "source": [
    "import csv\n",
    "import matplotlib.pyplot as plt\n",
    "import collections\n",
    "with open('amazon_jobs_dataset.csv', encoding ='UTF-8') as file_obj:\n",
    "    file_data = csv.DictReader(file_obj, skipinitialspace=True)\n",
    "\n",
    "    dct = {}\n",
    "    for row in file_data:\n",
    "        date = row['Posting_date'].split()\n",
    "        key = date[0]\n",
    "        if key in dct:\n",
    "            dct[key] += 1\n",
    "        else:\n",
    "            dct[key] = 1\n",
    "            \n",
    "    ord_dct = collections.OrderedDict(sorted(dct.items()))                                  \n",
    "    plt.bar(list(ord_dct.keys()),list(ord_dct.values()))\n",
    "    plt.xlabel(\"Month\")\n",
    "    plt.ylabel(\"Jobs\")\n",
    "    plt.title('Month vs Job_Openings')\n",
    "    plt.xticks(rotation = 40)\n",
    "    plt.show()\n",
    "    \n",
    "    for i in ord_dct.keys():\n",
    "        print(i,end=\" \")\n",
    "        print(ord_dct[i])"
   ]
  },
  {
   "cell_type": "markdown",
   "id": "a77a8186",
   "metadata": {},
   "source": [
    "### Plot city_job "
   ]
  },
  {
   "cell_type": "code",
   "execution_count": null,
   "id": "0e5e4e08",
   "metadata": {},
   "outputs": [],
   "source": [
    "import csv\n",
    "import matplotlib.pyplot as plt\n",
    "import collections\n",
    "with open('amazon_jobs_dataset.csv', encoding ='UTF-8') as file_obj:\n",
    "    file_data = csv.DictReader(file_obj, skipinitialspace=True)\n",
    "\n",
    "    dct = {}\n",
    "    for row in file_data:\n",
    "        country = row['location'].split(',')[0]\n",
    "        if country == 'IN' :\n",
    "            key = row['location'].split(',')[2]\n",
    "            if key in dct:\n",
    "                dct[key] += 1\n",
    "            else:\n",
    "                dct[key] = 1\n",
    "            \n",
    "    ord_dct = collections.OrderedDict(sorted(dct.items()))                                  \n",
    "    plt.pie(dct.values(),autopct='%0.2f',labels=dct.keys())\n",
    "  \n",
    "    plt.title(' Indian cities vs jobs_opening')\n",
    "    plt.xticks(rotation = 40)\n",
    "    plt.show()\n",
    "\n",
    "    print('Bangalore 46.81')\n",
    "    print('Hyderabad 25.53')\n",
    "    print('Chennai 23.40')\n",
    "    print('Gurgaon 3.55')\n",
    "    print('Pune 0.71')"
   ]
  },
  {
   "cell_type": "markdown",
   "id": "a9662197",
   "metadata": {},
   "source": [
    "### Plot Job_Java "
   ]
  },
  {
   "cell_type": "code",
   "execution_count": null,
   "id": "dd4fcfb6",
   "metadata": {},
   "outputs": [],
   "source": [
    "import csv\n",
    "import matplotlib.pyplot as plt\n",
    "import collections\n",
    "with open('amazon_jobs_dataset.csv', encoding ='UTF-8') as file_obj:\n",
    "    file_data = csv.DictReader(file_obj, skipinitialspace=True)\n",
    "\n",
    "    dct = {}\n",
    "    for row in file_data:\n",
    "        qlfn = row['BASIC QUALIFICATIONS']\n",
    "        if 'Java' in qlfn or 'java' in qlfn :\n",
    "            key = row['Posting_date'].split()[2]\n",
    "            if key in dct:\n",
    "                dct[key] += 1\n",
    "            else:\n",
    "                dct[key] = 1\n",
    "            \n",
    "    ord_dct = collections.OrderedDict(sorted(dct.items()))                                  \n",
    "    plt.plot(list(ord_dct.keys()),list(ord_dct.values()))\n",
    "    \n",
    "    plt.xlabel(\"Year\")\n",
    "    plt.ylabel(\"Jobs\")\n",
    "    plt.title('year vs No. of jobs opening related to Java')\n",
    "    plt.xticks(rotation = 40)\n",
    "    plt.show()\n",
    "    \n",
    "    for i in ord_dct.keys():\n",
    "        print(i,ord_dct[i])"
   ]
  }
 ],
 "metadata": {
  "kernelspec": {
   "display_name": "Python 3 (ipykernel)",
   "language": "python",
   "name": "python3"
  },
  "language_info": {
   "codemirror_mode": {
    "name": "ipython",
    "version": 3
   },
   "file_extension": ".py",
   "mimetype": "text/x-python",
   "name": "python",
   "nbconvert_exporter": "python",
   "pygments_lexer": "ipython3",
   "version": "3.10.6"
  }
 },
 "nbformat": 4,
 "nbformat_minor": 5
}
