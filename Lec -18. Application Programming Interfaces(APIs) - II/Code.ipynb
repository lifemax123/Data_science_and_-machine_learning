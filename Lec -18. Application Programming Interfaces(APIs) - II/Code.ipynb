{
 "cells": [
  {
   "cell_type": "markdown",
   "id": "95dbef03",
   "metadata": {},
   "source": [
    "### Github License"
   ]
  },
  {
   "cell_type": "code",
   "execution_count": 2,
   "id": "ede274fd",
   "metadata": {},
   "outputs": [
    {
     "name": "stdout",
     "output_type": "stream",
     "text": [
      "Apache License 2.0\n"
     ]
    }
   ],
   "source": [
    "import requests\n",
    "data = requests.get('https://api.github.com/repos/google/go-cloud',auth = ('svaibhav2809','12345678'))\n",
    "\n",
    "python_data = data.json()\n",
    "print(python_data['license']['name'])"
   ]
  },
  {
   "cell_type": "markdown",
   "id": "9c4b630f",
   "metadata": {},
   "source": [
    "### All Topics "
   ]
  },
  {
   "cell_type": "code",
   "execution_count": 4,
   "id": "4b07a89b",
   "metadata": {},
   "outputs": [
    {
     "name": "stdout",
     "output_type": "stream",
     "text": [
      "fuzzing\n",
      "security\n",
      "stability\n",
      "vulnerabilities\n"
     ]
    }
   ],
   "source": [
    "import requests\n",
    "header = {'Accept':'application/vnd.github.mercy-preview+json'}\n",
    "data = requests.get('https://api.github.com/repos/google/clusterfuzz/topics',auth = ('svaibhav2809','12345678'),headers=header)\n",
    "\n",
    "python_data = data.json()['names']\n",
    "for i in python_data:\n",
    "    print(i)"
   ]
  },
  {
   "cell_type": "markdown",
   "id": "b7ec3e67",
   "metadata": {},
   "source": [
    "### Github Languages"
   ]
  },
  {
   "cell_type": "code",
   "execution_count": 5,
   "id": "b19b54c1",
   "metadata": {},
   "outputs": [
    {
     "name": "stdout",
     "output_type": "stream",
     "text": [
      "Swift\n",
      "HTML\n",
      "Python\n",
      "Ruby\n",
      "Shell\n"
     ]
    }
   ],
   "source": [
    "import requests\n",
    "header = {'Accept':'application/vnd.github.v3+json'}\n",
    "data = requests.get('https://api.github.com/repos/google/science-journal-ios/languages',auth = ('svaibhav2809','12345678'),headers=header)\n",
    "\n",
    "python_data = data.json()\n",
    "for i in python_data:\n",
    "    print(i)"
   ]
  }
 ],
 "metadata": {
  "kernelspec": {
   "display_name": "Python 3 (ipykernel)",
   "language": "python",
   "name": "python3"
  },
  "language_info": {
   "codemirror_mode": {
    "name": "ipython",
    "version": 3
   },
   "file_extension": ".py",
   "mimetype": "text/x-python",
   "name": "python",
   "nbconvert_exporter": "python",
   "pygments_lexer": "ipython3",
   "version": "3.10.6"
  }
 },
 "nbformat": 4,
 "nbformat_minor": 5
}
