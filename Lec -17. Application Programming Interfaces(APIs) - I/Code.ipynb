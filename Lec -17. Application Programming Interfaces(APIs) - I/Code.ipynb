{
 "cells": [
  {
   "cell_type": "markdown",
   "id": "104633c8",
   "metadata": {},
   "source": [
    "### Content type"
   ]
  },
  {
   "cell_type": "code",
   "execution_count": 1,
   "id": "88be39f1",
   "metadata": {},
   "outputs": [
    {
     "name": "stdout",
     "output_type": "stream",
     "text": [
      "text/html\n"
     ]
    }
   ],
   "source": [
    "import requests\n",
    "response = requests.get('https://codingninjas.in/api/v3/events')\n",
    "\n",
    "header_info = response.headers\n",
    "print(header_info['Content-Type'])"
   ]
  },
  {
   "cell_type": "markdown",
   "id": "7cd27266",
   "metadata": {},
   "source": [
    "### Hound sub-breeds"
   ]
  },
  {
   "cell_type": "code",
   "execution_count": 5,
   "id": "2800b1bd",
   "metadata": {},
   "outputs": [
    {
     "name": "stdout",
     "output_type": "stream",
     "text": [
      "afghan\n",
      "basset\n",
      "blood\n",
      "english\n",
      "ibizan\n",
      "plott\n",
      "walker\n"
     ]
    }
   ],
   "source": [
    "import json\n",
    "import requests\n",
    "\n",
    "response = requests.get('https://dog.ceo/api/breeds/list/all')\n",
    "data = json.loads(response.text)\n",
    "all_breads = data['message']\n",
    "hound = all_breads['hound']\n",
    "\n",
    "for dog in hound:\n",
    "    print(dog)"
   ]
  },
  {
   "cell_type": "markdown",
   "id": "752ca83d",
   "metadata": {},
   "source": [
    "### Poodle sub breeds count"
   ]
  },
  {
   "cell_type": "code",
   "execution_count": 6,
   "id": "40cb8fb5",
   "metadata": {},
   "outputs": [
    {
     "name": "stdout",
     "output_type": "stream",
     "text": [
      "4\n"
     ]
    }
   ],
   "source": [
    "import requests\n",
    "response = requests.get('https://dog.ceo/api/breeds/list/all')\n",
    "python_data = response.json()\n",
    "\n",
    "sub_breeds = python_data['message']['poodle']\n",
    "print(len(sub_breeds))"
   ]
  },
  {
   "cell_type": "markdown",
   "id": "968e60f5",
   "metadata": {},
   "source": [
    "### CN Online Courses "
   ]
  },
  {
   "cell_type": "code",
   "execution_count": 7,
   "id": "225cbeca",
   "metadata": {},
   "outputs": [
    {
     "name": "stdout",
     "output_type": "stream",
     "text": [
      "Premium Competitive Programming Course\n",
      "C++ Foundation with Data Structures\n",
      "Aptitude for professionals\n",
      "Premium Data Science Course\n",
      "Premium Android App Development\n",
      "Premium Machine Learning Course\n",
      "Premium Data structures and Algorithms [C++/Java/Python]\n",
      "System Design Course\n",
      "Ninja Competitive Programmer Track\n",
      "Premium Full Stack Web Development\n",
      "Machine Learning & Deep Learning Course\n",
      "Advanced  Front-End Web Development with React\n",
      "JAVA Foundation with Data Structures\n",
      "Ninja Android Developer Career Track \n",
      "Full Stack Web Development\n",
      "Interview Preparation Course\n",
      "Data Science & Machine Learning Complete\n",
      "Grokking the Operating Systems Interview\n",
      "Ninja  Web Developer Career Track - NodeJS & ReactJs\n",
      "Ninja  Web Developer Career Track - NodeJS\n",
      "Competitive Programming Course\n",
      "Android Development with Kotlin\n",
      "Python Foundation with Data Structures\n",
      "Ninja Data Scientist Career Track\n",
      "Ninja Machine Learning Engineer Career Track\n",
      "Aptitude Preparation Course\n"
     ]
    }
   ],
   "source": [
    "import requests\n",
    "import json\n",
    "\n",
    "response = requests.get('https://api.codingninjas.com/api/v3/courses')\n",
    "data = json.loads(response.text)\n",
    "course_info = data['data']\n",
    "all_courses = course_info['courses']\n",
    "\n",
    "for c in all_courses:\n",
    "    if c['available_online'] == True:\n",
    "        print(c['name'])"
   ]
  },
  {
   "cell_type": "markdown",
   "id": "35293663",
   "metadata": {},
   "source": [
    "### Workshop Events "
   ]
  },
  {
   "cell_type": "code",
   "execution_count": 13,
   "id": "96517355",
   "metadata": {},
   "outputs": [
    {
     "name": "stdout",
     "output_type": "stream",
     "text": [
      "Ready to solve fun, challenging problems?\n"
     ]
    }
   ],
   "source": [
    "import json\n",
    "import requests\n",
    "\n",
    "response = requests.get('https://api.codingninjas.com/api/v3/events?event_category=ALL_EVENTS&event_sub_category=All%20Time%20Favorites&tag_list=&offset=0&_ga=2.198877805.350100406.1673765428-1348423423.1672116594')\n",
    "data = json.loads(response.text)\n",
    "\n",
    "events = data['data']['events']\n",
    "if len(events) == 0:\n",
    "    print('No Events !')\n",
    "else:\n",
    "    print(events[0]['short_desc'])"
   ]
  },
  {
   "cell_type": "markdown",
   "id": "9419ba9c",
   "metadata": {},
   "source": [
    "### Title of course"
   ]
  },
  {
   "cell_type": "code",
   "execution_count": 14,
   "id": "304d368b",
   "metadata": {},
   "outputs": [
    {
     "name": "stdout",
     "output_type": "stream",
     "text": [
      "Machine Learning\n"
     ]
    }
   ],
   "source": [
    "import requests\n",
    "\n",
    "response =  requests.get('http://api.codingninjas.com/api/v3/courses')\n",
    "data = response.json()\n",
    "\n",
    "course = data['data']['courses']\n",
    "for ct in course:\n",
    "    if ct['id'] == 19:\n",
    "        print(ct['title'])"
   ]
  },
  {
   "cell_type": "markdown",
   "id": "49f760d0",
   "metadata": {},
   "source": [
    "### Total number of cities"
   ]
  },
  {
   "cell_type": "code",
   "execution_count": 18,
   "id": "cf1784a7",
   "metadata": {},
   "outputs": [
    {
     "name": "stdout",
     "output_type": "stream",
     "text": [
      "81\n"
     ]
    }
   ],
   "source": [
    "import json\n",
    "import requests\n",
    "\n",
    "response = requests.get('https://api.openaq.org/v2/cities', params = {'country': 'AU'})\n",
    "data = response.json()\n",
    "\n",
    "all_cities = data['results']\n",
    "a = []\n",
    "for i in all_cities:\n",
    "    a.append(i['city'])\n",
    "print(len(set(a)))"
   ]
  },
  {
   "cell_type": "markdown",
   "id": "9cc58919",
   "metadata": {},
   "source": [
    "### Cities from BE "
   ]
  },
  {
   "cell_type": "code",
   "execution_count": 22,
   "id": "d2a5e83f",
   "metadata": {},
   "outputs": [
    {
     "name": "stdout",
     "output_type": "stream",
     "text": [
      "Antwerpen\n",
      "Brabant wallon\n",
      "Brussels-Capital Region\n",
      "Flanders\n",
      "Hainaut\n"
     ]
    }
   ],
   "source": [
    "import requests\n",
    "import json\n",
    "\n",
    "response = requests.get(' https://api.openaq.org/v1/cities',params={'country':'BE','limit':5,'order_by':'city'})\n",
    "python_data = response.json()\n",
    "\n",
    "python_data=python_data['results']\n",
    "\n",
    "for i in python_data:\n",
    "    print(i['city'])"
   ]
  },
  {
   "cell_type": "markdown",
   "id": "7a1183cc",
   "metadata": {},
   "source": [
    "### USA WOEID"
   ]
  },
  {
   "cell_type": "code",
   "execution_count": null,
   "id": "f6b80eb1",
   "metadata": {},
   "outputs": [],
   "source": [
    "import json\n",
    "import requests\n",
    "\n",
    "response = requests.get('https://api.openweathermap.org/data/2.5/weather',params={\"query\":\"usa\"})\n",
    "python_data = response.json()\n",
    "\n",
    "print(python_data[0]['woeid'])"
   ]
  },
  {
   "cell_type": "markdown",
   "id": "dac74a37",
   "metadata": {},
   "source": [
    "### Holiday "
   ]
  },
  {
   "cell_type": "code",
   "execution_count": null,
   "id": "2463e41d",
   "metadata": {
    "scrolled": true
   },
   "outputs": [],
   "source": [
    "import requests\n",
    "import json\n",
    "\n",
    "holiday_api_key='da8c2a63-f5f3-83a5-089655f88867'\n",
    "response = requests.get('https://holidayapi.com/v1/holidays',params = {\"key\":holiday_api_key,\"country\":\"IN\",\"year\":2019,\"month\":10,\"day\":2 })\n",
    "\n",
    "python_data = response.json()\n",
    "python_data=python_data['holidays']\n",
    "print(python_data[0]['name'])"
   ]
  }
 ],
 "metadata": {
  "kernelspec": {
   "display_name": "Python 3 (ipykernel)",
   "language": "python",
   "name": "python3"
  },
  "language_info": {
   "codemirror_mode": {
    "name": "ipython",
    "version": 3
   },
   "file_extension": ".py",
   "mimetype": "text/x-python",
   "name": "python",
   "nbconvert_exporter": "python",
   "pygments_lexer": "ipython3",
   "version": "3.10.6"
  }
 },
 "nbformat": 4,
 "nbformat_minor": 5
}
