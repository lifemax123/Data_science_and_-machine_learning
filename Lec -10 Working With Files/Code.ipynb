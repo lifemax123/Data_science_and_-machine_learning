{
 "cells": [
  {
   "cell_type": "markdown",
   "id": "4e580235",
   "metadata": {},
   "source": [
    "### Print 100 Bytes "
   ]
  },
  {
   "cell_type": "markdown",
   "id": "a5e06fcc",
   "metadata": {},
   "source": [
    "> Open the file\n",
    ">> Read the first 100 bytes of file and print them."
   ]
  },
  {
   "cell_type": "code",
   "execution_count": 3,
   "id": "3d09e562",
   "metadata": {},
   "outputs": [
    {
     "name": "stdout",
     "output_type": "stream",
     "text": [
      "Lorem ipsum dolor sit amet, consectetur adipiscing elit. Vivamus condimentum sagittis lacus, laoreet\n"
     ]
    }
   ],
   "source": [
    "myfiles = open('Sample.txt')\n",
    "mydata = myfiles.read(100)\n",
    "print(mydata)"
   ]
  },
  {
   "cell_type": "markdown",
   "id": "d342dfdb",
   "metadata": {},
   "source": [
    "### Print 5 lines"
   ]
  },
  {
   "cell_type": "markdown",
   "id": "9a9c452d",
   "metadata": {},
   "source": [
    "> Open the file\n",
    ">> Read the first 5 lines from file and print them (in separate lines)."
   ]
  },
  {
   "cell_type": "code",
   "execution_count": 5,
   "id": "c40658e9",
   "metadata": {},
   "outputs": [
    {
     "name": "stdout",
     "output_type": "stream",
     "text": [
      "Lorem ipsum dolor sit amet, consectetur adipiscing elit. Vivamus condimentum sagittis lacus, laoreet luctus ligula laoreet ut. Vestibulum ullamcorper accumsan velit vel vehicula. Proin tempor lacus arcu. Nunc at elit condimentum, semper nisi et, condimentum mi. In venenatis blandit nibh at sollicitudin. Vestibulum dapibus mauris at orci maximus pellentesque. Nullam id elementum ipsum. Suspendisse cursus lobortis viverra. Proin et erat at mauris tincidunt porttitor vitae ac dui.\n",
      "\n",
      "Donec vulputate lorem tortor, nec fermentum nibh bibendum vel. Lorem ipsum dolor sit amet, consectetur adipiscing elit. Praesent dictum luctus massa, non euismod lacus. Pellentesque condimentum dolor est, ut dapibus lectus luctus ac. Ut sagittis commodo arcu. Integer nisi nulla, facilisis sit amet nulla quis, eleifend suscipit purus. Class aptent taciti sociosqu ad litora torquent per conubia nostra, per inceptos himenaeos. Aliquam euismod ultrices lorem, sit amet imperdiet est tincidunt vel. Phasellus dictum justo sit amet ligula varius aliquet auctor et metus. Fusce vitae tortor et nisi pulvinar vestibulum eget in risus. Donec ante ex, placerat a lorem eget, ultricies bibendum purus. Nam sit amet neque non ante laoreet rutrum. Nullam aliquet commodo urna, sed ullamcorper odio feugiat id. Mauris nisi sapien, porttitor in condimentum nec, venenatis eu urna. Pellentesque feugiat diam est, at rhoncus orci porttitor non.\n",
      "\n",
      "Nulla luctus sem sit amet nisi consequat, id ornare ipsum dignissim. Sed elementum elit nibh, eu condimentum orci viverra quis. Aenean suscipit vitae felis non suscipit. Suspendisse pharetra turpis non eros semper dictum. Etiam tincidunt venenatis venenatis. Praesent eget gravida lorem, ut congue diam. Etiam facilisis elit at porttitor egestas. Praesent consequat, velit non vulputate convallis, ligula diam sagittis urna, in venenatis nisi justo ut mauris. Vestibulum posuere sollicitudin mi, et vulputate nisl fringilla non. Nulla ornare pretium velit a euismod. Nunc sagittis venenatis vestibulum. Nunc sodales libero a est ornare ultricies. Sed sed leo sed orci pellentesque ultrices. Mauris sollicitudin, sem quis placerat ornare, velit arcu convallis ligula, pretium finibus nisl sapien vel sem. Vivamus sit amet tortor id lorem consequat hendrerit. Nullam at dui risus.\n",
      "\n",
      "Vestibulum ante ipsum primis in faucibus orci luctus et ultrices posuere cubilia Curae; Lorem ipsum dolor sit amet, consectetur adipiscing elit. Sed feugiat semper velit consequat facilisis. Etiam facilisis justo non iaculis dictum. Fusce turpis neque, pharetra ut odio eu, hendrerit rhoncus lacus. Nunc orci felis, imperdiet vel interdum quis, porta eu ipsum. Pellentesque dictum sem lacinia, auctor dui in, malesuada nunc. Maecenas sit amet mollis eros. Proin fringilla viverra ligula, sollicitudin viverra ante sollicitudin congue. Donec mollis felis eu libero malesuada, et lacinia risus interdum.\n",
      "\n",
      "Etiam vitae accumsan augue. Ut urna orci, malesuada ut nisi a, condimentum gravida magna. Nulla bibendum ex in vulputate sagittis. Nulla facilisi. Nullam faucibus et metus ac consequat. Quisque tempor eros velit, id mattis nibh aliquet a. Aenean tempor elit ut finibus auctor. Sed at imperdiet mauris. Vestibulum pharetra non lacus sed pulvinar. Sed pellentesque magna a eros volutpat ullamcorper. In hac habitasse platea dictumst. Donec ipsum mi, feugiat in eros sed, varius lacinia turpis. Donec vulputate tincidunt dui ac laoreet. Sed in eros dui. Pellentesque placerat tristique ligula eu finibus. Proin nec faucibus felis, eu commodo ipsum.\n",
      "\n"
     ]
    }
   ],
   "source": [
    "myfiles = open('Sample.txt')\n",
    "mydata = myfiles.readline()\n",
    "print(mydata)\n",
    "print(myfiles.readline())\n",
    "print(myfiles.readline())\n",
    "print(myfiles.readline())\n",
    "print(myfiles.readline())"
   ]
  },
  {
   "cell_type": "markdown",
   "id": "0b0c418a",
   "metadata": {},
   "source": [
    "### Print 5 Lines (Readlines)"
   ]
  },
  {
   "cell_type": "markdown",
   "id": "ee1de0e6",
   "metadata": {},
   "source": [
    "> Open the file\n",
    ">> Read the first 5 lines from file and print them."
   ]
  },
  {
   "cell_type": "code",
   "execution_count": 6,
   "id": "3b85d76b",
   "metadata": {},
   "outputs": [
    {
     "name": "stdout",
     "output_type": "stream",
     "text": [
      "Lorem ipsum dolor sit amet, consectetur adipiscing elit. Vivamus condimentum sagittis lacus, laoreet luctus ligula laoreet ut. Vestibulum ullamcorper accumsan velit vel vehicula. Proin tempor lacus arcu. Nunc at elit condimentum, semper nisi et, condimentum mi. In venenatis blandit nibh at sollicitudin. Vestibulum dapibus mauris at orci maximus pellentesque. Nullam id elementum ipsum. Suspendisse cursus lobortis viverra. Proin et erat at mauris tincidunt porttitor vitae ac dui.\n",
      "\n",
      "Donec vulputate lorem tortor, nec fermentum nibh bibendum vel. Lorem ipsum dolor sit amet, consectetur adipiscing elit. Praesent dictum luctus massa, non euismod lacus. Pellentesque condimentum dolor est, ut dapibus lectus luctus ac. Ut sagittis commodo arcu. Integer nisi nulla, facilisis sit amet nulla quis, eleifend suscipit purus. Class aptent taciti sociosqu ad litora torquent per conubia nostra, per inceptos himenaeos. Aliquam euismod ultrices lorem, sit amet imperdiet est tincidunt vel. Phasellus dictum justo sit amet ligula varius aliquet auctor et metus. Fusce vitae tortor et nisi pulvinar vestibulum eget in risus. Donec ante ex, placerat a lorem eget, ultricies bibendum purus. Nam sit amet neque non ante laoreet rutrum. Nullam aliquet commodo urna, sed ullamcorper odio feugiat id. Mauris nisi sapien, porttitor in condimentum nec, venenatis eu urna. Pellentesque feugiat diam est, at rhoncus orci porttitor non.\n",
      "\n",
      "Nulla luctus sem sit amet nisi consequat, id ornare ipsum dignissim. Sed elementum elit nibh, eu condimentum orci viverra quis. Aenean suscipit vitae felis non suscipit. Suspendisse pharetra turpis non eros semper dictum. Etiam tincidunt venenatis venenatis. Praesent eget gravida lorem, ut congue diam. Etiam facilisis elit at porttitor egestas. Praesent consequat, velit non vulputate convallis, ligula diam sagittis urna, in venenatis nisi justo ut mauris. Vestibulum posuere sollicitudin mi, et vulputate nisl fringilla non. Nulla ornare pretium velit a euismod. Nunc sagittis venenatis vestibulum. Nunc sodales libero a est ornare ultricies. Sed sed leo sed orci pellentesque ultrices. Mauris sollicitudin, sem quis placerat ornare, velit arcu convallis ligula, pretium finibus nisl sapien vel sem. Vivamus sit amet tortor id lorem consequat hendrerit. Nullam at dui risus.\n",
      "\n",
      "Vestibulum ante ipsum primis in faucibus orci luctus et ultrices posuere cubilia Curae; Lorem ipsum dolor sit amet, consectetur adipiscing elit. Sed feugiat semper velit consequat facilisis. Etiam facilisis justo non iaculis dictum. Fusce turpis neque, pharetra ut odio eu, hendrerit rhoncus lacus. Nunc orci felis, imperdiet vel interdum quis, porta eu ipsum. Pellentesque dictum sem lacinia, auctor dui in, malesuada nunc. Maecenas sit amet mollis eros. Proin fringilla viverra ligula, sollicitudin viverra ante sollicitudin congue. Donec mollis felis eu libero malesuada, et lacinia risus interdum.\n",
      "\n",
      "Etiam vitae accumsan augue. Ut urna orci, malesuada ut nisi a, condimentum gravida magna. Nulla bibendum ex in vulputate sagittis. Nulla facilisi. Nullam faucibus et metus ac consequat. Quisque tempor eros velit, id mattis nibh aliquet a. Aenean tempor elit ut finibus auctor. Sed at imperdiet mauris. Vestibulum pharetra non lacus sed pulvinar. Sed pellentesque magna a eros volutpat ullamcorper. In hac habitasse platea dictumst. Donec ipsum mi, feugiat in eros sed, varius lacinia turpis. Donec vulputate tincidunt dui ac laoreet. Sed in eros dui. Pellentesque placerat tristique ligula eu finibus. Proin nec faucibus felis, eu commodo ipsum.\n",
      "\n"
     ]
    }
   ],
   "source": [
    "myfiles = open('Sample.txt')\n",
    "mydata = myfiles.readlines()\n",
    "for i in mydata[0:5]:\n",
    "    print(i)"
   ]
  },
  {
   "cell_type": "markdown",
   "id": "4f9f0198",
   "metadata": {},
   "source": [
    "### First 3 lines "
   ]
  },
  {
   "cell_type": "code",
   "execution_count": null,
   "id": "f3627ea3",
   "metadata": {},
   "outputs": [],
   "source": [
    "import csv\n",
    "with open('year2017.csv') as file_:\n",
    "    file_name=csv.reader(file_)\n",
    "    file_name=list(file_name)\n",
    "    for i in range(1,4):\n",
    "        for j in file_name[i]:\n",
    "            print(j,end=' ')\n",
    "        print()"
   ]
  },
  {
   "cell_type": "markdown",
   "id": "4151ae74",
   "metadata": {},
   "source": [
    "### Print all column names"
   ]
  },
  {
   "cell_type": "code",
   "execution_count": null,
   "id": "0fb1923c",
   "metadata": {},
   "outputs": [],
   "source": [
    "import csv\n",
    "\n",
    "with open('year2017.csv') as my_csv:\n",
    "    data = csv.reader(my_csv)\n",
    "    l = list(data)\n",
    "    for i in l[0]:\n",
    "        print(i)"
   ]
  },
  {
   "cell_type": "markdown",
   "id": "13751d51",
   "metadata": {},
   "source": [
    "### Country Names "
   ]
  },
  {
   "cell_type": "code",
   "execution_count": null,
   "id": "9b7356c7",
   "metadata": {},
   "outputs": [],
   "source": [
    "import csv\n",
    "\n",
    "with open('year2017.csv') as my_csv:\n",
    "    data = csv.reader(my_csv)\n",
    "    data = list(data)\n",
    "    \n",
    "Country = []\n",
    "for row in data[1:11]:\n",
    "    Country.append(row[3])\n",
    "Country\n",
    "for i in Country:\n",
    "    print(i)"
   ]
  },
  {
   "cell_type": "markdown",
   "id": "a35b4aa4",
   "metadata": {},
   "source": [
    "### Total Wounded People "
   ]
  },
  {
   "cell_type": "code",
   "execution_count": null,
   "id": "5d484f67",
   "metadata": {},
   "outputs": [],
   "source": [
    "import csv\n",
    "\n",
    "with open('year2017.csv','r') as my_csv:\n",
    "    data = csv.reader(my_csv, skipinitialspace= True)\n",
    "    data = list(data)\n",
    "\n",
    "india_Wounded =[]\n",
    "\n",
    "for row in data[1:]:\n",
    "    val = row[3]\n",
    "    temp = row[10]\n",
    "    if( val== 'India' and temp !=''):\n",
    "        india_Wounded.append(float(temp))\n",
    "\n",
    "print(int(sum(india_Wounded)))"
   ]
  },
  {
   "cell_type": "markdown",
   "id": "b1d1e1cd",
   "metadata": {},
   "source": [
    "### Total Wounded from India "
   ]
  },
  {
   "cell_type": "code",
   "execution_count": null,
   "id": "5f49f277",
   "metadata": {},
   "outputs": [],
   "source": [
    "import csv\n",
    "\n",
    "with open('year2017.csv','r') as my_csv:\n",
    "    data = csv.reader(my_csv, skipinitialspace= True)\n",
    "    data = list(data)\n",
    "\n",
    "india_Wounded =[]\n",
    "\n",
    "for row in data[1:]:\n",
    "    val = row[3]  // country column\n",
    "    temp = row[10] // wounded column\n",
    "    if( val== 'India' and temp !=''):  // counting rows where country is India annd Wound count ids not empty\n",
    "        india_Wounded.append(float(temp)) // adding wound count in a list\n",
    "\n",
    "print(int(sum(india_Wounded))) // adding all the values in list and then converting them to integer value"
   ]
  },
  {
   "cell_type": "markdown",
   "id": "560484a9",
   "metadata": {},
   "source": [
    "### Casualties from Explosives "
   ]
  },
  {
   "cell_type": "code",
   "execution_count": null,
   "id": "f6e0dbff",
   "metadata": {},
   "outputs": [],
   "source": [
    "import csv\n",
    "\n",
    "with open('year2017.csv' ,'r') as file_obj:\n",
    "    file_data = csv.DictReader(file_obj, skipinitialspace = True)\n",
    "    lis = []\n",
    "    for row in file_data:\n",
    "        val = row['Weapon_type']\n",
    "        temp = row['casualities']\n",
    "        if(val == 'Explosives' and temp!=''):\n",
    "            lis.append(float(temp))\n",
    "print(int(sum(lis)))"
   ]
  },
  {
   "cell_type": "markdown",
   "id": "24b27031",
   "metadata": {},
   "source": [
    "### Month vs Killed "
   ]
  },
  {
   "cell_type": "code",
   "execution_count": null,
   "id": "009d7455",
   "metadata": {},
   "outputs": [],
   "source": [
    "import csv\n",
    "with open('year2017.csv') as file_obj:\n",
    "    file_data=csv.DictReader(file_obj,skipinitialspace=True)\n",
    "    \n",
    "    month_killed={}\n",
    "    for row in file_data:\n",
    "        key=row[\"Month\"]\n",
    "        value=row[\"Killed\"]\n",
    "        \n",
    "        if value!=\"\":\n",
    "            value=int(float(value))\n",
    "        else:\n",
    "            value=0\n",
    "            \n",
    "        if key in month_killed:\n",
    "            month_killed[key]+=value\n",
    "        else:\n",
    "            month_killed[key]=value\n",
    "            \n",
    "    for w in month_killed:\n",
    "        print(w,month_killed[w])"
   ]
  },
  {
   "cell_type": "markdown",
   "id": "d3175a26",
   "metadata": {},
   "source": [
    "### Country vs Casualties "
   ]
  },
  {
   "cell_type": "code",
   "execution_count": null,
   "id": "5e69eeb6",
   "metadata": {},
   "outputs": [],
   "source": [
    "import csv\n",
    "with open('year2017.csv') as file_obj:\n",
    "    file_data = csv.DictReader(file_obj,skipinitialspace = True)\n",
    "    \n",
    "    Country_casu = {}\n",
    "    \n",
    "    for row in file_data:\n",
    "        key = row['Country']\n",
    "        value = row['casualities']\n",
    "        \n",
    "        if value != \"\":\n",
    "            value = int(float(value))\n",
    "            \n",
    "        else:\n",
    "            value = 0\n",
    "            \n",
    "        if key in Country_casu:\n",
    "            Country_casu[key] +=value\n",
    "            \n",
    "        else:\n",
    "            Country_casu[key] = value\n",
    "            \n",
    "    for i in Country_casu:\n",
    "        print(i,Country_casu[i])"
   ]
  }
 ],
 "metadata": {
  "kernelspec": {
   "display_name": "Python 3 (ipykernel)",
   "language": "python",
   "name": "python3"
  },
  "language_info": {
   "codemirror_mode": {
    "name": "ipython",
    "version": 3
   },
   "file_extension": ".py",
   "mimetype": "text/x-python",
   "name": "python",
   "nbconvert_exporter": "python",
   "pygments_lexer": "ipython3",
   "version": "3.10.6"
  }
 },
 "nbformat": 4,
 "nbformat_minor": 5
}
