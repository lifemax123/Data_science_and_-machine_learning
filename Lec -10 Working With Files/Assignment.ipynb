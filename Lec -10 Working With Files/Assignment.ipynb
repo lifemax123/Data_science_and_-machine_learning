{
 "cells": [
  {
   "cell_type": "markdown",
   "id": "affb4c75",
   "metadata": {},
   "source": [
    "### Amazon Job Dataset "
   ]
  },
  {
   "cell_type": "markdown",
   "id": "e7f887cc",
   "metadata": {},
   "source": [
    "For this assignment, we'll be using \"Amazon Job Dataset\" which is collected by scraping https://amazon.jobs or can access the dataset from this link:"
   ]
  },
  {
   "cell_type": "markdown",
   "id": "6df7f4a2",
   "metadata": {},
   "source": [
    "> https://docs.google.com/spreadsheets/d/1AiA837JyZRygtvgGc9BzEj7BvjkOOlA07uW2d1dCWlw/edit?usp=sharing"
   ]
  },
  {
   "cell_type": "markdown",
   "id": "300517f3",
   "metadata": {},
   "source": [
    "### Job Location"
   ]
  },
  {
   "cell_type": "markdown",
   "id": "f1de9c10",
   "metadata": {},
   "source": [
    "Given File amazonjobsdataset.csv (Please check Dataset preview name)\n",
    "\n",
    "It is a dataset including information on amazon job opening around the world from June 2011 to March 2018. This dataset is collected using Selenium and BeautifulSoup by scraping all of the jobs for Amazon job site.\n",
    "Problem Statement :\n",
    "\n",
    "Find number of job openings in Bangalore,IN and in Seattle,US?\n",
    "Print the Number of Job opening in Bangalore and Seattle as Integer value."
   ]
  },
  {
   "cell_type": "code",
   "execution_count": 2,
   "id": "7836c099",
   "metadata": {},
   "outputs": [
    {
     "name": "stdout",
     "output_type": "stream",
     "text": [
      "66 1856\n"
     ]
    }
   ],
   "source": [
    "import csv\n",
    "with open ('amazon_jobs_dataset.csv') as fileobj:\n",
    "    filedata = csv.reader(fileobj, skipinitialspace = True)\n",
    "    filelist = list(filedata)\n",
    "    \n",
    "bcount = 0\n",
    "scount = 0\n",
    "for row in filelist:\n",
    "    if row[2]=='US, WA, Seattle ':\n",
    "        scount += 1\n",
    "            \n",
    "    elif row[2]=='IN, KA, Bangalore ':\n",
    "        bcount += 1\n",
    "            \n",
    "print(bcount, end=\" \")\n",
    "print(scount)"
   ]
  },
  {
   "cell_type": "markdown",
   "id": "8bb57c58",
   "metadata": {},
   "source": [
    "### Job Computer Vision "
   ]
  },
  {
   "cell_type": "markdown",
   "id": "9213df7b",
   "metadata": {},
   "source": [
    "Given File 'amazonjobsdataset.csv'\n",
    "\n",
    "It is a dataset including information on amazon job opening around the world from June 2011 to March 2018. This dataset is collected using Selenium and BeautifulSoup by scraping all of the jobs for Amazon job site.\n",
    "\n",
    "Problem Statement :\n",
    "What are the total number of job openings related to Computer Vision ?\n",
    "Note:For finding the job related to computer vision check the Job Title column.\n",
    "Print the count as the Integer Value"
   ]
  },
  {
   "cell_type": "code",
   "execution_count": 3,
   "id": "884a2f7d",
   "metadata": {},
   "outputs": [
    {
     "name": "stdout",
     "output_type": "stream",
     "text": [
      "14\n"
     ]
    }
   ],
   "source": [
    "import csv\n",
    "lines=0\n",
    "openingcsv=0\n",
    "Cvision = 0\n",
    "mydict=dict()\n",
    "with open ('amazon_jobs_dataset.csv') as fileobj:\n",
    "    filedata = csv.reader(fileobj)\n",
    "    next(filedata)\n",
    "    file_list = list(filedata)\n",
    "\n",
    "for row in file_list:\n",
    "    if 'Computer Vision' in row[1]:\n",
    "        mydict[row[1]]=mydict.get(row[1],0)+1\n",
    "        Cvision += 1\n",
    "    lines+=1\n",
    "        \n",
    "print(Cvision)"
   ]
  },
  {
   "cell_type": "markdown",
   "id": "c5e7d69f",
   "metadata": {},
   "source": [
    "### Job Canada"
   ]
  },
  {
   "cell_type": "markdown",
   "id": "521fdf81",
   "metadata": {},
   "source": [
    "Given File 'amazonjobsdataset.csv'\n",
    "\n",
    "It is a dataset including information on amazon job opening around the world from June 2011 to March 2018. This dataset is collected using Selenium and BeautifulSoup by scraping all of the jobs for Amazon job site.\n",
    "\n",
    "Problem Statement :\n",
    "Find the number of job openings in Canada?\n",
    "Print the count as the Integer Value"
   ]
  },
  {
   "cell_type": "code",
   "execution_count": 4,
   "id": "e0411af3",
   "metadata": {},
   "outputs": [
    {
     "name": "stdout",
     "output_type": "stream",
     "text": [
      "156\n"
     ]
    }
   ],
   "source": [
    "import csv\n",
    "country='CA'\n",
    "c_job=0 \n",
    "with open('amazon_jobs_dataset.csv',encoding='utf-8') as fileobj:\n",
    "    filelist=csv.DictReader(fileobj)\n",
    "    for row in filelist:\n",
    "        if row['location'].split(',')[0]==country:\n",
    "            c_job+=1\n",
    "print(c_job)"
   ]
  },
  {
   "cell_type": "markdown",
   "id": "c9aa91c2",
   "metadata": {},
   "source": [
    "### Job Month 2018 "
   ]
  },
  {
   "cell_type": "markdown",
   "id": "f0946e8f",
   "metadata": {},
   "source": [
    "Given File 'amazonjobsdataset.csv'\n",
    "\n",
    "It is a dataset including information on amazon job opening around the world from June 2011 to March 2018. This dataset is collected using Selenium and BeautifulSoup by scraping all of the jobs for Amazon job site.\n",
    "\n",
    "Problem Statement :\n",
    "Find the month having most job openings in Year 2018 ?\n",
    "Print the month (Month Name i.e January, February, March) and Number of job opening as Integer Value"
   ]
  },
  {
   "cell_type": "code",
   "execution_count": 5,
   "id": "cd6a4f16",
   "metadata": {},
   "outputs": [
    {
     "name": "stdout",
     "output_type": "stream",
     "text": [
      "January 907\n"
     ]
    }
   ],
   "source": [
    "import csv\n",
    "posting_date=[]\n",
    "path='amazon_jobs_dataset.csv'\n",
    "\n",
    "with open(path,'r',encoding='utf-8') as csvFile:\n",
    "    reader=csv.DictReader(csvFile)\n",
    "    for row in reader:\n",
    "        posting_date.append(row['Posting_date'])\n",
    "\n",
    "def getTheJobYearList(arr,year):\n",
    "    year_list=[]\n",
    "    for i in arr:\n",
    "        if i.split(' ')[-1]==year:\n",
    "            year_list.append(i)\n",
    "    return year_list\n",
    "year2018=getTheJobYearList(posting_date,'2018')\n",
    "\n",
    "def getTheMonthList(arr):\n",
    "    month=[]\n",
    "    for i in arr:\n",
    "        month.append(i.split(' ')[0])\n",
    "    return month\n",
    "\n",
    "def createDictionary(arr):\n",
    "    dictionary={i:0 for i in set(arr)}\n",
    "    for i in arr:\n",
    "        dictionary[i]=dictionary.get(i)+1\n",
    "    return dictionary\n",
    "dictionary=createDictionary(getTheMonthList(year2018))\n",
    "\n",
    "def convertDictToList(dictionary):\n",
    "    month_job=[]\n",
    "    for i in dictionary:\n",
    "        month_job.append([dictionary.get(i),i])\n",
    "    month_job.sort(reverse=True)\n",
    "    return month_job\n",
    "month2018=convertDictToList(dictionary)\n",
    "print(month2018[0][1],month2018[0][0])"
   ]
  },
  {
   "cell_type": "markdown",
   "id": "8cffc85c",
   "metadata": {},
   "source": [
    "### Job Degree"
   ]
  },
  {
   "cell_type": "markdown",
   "id": "c8ad68d0",
   "metadata": {},
   "source": [
    "Given File 'amazonjobsdataset.csv'\n",
    "\n",
    "It is a dataset including information on amazon job opening around the world from June 2011 to March 2018. This dataset is collected using Selenium and BeautifulSoup by scraping all of the jobs for Amazon job site.\n",
    "\n",
    "Problem Statement :\n",
    "Find the number of job openings are present if applicant have Bachelor degree?\n",
    "Print the count as Integer value\n",
    "Note : Here we will use the BASIC QUALIFICATIONS feature to find out whether bachelor degree for Job is required or not. Keywords that can be used are 'Bachelor', 'BS' and 'BA'."
   ]
  },
  {
   "cell_type": "code",
   "execution_count": 6,
   "id": "07178537",
   "metadata": {},
   "outputs": [
    {
     "name": "stdout",
     "output_type": "stream",
     "text": [
      "2961\n"
     ]
    }
   ],
   "source": [
    "import pandas as pd\n",
    "df = pd.read_csv(\"amazon_jobs_dataset.csv\")\n",
    "l = []\n",
    "for i in range(len(df[\"BASIC QUALIFICATIONS\"])):\n",
    "    try:\n",
    "        if \"Bachelor\" in df[\"BASIC QUALIFICATIONS\"][i] or \"BS\" in df[\"BASIC QUALIFICATIONS\"][i] or \"BA\" in df[\"BASIC QUALIFICATIONS\"][i]:\n",
    "            l.append(i)\n",
    "    except:\n",
    "        pass\n",
    "print(len(l))"
   ]
  },
  {
   "cell_type": "markdown",
   "id": "931fb1e2",
   "metadata": {},
   "source": [
    "### Job Language"
   ]
  },
  {
   "cell_type": "markdown",
   "id": "69f8ce32",
   "metadata": {},
   "source": [
    "Given File 'amazonjobsdataset.csv'\n",
    "\n",
    "It is a dataset including information on amazon job opening around the world from June 2011 to March 2018. This dataset is collected using Selenium and BeautifulSoup by scraping all of the jobs for Amazon job site.\n",
    "\n",
    "Problem Statement :\n",
    "Among Java, C++ and Python, which of the language has more job openings in India for Bachelor Degree Holder?\n",
    "Print the Language(i.e Java,C++,Python) and number of job opening as integer value"
   ]
  },
  {
   "cell_type": "code",
   "execution_count": 8,
   "id": "cbf85885",
   "metadata": {},
   "outputs": [
    {
     "name": "stdout",
     "output_type": "stream",
     "text": [
      "Java 103\n"
     ]
    }
   ],
   "source": [
    "import csv\n",
    "path='amazon_jobs_dataset.csv'\n",
    "country_basic_qualifications=[]\n",
    "with open(path,'r',encoding='utf-8') as csvFile:\n",
    "    reader=csv.DictReader(csvFile)\n",
    "    for row in reader:\n",
    "        country_basic_qualifications.append([row['location'],row['BASIC QUALIFICATIONS']])\n",
    "\n",
    "def getCountryJobOpening(arr,country_code):\n",
    "    arrlist=[]\n",
    "    for i in arr:\n",
    "        if i[0].split(',')[0]==country_code:\n",
    "            arrlist.append(i[1])\n",
    "    return arrlist\n",
    "\n",
    "india_list=getCountryJobOpening(country_basic_qualifications,'IN')\n",
    "\n",
    "def getJobBachelorList(arr):\n",
    "    arrlist=[]\n",
    "    for i in arr:\n",
    "        if 'Bachelor' in i or 'BS' in i or 'BA' in i:\n",
    "            arrlist.append(i)\n",
    "    return arrlist\n",
    "    \n",
    "india_bachelor_list=getJobBachelorList(india_list)\n",
    "\n",
    "def getTheDeveloper(arr,language):\n",
    "    arrlist=[]\n",
    "    for i in arr:\n",
    "        if language in i:\n",
    "            arrlist.append(i)\n",
    "    return arrlist\n",
    "\n",
    "java=[len(getTheDeveloper(india_bachelor_list,'Java')),'Java']\n",
    "Cplus=[len(getTheDeveloper(india_bachelor_list,'C++')),'C++']\n",
    "py=[len(getTheDeveloper(india_bachelor_list,'Python')),'Python']\n",
    "maximum=max(java,Cplus,py)\n",
    "print(maximum[1],maximum[0])"
   ]
  },
  {
   "cell_type": "markdown",
   "id": "74a20d9c",
   "metadata": {},
   "source": [
    "### Job Java "
   ]
  },
  {
   "cell_type": "markdown",
   "id": "61db552b",
   "metadata": {},
   "source": [
    "Given File 'amazonjobsdataset.csv'\n",
    "\n",
    "It is a dataset including information on amazon job opening around the world from June 2011 to March 2018. This dataset is collected using Selenium and BeautifulSoup by scraping all of the jobs for Amazon job site.\n",
    "\n",
    "Problem Statement :\n",
    "Find the country does Amazon need the most number of Java Developer?\n",
    "\n",
    "Print the Country(Country Shortcut as given in Dataset) and number of job opening as integer value\n",
    "\n",
    "Note :Here we will use the BASIC QUALIFICATIONS feature to find out whether Java is required for the job or not.Keyword is used is 'Java'.(Here case should not be changed).\n",
    "\n",
    "\n",
    "Output Format :\n",
    "\n",
    "\n",
    "Country NumberofJobs\n",
    "For example : US 40"
   ]
  },
  {
   "cell_type": "code",
   "execution_count": 9,
   "id": "4e288c78",
   "metadata": {},
   "outputs": [
    {
     "name": "stdout",
     "output_type": "stream",
     "text": [
      "US 2009\n"
     ]
    }
   ],
   "source": [
    "import csv\n",
    "with open(\"amazon_jobs_dataset.csv\",errors='ignore') as file_:\n",
    "    file_name=csv.DictReader(file_,skipinitialspace=True)\n",
    "    c=0\n",
    "    d={}\n",
    "    for i in file_name:\n",
    "        a=i[\"location\"].split(\",\")\n",
    "        if \"Java\" in i[\"BASIC QUALIFICATIONS\"]:\n",
    "            d[a[0]]=d.get(a[0],0)+1\n",
    "        \n",
    "        \n",
    "    j=0\n",
    "    max=0\n",
    "    for i in d:\n",
    "        if (int(d[i])>max):\n",
    "            j=i\n",
    "            max=int(d[i])\n",
    "    print(j,d[j])\n",
    "            "
   ]
  }
 ],
 "metadata": {
  "kernelspec": {
   "display_name": "Python 3 (ipykernel)",
   "language": "python",
   "name": "python3"
  },
  "language_info": {
   "codemirror_mode": {
    "name": "ipython",
    "version": 3
   },
   "file_extension": ".py",
   "mimetype": "text/x-python",
   "name": "python",
   "nbconvert_exporter": "python",
   "pygments_lexer": "ipython3",
   "version": "3.10.6"
  }
 },
 "nbformat": 4,
 "nbformat_minor": 5
}
