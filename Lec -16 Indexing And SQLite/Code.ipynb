{
 "cells": [
  {
   "cell_type": "markdown",
   "id": "052bbee7",
   "metadata": {},
   "source": [
    "### Update SQL Table "
   ]
  },
  {
   "cell_type": "code",
   "execution_count": 1,
   "id": "a97a93ab",
   "metadata": {
    "scrolled": true
   },
   "outputs": [
    {
     "name": "stdout",
     "output_type": "stream",
     "text": [
      "Done\n"
     ]
    }
   ],
   "source": [
    "import sqlite3\n",
    "\n",
    "db = sqlite3.connect('Employee_Detail.sqlite')\n",
    "db\n",
    "cur = db.cursor()\n",
    "cur\n",
    "sql_query = 'create table Employee_Detail(Employee_ID int primary key, Name text, Age int, Department text, Salary int )'\n",
    "cur.execute(sql_query)\n",
    "values = [(101, 'Aadarsh', 25, 'Marketing', 50000),(102, 'Aarti', 27, 'Operations', 60000),(103, 'Siddharth', 25, 'Finance', 85000)]\n",
    "cur.executemany('Insert into Employee_Detail values (?,?,?,?,?)', values)\n",
    "db.commit()\n",
    "values = [(104, 'Aman', 24, 'Human Resource', 75000),(105, 'Amit', 30, 'Marketing', 50000),(106, 'Shivansh', 26, 'IT', 90000)]\n",
    "cur.executemany('Insert into Employee_Detail values (?,?,?,?,?)', values)\n",
    "db.commit()\n",
    "values = [(107, 'Vaibhav', 23, 'Finance', 85000),(108, 'Himanshu', 26, 'IT', 90000),(109, 'Raman', 25, 'Operations', 60000)]\n",
    "cur.executemany('Insert into Employee_Detail values (?,?,?,?,?)', values)\n",
    "db.commit()\n",
    "values = [(110, 'Kunal', 26, 'Marketing', 50000),(111, 'Adhira', 29, 'Human Resource', 75000),(112, 'Tanya', 24, 'Marketing', 50000)]\n",
    "cur.executemany('Insert into Employee_Detail values (?,?,?,?,?)', values)\n",
    "db.commit()\n",
    "db.close()\n",
    "print('Done')"
   ]
  },
  {
   "cell_type": "markdown",
   "id": "831fa079",
   "metadata": {},
   "source": [
    "### Finance Employee SQLite"
   ]
  },
  {
   "cell_type": "code",
   "execution_count": 1,
   "id": "816804d4",
   "metadata": {},
   "outputs": [
    {
     "name": "stdout",
     "output_type": "stream",
     "text": [
      "103\n",
      "107\n"
     ]
    }
   ],
   "source": [
    "import sqlite3\n",
    "\n",
    "db = sqlite3.connect('Employee_Detail.sqlite')\n",
    "cur = db.cursor()\n",
    "\n",
    "cur.execute('select * from Employee_Detail where Department = \"Finance\"')\n",
    "ans = cur.fetchall()\n",
    "for i in ans:\n",
    "    print(i[0])\n",
    "db.close()"
   ]
  },
  {
   "cell_type": "markdown",
   "id": "11f5ef1d",
   "metadata": {},
   "source": [
    "### Find Employee "
   ]
  },
  {
   "cell_type": "code",
   "execution_count": 3,
   "id": "4e74528c",
   "metadata": {},
   "outputs": [
    {
     "name": "stdout",
     "output_type": "stream",
     "text": [
      "Finance 2\n",
      "Human Resource 2\n",
      "IT 2\n",
      "Marketing 4\n",
      "Operations 2\n"
     ]
    }
   ],
   "source": [
    "import sqlite3\n",
    "\n",
    "db = sqlite3.connect('Employee_Detail.sqlite')\n",
    "cur = db.cursor()\n",
    "\n",
    "cur.execute('select Department,count(*) from Employee_Detail group by Department')\n",
    "ans = cur.fetchall()\n",
    "for i in ans:\n",
    "    print(i[0],i[1])\n",
    "db.close()"
   ]
  },
  {
   "cell_type": "markdown",
   "id": "9394e8fe",
   "metadata": {},
   "source": [
    "### Count Genre "
   ]
  },
  {
   "cell_type": "code",
   "execution_count": null,
   "id": "2cb34b4f",
   "metadata": {},
   "outputs": [],
   "source": [
    "import pandas as pd\n",
    "import sqlite3\n",
    "\n",
    "db = sqlite3.connect('IMDB.sqlite')\n",
    "\n",
    "data = pd.read_sql_query('select * from genre', db)\n",
    "data = data[data['genre']!='']\n",
    "data = data[\"genre\"].value_counts()\n",
    "for i in range(len(data)):\n",
    "    print(data.index[i],data.values[i])"
   ]
  },
  {
   "cell_type": "markdown",
   "id": "463d75fd",
   "metadata": {},
   "source": [
    "### IMDB Movie "
   ]
  },
  {
   "cell_type": "code",
   "execution_count": null,
   "id": "47660868",
   "metadata": {
    "scrolled": true
   },
   "outputs": [],
   "source": [
    "import pandas as pd\n",
    "import sqlite3\n",
    "\n",
    "db = sqlite3.connect('IMDB.sqlite')\n",
    "data = pd.read_sql_query('select * from earning inner join IMDB on earning.Movie_id=IMDB.Movie_id',db)\n",
    "#select * from earning join IMDB using(Movie_id) \n",
    "data[\"Total\"] = data[\"Domestic\"] + data[\"Worldwide\"]\n",
    "max1 = max(data[\"Total\"])\n",
    "data=data[data['Total']==max1]\n",
    "print(data.values[0][5])"
   ]
  }
 ],
 "metadata": {
  "kernelspec": {
   "display_name": "Python 3 (ipykernel)",
   "language": "python",
   "name": "python3"
  },
  "language_info": {
   "codemirror_mode": {
    "name": "ipython",
    "version": 3
   },
   "file_extension": ".py",
   "mimetype": "text/x-python",
   "name": "python",
   "nbconvert_exporter": "python",
   "pygments_lexer": "ipython3",
   "version": "3.10.6"
  }
 },
 "nbformat": 4,
 "nbformat_minor": 5
}
