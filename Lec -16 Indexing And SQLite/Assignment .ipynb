{
 "cells": [
  {
   "cell_type": "markdown",
   "id": "97e28ecc",
   "metadata": {},
   "source": [
    "### IMDB Voted "
   ]
  },
  {
   "cell_type": "code",
   "execution_count": null,
   "id": "948e4c0d",
   "metadata": {},
   "outputs": [],
   "source": [
    "import pandas as pd\n",
    "import sqlite3\n",
    "\n",
    "db = sqlite3.connect('IMDB.sqlite')\n",
    "\n",
    "data = pd.read_sql_query('select * from IMDB',db)\n",
    "max1 = max(data['TotalVotes'])\n",
    "data = data[data['TotalVotes']==max1]\n",
    "print(data['Title'].values[0],data['Rating'].values[0])"
   ]
  },
  {
   "cell_type": "markdown",
   "id": "d22170b5",
   "metadata": {},
   "source": [
    "### IMDB running time "
   ]
  },
  {
   "cell_type": "code",
   "execution_count": null,
   "id": "4dd3df37",
   "metadata": {},
   "outputs": [],
   "source": [
    "import pandas as pd\n",
    "import numpy as np\n",
    "import sqlite3\n",
    "\n",
    "db = sqlite3.connect('IMDB.sqlite')\n",
    "\n",
    "data = pd.read_sql_query('select * from IMDB',db)\n",
    "\n",
    "def fun(input_runtime):\n",
    "    return input_runtime.strip().split(\" \")[0]\n",
    "\n",
    "data['Runtime'] = data['Runtime'].apply(fun)\n",
    "data['Runtime'].replace('',np.nan,inplace=True)\n",
    "data['Runtime'].astype(float) \n",
    "\n",
    "data.dropna(inplace=True,subset=['Runtime'])\n",
    "data['Runtime']=data['Runtime'].astype(int)\n",
    "max1 = max(data['Runtime'])\n",
    "data=data[data['Runtime']== max1]\n",
    "\n",
    "print(data['Title'].values[0],data['Runtime'].values[0])"
   ]
  },
  {
   "cell_type": "markdown",
   "id": "d0bdaefe",
   "metadata": {},
   "source": [
    "### IMDB profit "
   ]
  },
  {
   "cell_type": "code",
   "execution_count": null,
   "id": "53a77147",
   "metadata": {},
   "outputs": [],
   "source": [
    "import pandas as pd\n",
    "import numpy as np\n",
    "import sqlite3\n",
    "\n",
    "db = sqlite3.connect('IMDB.sqlite')    \n",
    "\n",
    "data = pd.read_sql_query('select * from earning  join IMDB using(Movie_id)',db)\n",
    "\n",
    "data['Total'] = data['Domestic'] + data['Worldwide']\n",
    "data['Budget'].replace('',np.nan,inplace=True)\n",
    "data['Budget'].astype(float)\n",
    "data['Profit']=data['Total']-data['Budget']\n",
    "\n",
    "max1 = max(data['Profit'])\n",
    "data=data[data['Profit']==max1]\n",
    "print(data.values[0][3])"
   ]
  },
  {
   "cell_type": "markdown",
   "id": "ce6578a0",
   "metadata": {},
   "source": [
    "### IMDB least budget "
   ]
  },
  {
   "cell_type": "code",
   "execution_count": null,
   "id": "8dfc57ff",
   "metadata": {},
   "outputs": [],
   "source": [
    "import pandas as pd\n",
    "import numpy as np\n",
    "import sqlite3\n",
    "\n",
    "db = sqlite3.connect('IMDB.sqlite')\n",
    "\n",
    "data = pd.read_sql_query('select * from earning join IMDB using(Movie_id)',db)\n",
    "\n",
    "data['Total'] = data['Domestic'] + data['Worldwide']\n",
    "data['Budget'].replace('',np.nan,inplace=True)\n",
    "data['Budget'].astype(float)\n",
    "data['Profit']=data['Total']-data['Budget']\n",
    "\n",
    "min1 = min(data['Budget'])\n",
    "data=data[(data['Budget']==min1)]\n",
    "data=data[data['Profit']==max(data['Profit'])]\n",
    "print(data['Title'].values[0])"
   ]
  },
  {
   "cell_type": "markdown",
   "id": "9c9a0550",
   "metadata": {},
   "source": [
    "### IMDB Year Top "
   ]
  },
  {
   "cell_type": "code",
   "execution_count": null,
   "id": "4ffae369",
   "metadata": {},
   "outputs": [],
   "source": [
    "import pandas as pd\n",
    "import numpy as np\n",
    "import sqlite3\n",
    "\n",
    "db = sqlite3.connect('IMDB.sqlite')\n",
    "\n",
    "data = pd.read_sql_query('select * from earning join IMDB using(Movie_id)',db)\n",
    "\n",
    "data['Total'] = data['Domestic'] + data['Worldwide']\n",
    "\n",
    "def year(title):\n",
    "    return int(title.strip().split(\" \")[-1][-5:-1])\n",
    "\n",
    "data['Year'] = data[\"Title\"].apply(year)\n",
    "data['Year'].unique()\n",
    "\n",
    "m = data.groupby('Year')['Total'].max()\n",
    "\n",
    "d = {}\n",
    "for i in range(len(data['Total'])):\n",
    "    if data['Total'][i] in (m.values):\n",
    "        key = data['Year'][i]\n",
    "        value = data['Title'][i]\n",
    "        d[key] = value\n",
    "        \n",
    "for i  in sorted(d):\n",
    "    print(i,d[i])"
   ]
  },
  {
   "cell_type": "markdown",
   "id": "44a34ca4",
   "metadata": {},
   "source": [
    "### IMDB genre budget"
   ]
  },
  {
   "cell_type": "code",
   "execution_count": null,
   "id": "a65c78ac",
   "metadata": {},
   "outputs": [],
   "source": [
    "import pandas as pd\n",
    "import numpy as np\n",
    "import sqlite3\n",
    "import matplotlib.pyplot as plt\n",
    "\n",
    "db = sqlite3.connect('IMDB.sqlite')\n",
    "\n",
    "data = pd.read_sql_query('Select * from IMDB join genre using(Movie_id)',db)\n",
    "\n",
    "data['Budget'].replace(\"\",0,inplace=True)\n",
    "data.Budget.unique()\n",
    "\n",
    "data[\"genre\"].replace('',np.NaN,inplace=True)\n",
    "data.dropna(subset = [\"genre\"],inplace=True)\n",
    "grouped_sum = data.groupby(\"genre\")[\"Budget\"].sum()\n",
    "\n",
    "for i in range(len(grouped_sum)):\n",
    "    percentage=grouped_sum.values[i]/(sum(grouped_sum))*100\n",
    "    print(grouped_sum.index[i],format(percentage,\".2f\"))\n",
    "\n",
    "plt.pie(grouped_sum,labels=grouped_sum.index,autopct=\"%.2f\")\n",
    "plt.show()"
   ]
  },
  {
   "cell_type": "markdown",
   "id": "924661c1",
   "metadata": {},
   "source": [
    "### IMDB genre earning "
   ]
  },
  {
   "cell_type": "code",
   "execution_count": null,
   "id": "7bd05846",
   "metadata": {},
   "outputs": [],
   "source": [
    "import pandas as pd\n",
    "import numpy as np\n",
    "import sqlite3\n",
    "import matplotlib.pyplot as plt\n",
    "\n",
    "\n",
    "db = sqlite3.connect('IMDB.sqlite')\n",
    "\n",
    "data = pd.read_sql_query('Select * from genre join earning using(Movie_id)',db)\n",
    "\n",
    "data['Total'] = data[\"Domestic\"] + data[\"Worldwide\"]\n",
    "data['Total'].unique()\n",
    "data[\"genre\"].replace(\"\",np.NaN,inplace=True)\n",
    "data.dropna(subset=[\"genre\"],inplace=True)\n",
    "\n",
    "grouped_sum=data.groupby(\"genre\")['Total'].sum()\n",
    "\n",
    "percent = np.true_divide(grouped_sum,grouped_sum.sum())*100\n",
    "for i in range(len(grouped_sum)):\n",
    "    print(grouped_sum.index[i],format(percent[i],\".2f\"))\n",
    "\n",
    "plt.pie(grouped_sum,labels=grouped_sum.index,autopct=\"%.2f\")\n",
    "plt.show()"
   ]
  },
  {
   "cell_type": "markdown",
   "id": "c4c1218b",
   "metadata": {},
   "source": [
    "### IMDB Specific Genre"
   ]
  },
  {
   "cell_type": "code",
   "execution_count": null,
   "id": "7d12fbff",
   "metadata": {},
   "outputs": [],
   "source": [
    "import pandas as pd\n",
    "import numpy as np\n",
    "import sqlite3\n",
    "\n",
    "db = sqlite3.connect('IMDB.sqlite')\n",
    "\n",
    "data = pd.read_sql_query('Select * from IMDB join genre using(Movie_id)',db)\n",
    "data = data[((data[\"genre\"]=='Sci-Fi') & (data[\"Rating\"]>=8)) | ((data[\"genre\"]=='Mystery') & (data[\"Rating\"]>=8))]\n",
    "print(data['Title'].values[0] )"
   ]
  }
 ],
 "metadata": {
  "kernelspec": {
   "display_name": "Python 3 (ipykernel)",
   "language": "python",
   "name": "python3"
  },
  "language_info": {
   "codemirror_mode": {
    "name": "ipython",
    "version": 3
   },
   "file_extension": ".py",
   "mimetype": "text/x-python",
   "name": "python",
   "nbconvert_exporter": "python",
   "pygments_lexer": "ipython3",
   "version": "3.10.6"
  }
 },
 "nbformat": 4,
 "nbformat_minor": 5
}
