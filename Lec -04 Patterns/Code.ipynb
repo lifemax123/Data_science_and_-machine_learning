{
 "cells": [
  {
   "cell_type": "markdown",
   "id": "8c5f0f37",
   "metadata": {},
   "source": [
    "#### Code : Square Pattern"
   ]
  },
  {
   "cell_type": "markdown",
   "id": "3d828a47",
   "metadata": {},
   "source": [
    "Print the following pattern for the given N number of rows.\n",
    "Pattern for N = 4"
   ]
  },
  {
   "cell_type": "code",
   "execution_count": 1,
   "id": "f3bd44b0",
   "metadata": {},
   "outputs": [
    {
     "name": "stdout",
     "output_type": "stream",
     "text": [
      "4\n",
      "4444\n",
      "4444\n",
      "4444\n",
      "4444\n"
     ]
    }
   ],
   "source": [
    "n=int(input())\n",
    "i=1\n",
    "while i <=n:\n",
    "    j=1\n",
    "    while j<=n:\n",
    "        print(n,end=\"\")\n",
    "        j=j+1\n",
    "    print()\n",
    "    i=i+1"
   ]
  },
  {
   "cell_type": "markdown",
   "id": "e55bb561",
   "metadata": {},
   "source": [
    "#### Code : Triangular Star Pattern"
   ]
  },
  {
   "cell_type": "markdown",
   "id": "c83aed93",
   "metadata": {},
   "source": [
    "Print the following pattern for the given N number of rows.\n",
    "Pattern for N = 4"
   ]
  },
  {
   "cell_type": "raw",
   "id": "548fa8e8",
   "metadata": {},
   "source": [
    "*\n",
    "**\n",
    "***\n",
    "****"
   ]
  },
  {
   "cell_type": "code",
   "execution_count": 2,
   "id": "9932626d",
   "metadata": {},
   "outputs": [
    {
     "name": "stdout",
     "output_type": "stream",
     "text": [
      "4\n",
      "*\n",
      "**\n",
      "***\n",
      "****\n"
     ]
    }
   ],
   "source": [
    "n = int(input())\n",
    "i = 1\n",
    "while i<=n:\n",
    "    j = 1\n",
    "    while j <= i:\n",
    "        print('*',end='')   \n",
    "        j = j +1\n",
    "    print()    \n",
    "    i = i+1"
   ]
  },
  {
   "cell_type": "markdown",
   "id": "0a127a73",
   "metadata": {},
   "source": [
    "#### Code : Triangle Number Pattern"
   ]
  },
  {
   "cell_type": "raw",
   "id": "1af2f31b",
   "metadata": {},
   "source": [
    "1\n",
    "22\n",
    "333\n",
    "4444"
   ]
  },
  {
   "cell_type": "markdown",
   "id": "d69ab3b3",
   "metadata": {},
   "source": [
    "Print the following pattern for the given N number of rows.Pattern for N = 4"
   ]
  },
  {
   "cell_type": "code",
   "execution_count": 4,
   "id": "9083c30d",
   "metadata": {},
   "outputs": [
    {
     "name": "stdout",
     "output_type": "stream",
     "text": [
      "4\n",
      "1\n",
      "22\n",
      "333\n",
      "4444\n"
     ]
    }
   ],
   "source": [
    "n=int(input())\n",
    "i=1\n",
    "while i<=n:\n",
    "    j=1\n",
    "    while j<=i:\n",
    "        print(i,end=\"\")\n",
    "        j=j+1\n",
    "    print()\n",
    "    i=i+1"
   ]
  },
  {
   "cell_type": "markdown",
   "id": "4e5be537",
   "metadata": {},
   "source": [
    "#### Code : Reverse Number Pattern"
   ]
  },
  {
   "cell_type": "markdown",
   "id": "e72c7b99",
   "metadata": {},
   "source": [
    "Print the following pattern for the given N number of rows.\n",
    "Pattern for N = 4"
   ]
  },
  {
   "cell_type": "code",
   "execution_count": 5,
   "id": "8e77bb99",
   "metadata": {},
   "outputs": [
    {
     "name": "stdout",
     "output_type": "stream",
     "text": [
      "4\n",
      "1\n",
      "21\n",
      "321\n",
      "4321\n"
     ]
    }
   ],
   "source": [
    "n = int(input())\n",
    "i = 1\n",
    "while i<=n:\n",
    "    j = 1\n",
    "    while j <=i:\n",
    "        print(i-j+1,end='')\n",
    "        j = j + 1\n",
    "    print()\n",
    "    i = i + 1"
   ]
  },
  {
   "cell_type": "markdown",
   "id": "a843ddb3",
   "metadata": {},
   "source": [
    "#### Code : Alpha Pattern"
   ]
  },
  {
   "cell_type": "markdown",
   "id": "85b0a0d1",
   "metadata": {},
   "source": [
    "Print the following pattern for the given N number of rows.\n",
    "Pattern for N = 3"
   ]
  },
  {
   "cell_type": "code",
   "execution_count": 6,
   "id": "2cd810a9",
   "metadata": {},
   "outputs": [
    {
     "name": "stdout",
     "output_type": "stream",
     "text": [
      "3\n",
      "A\n",
      "BB\n",
      "CCC\n"
     ]
    }
   ],
   "source": [
    "n = int(input())\n",
    "i = 1\n",
    "while i <= n:\n",
    "    char = chr(ord('A') + i - 1)\n",
    "    j = 1\n",
    "    while j <= i:\n",
    "        print(char, end=\"\")\n",
    "        j += 1\n",
    "    print()\n",
    "    i += 1"
   ]
  },
  {
   "cell_type": "markdown",
   "id": "22be85b2",
   "metadata": {},
   "source": [
    "#### Code : Character Pattern"
   ]
  },
  {
   "cell_type": "markdown",
   "id": "4ceabdf7",
   "metadata": {},
   "source": [
    "Print the following pattern for the given N number of rows.\n",
    "Pattern for N = 4"
   ]
  },
  {
   "cell_type": "code",
   "execution_count": 7,
   "id": "ae1bfd18",
   "metadata": {},
   "outputs": [
    {
     "name": "stdout",
     "output_type": "stream",
     "text": [
      "4\n",
      "A\n",
      "BC\n",
      "CDE\n",
      "DEFG\n"
     ]
    }
   ],
   "source": [
    "n = int(input())\n",
    "i = 1\n",
    "while n>=i:\n",
    "    j = 1\n",
    "    start_char = chr(ord('A')+i-1)\n",
    "    while j<=i:\n",
    "        charP =chr(ord(start_char) +j-1)\n",
    "        print(charP,end='')\n",
    "        j = j+1\n",
    "    print()\n",
    "    i = i + 1"
   ]
  },
  {
   "cell_type": "markdown",
   "id": "0bf50c5f",
   "metadata": {},
   "source": [
    "#### Code : Interesting Alphabets"
   ]
  },
  {
   "cell_type": "markdown",
   "id": "b2ebe229",
   "metadata": {},
   "source": [
    "Print the following pattern for the given number of rows.\n",
    "Pattern for N = 5"
   ]
  },
  {
   "cell_type": "code",
   "execution_count": 8,
   "id": "3bf21b60",
   "metadata": {},
   "outputs": [
    {
     "name": "stdout",
     "output_type": "stream",
     "text": [
      "5\n",
      "E\n",
      "DE\n",
      "CDE\n",
      "BCDE\n",
      "ABCDE\n"
     ]
    }
   ],
   "source": [
    "n = int(input())\n",
    "i = n\n",
    "while i >= 1:\n",
    "    j = i\n",
    "    while j<=n:\n",
    "        print(chr(ord(\"A\")+j-1),end=\"\")\n",
    "        j = j + 1\n",
    "    print()\n",
    "    i = i - 1"
   ]
  },
  {
   "cell_type": "markdown",
   "id": "edc1b05b",
   "metadata": {},
   "source": [
    "#### Code : Inverted Number Pattern"
   ]
  },
  {
   "cell_type": "markdown",
   "id": "2bfbadd2",
   "metadata": {},
   "source": [
    "Print the following pattern for the given N number of rows.\n",
    "Pattern for N = 4"
   ]
  },
  {
   "cell_type": "code",
   "execution_count": 9,
   "id": "09e468b1",
   "metadata": {},
   "outputs": [
    {
     "name": "stdout",
     "output_type": "stream",
     "text": [
      "4\n",
      "4444\n",
      "333\n",
      "22\n",
      "1\n"
     ]
    }
   ],
   "source": [
    "n = int(input())\n",
    "i = 1\n",
    "while i <= n:\n",
    "    j =1\n",
    "    while j<= n-i+1:\n",
    "        print(n-i+1,end='')\n",
    "        j = j+1\n",
    "    print()\n",
    "    i = i + 1"
   ]
  },
  {
   "cell_type": "markdown",
   "id": "3c1b5da9",
   "metadata": {},
   "source": [
    "#### Code : Mirror Number Pattern "
   ]
  },
  {
   "cell_type": "markdown",
   "id": "70d8fcee",
   "metadata": {},
   "source": [
    "Print the following pattern for the given N number of rows.\n",
    "Pattern for N = 4"
   ]
  },
  {
   "cell_type": "code",
   "execution_count": 10,
   "id": "3cd36419",
   "metadata": {},
   "outputs": [
    {
     "name": "stdout",
     "output_type": "stream",
     "text": [
      "4\n",
      "   1\n",
      "  12\n",
      " 123\n",
      "1234\n"
     ]
    }
   ],
   "source": [
    "n = int(input())\n",
    "i = 1\n",
    "while i<=n:\n",
    "    spaces =1\n",
    "    while spaces<=n-i:\n",
    "        print(' ',end='')\n",
    "        spaces = spaces + 1\n",
    "    digit = 1\n",
    "    while digit<=i:\n",
    "        print(digit,end='')\n",
    "        digit= digit+ 1\n",
    "    print()\n",
    "    i= i+1"
   ]
  },
  {
   "cell_type": "markdown",
   "id": "f8940f5c",
   "metadata": {},
   "source": [
    "#### Code : Star Pattern "
   ]
  },
  {
   "cell_type": "markdown",
   "id": "768d1eb2",
   "metadata": {},
   "source": [
    "Print the following pattern\n",
    "Pattern for N = 4"
   ]
  },
  {
   "cell_type": "code",
   "execution_count": 11,
   "id": "a47241f4",
   "metadata": {},
   "outputs": [
    {
     "name": "stdout",
     "output_type": "stream",
     "text": [
      "4\n",
      "   *\n",
      "  ***\n",
      " *****\n",
      "*******\n"
     ]
    }
   ],
   "source": [
    "n = int(input())\n",
    "i = 1\n",
    "while i<=n:\n",
    "    spaces =1\n",
    "    while spaces<=n-i:\n",
    "        print(' ',end='')\n",
    "        spaces = spaces + 1\n",
    "    digit = 1\n",
    "    while digit<=i:\n",
    "        print('*',end='')\n",
    "        digit= digit+ 1\n",
    "    digit = i-1\n",
    "    while digit>=1:\n",
    "        print('*',end='')\n",
    "        digit = digit - 1\n",
    "    print()\n",
    "    i= i+1\n"
   ]
  },
  {
   "cell_type": "markdown",
   "id": "4836d4f1",
   "metadata": {},
   "source": [
    "#### Code : Triangle of Numbers"
   ]
  },
  {
   "cell_type": "markdown",
   "id": "cb25ea72",
   "metadata": {},
   "source": [
    "Print the following pattern for the given number of rows.\n",
    "Pattern for N = 4"
   ]
  },
  {
   "cell_type": "code",
   "execution_count": 13,
   "id": "80beb83e",
   "metadata": {
    "scrolled": false
   },
   "outputs": [
    {
     "name": "stdout",
     "output_type": "stream",
     "text": [
      "4\n",
      "   1\n",
      "  232\n",
      " 34543\n",
      "4567654\n"
     ]
    }
   ],
   "source": [
    "n=int(input())\n",
    "i=1\n",
    "while(i<=n):\n",
    "    j=1\n",
    "    while(j<=n-i):  \n",
    "        print(' ',end=\"\") \n",
    "        j=j+1\n",
    "    a=1\n",
    "    p=i\n",
    "    while(a<=i):\n",
    "        print(p,end=\"\")\n",
    "        a=a+1\n",
    "        p=p+1\n",
    "    #print()\n",
    "    b=1\n",
    "    p=2*i-2\n",
    "    while(b<=i-1):\n",
    "        print(p,end=\"\")\n",
    "        p-=1\n",
    "        b+=1\n",
    "    print()\n",
    "    i=i+1  \n"
   ]
  },
  {
   "cell_type": "markdown",
   "id": "db4c55d4",
   "metadata": {},
   "source": [
    "#### Code : Diamond of stars "
   ]
  },
  {
   "cell_type": "markdown",
   "id": "ccef1628",
   "metadata": {},
   "source": [
    "Print the following pattern for the given number of rows.\n",
    "Note: N is always odd.\n",
    "\n",
    "\n",
    "Pattern for N = 5"
   ]
  },
  {
   "cell_type": "code",
   "execution_count": 14,
   "id": "027cc241",
   "metadata": {},
   "outputs": [
    {
     "name": "stdout",
     "output_type": "stream",
     "text": [
      "5\n",
      "  *\n",
      " ***\n",
      "*****\n",
      " ***\n",
      "  *\n"
     ]
    }
   ],
   "source": [
    "n=int(input())\n",
    "n1=(n+1)//2\n",
    "n2=n1-1\n",
    "i=1\n",
    "while(i<=n1):\n",
    "    a=1\n",
    "    while(a<=n1-i):\n",
    "        print(\" \",end=\"\")\n",
    "        a=a+1\n",
    "    b=1\n",
    "    while(b<=2*i-1):\n",
    "        print('*',end=\"\")\n",
    "        b=b+1\n",
    "    print()\n",
    "    i=i+1\n",
    "i=n2\n",
    "while(i>=1):\n",
    "    a=1\n",
    "    while(a<=n2 - i +1):\n",
    "        print(\" \",end='')\n",
    "        a = a+1\n",
    "    j=1\n",
    "    while(j<=2*i-1):\n",
    "        print('*',end=\"\")\n",
    "        j=j+1\n",
    "    print()\n",
    "    i = i-1\n"
   ]
  }
 ],
 "metadata": {
  "kernelspec": {
   "display_name": "Python 3 (ipykernel)",
   "language": "python",
   "name": "python3"
  },
  "language_info": {
   "codemirror_mode": {
    "name": "ipython",
    "version": 3
   },
   "file_extension": ".py",
   "mimetype": "text/x-python",
   "name": "python",
   "nbconvert_exporter": "python",
   "pygments_lexer": "ipython3",
   "version": "3.10.6"
  }
 },
 "nbformat": 4,
 "nbformat_minor": 5
}
