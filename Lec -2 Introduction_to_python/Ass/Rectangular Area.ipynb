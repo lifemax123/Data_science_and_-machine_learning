{
 "cells": [
  {
   "cell_type": "code",
   "execution_count": null,
   "id": "38da3dd9",
   "metadata": {},
   "outputs": [],
   "source": [
    "# Your are given a rectangle in a plane. The corner coodinates of this rectangle is provided to you. \n",
    "# You have to print the amount of area of the plane covered by this rectangles.\n",
    "# The end coordinate are provded as four integer values: x1, y1, x2, y2. It is given that x1<x2 and y1<y2\n",
    "    \n",
    "# Input format:\n",
    "# The first line of input contains an integer x1(1<= x1 <=10)\n",
    "# The second line of input contains an integer y1(1<= y1 <=10)\n",
    "# The third line of input contains an integer x2(1<= x2 <=10)\n",
    "# The fourth line of input contains an integer y2(1<= y2 <=10)\n",
    "\n",
    "# Constaints:\n",
    "# Time Limit: 1 second\n",
    "    \n",
    "# Output format:\n",
    "# The first and only line of output contains the result.\n",
    "\n",
    "# Sample inut\n",
    "# 1\n",
    "# 1\n",
    "# 3\n",
    "# 3\n",
    "\n",
    "# Sample Ouput:\n",
    "# 4"
   ]
  },
  {
   "cell_type": "code",
   "execution_count": 1,
   "id": "b254f063",
   "metadata": {},
   "outputs": [
    {
     "name": "stdout",
     "output_type": "stream",
     "text": [
      "1\n",
      "1\n",
      "3\n",
      "3\n",
      "4\n"
     ]
    }
   ],
   "source": [
    "x1 = int(input())\n",
    "y1 = int(input())\n",
    "x2 = int(input())\n",
    "y2 = int(input())\n",
    "\n",
    "len = x2 - x1\n",
    "wid = y2 - y1\n",
    "\n",
    "Area = len * wid\n",
    "print(Area)"
   ]
  }
 ],
 "metadata": {
  "kernelspec": {
   "display_name": "Python 3 (ipykernel)",
   "language": "python",
   "name": "python3"
  },
  "language_info": {
   "codemirror_mode": {
    "name": "ipython",
    "version": 3
   },
   "file_extension": ".py",
   "mimetype": "text/x-python",
   "name": "python",
   "nbconvert_exporter": "python",
   "pygments_lexer": "ipython3",
   "version": "3.9.12"
  }
 },
 "nbformat": 4,
 "nbformat_minor": 5
}
