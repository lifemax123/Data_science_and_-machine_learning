{
 "cells": [
  {
   "cell_type": "code",
   "execution_count": null,
   "id": "f3f18f82",
   "metadata": {},
   "outputs": [],
   "source": [
    "# You are given two integers: X and N.You have to calculate X raised to power N and print it.\n",
    "    \n",
    "# Input format:\n",
    "# The first line of input contains an integer X(1<= X<=100)\n",
    "# The second line of input contains an integer N(t<= N <=10)\n",
    "    \n",
    "# Constraints:\n",
    "# Time Limit: 1 second\n",
    "        \n",
    "# Output format:\n",
    "# The first and only line of ouput contains the result.\n",
    "        \n",
    "# Sample input:\n",
    "# 10\n",
    "# 4\n",
    "\n",
    "# Sample output:\n",
    "# 10000"
   ]
  },
  {
   "cell_type": "code",
   "execution_count": 1,
   "id": "b3eb70a6",
   "metadata": {},
   "outputs": [
    {
     "name": "stdout",
     "output_type": "stream",
     "text": [
      "10\n",
      "4\n",
      "10000\n"
     ]
    }
   ],
   "source": [
    "X = int(input())\n",
    "N = int(input())\n",
    "\n",
    "print (X ** N)"
   ]
  },
  {
   "cell_type": "code",
   "execution_count": 1,
   "id": "7c9abb28",
   "metadata": {},
   "outputs": [
    {
     "name": "stdout",
     "output_type": "stream",
     "text": [
      "10\n",
      "4\n",
      "10000.0\n"
     ]
    }
   ],
   "source": [
    "import math\n",
    "\n",
    "X = int(input())\n",
    "N = int(input())\n",
    "\n",
    "print(math.pow(X,N))"
   ]
  }
 ],
 "metadata": {
  "kernelspec": {
   "display_name": "Python 3 (ipykernel)",
   "language": "python",
   "name": "python3"
  },
  "language_info": {
   "codemirror_mode": {
    "name": "ipython",
    "version": 3
   },
   "file_extension": ".py",
   "mimetype": "text/x-python",
   "name": "python",
   "nbconvert_exporter": "python",
   "pygments_lexer": "ipython3",
   "version": "3.9.12"
  }
 },
 "nbformat": 4,
 "nbformat_minor": 5
}
