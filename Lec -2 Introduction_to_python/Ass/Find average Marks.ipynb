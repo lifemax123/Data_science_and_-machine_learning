{
 "cells": [
  {
   "cell_type": "code",
   "execution_count": null,
   "id": "50b3dec6",
   "metadata": {},
   "outputs": [],
   "source": [
    "## Find average Marks\n",
    "# write a program to input marks of three tests of a students(all integers).\n",
    "# then calculate and print the average of all test marks.\n",
    "\n",
    "# Input format:\n",
    "# 3 Test marks(in different lines)\n",
    "\n",
    "# Output format:\n",
    "# Average\n",
    "\n",
    "# Sample Input 1:\n",
    "# 4.333333333333333\n",
    "\n",
    "# Sample Input 2:\n",
    "# 5\n",
    "# 10\n",
    "# 5\n",
    "\n",
    "# Sample Output 2:\n",
    "# 6.666666666666667"
   ]
  },
  {
   "cell_type": "code",
   "execution_count": 2,
   "id": "cc092d8b",
   "metadata": {},
   "outputs": [
    {
     "name": "stdout",
     "output_type": "stream",
     "text": [
      "5\n",
      "10\n",
      "5\n",
      "6.666666666666667\n"
     ]
    }
   ],
   "source": [
    "a = int(input())\n",
    "b = int(input())\n",
    "c = int(input())\n",
    "\n",
    "marks = (a+b+c)/3\n",
    "print(marks)"
   ]
  }
 ],
 "metadata": {
  "kernelspec": {
   "display_name": "Python 3 (ipykernel)",
   "language": "python",
   "name": "python3"
  },
  "language_info": {
   "codemirror_mode": {
    "name": "ipython",
    "version": 3
   },
   "file_extension": ".py",
   "mimetype": "text/x-python",
   "name": "python",
   "nbconvert_exporter": "python",
   "pygments_lexer": "ipython3",
   "version": "3.9.12"
  }
 },
 "nbformat": 4,
 "nbformat_minor": 5
}
