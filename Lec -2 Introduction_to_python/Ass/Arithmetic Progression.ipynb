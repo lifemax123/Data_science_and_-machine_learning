{
 "cells": [
  {
   "cell_type": "code",
   "execution_count": null,
   "id": "9ff5336d",
   "metadata": {},
   "outputs": [],
   "source": [
    "# Your are given first three entries of an arithmetic progression. Yu have to calculate the common difference and print it.\n",
    "\n",
    "# Input format:\n",
    "# The first line of input contains an integer a(1<= a <= 100)\n",
    "# The second line of input contains an integer a(1<= b <= 100)\n",
    "# The third line of input contains an integer a(1<= c <= 100)\n",
    "\n",
    "# Constraints:\n",
    "# Time Limit: q second\n",
    "\n",
    "# Output format:\n",
    "# The first and only line of ouptu contains the result.\n",
    "\n",
    "# Sample input:\n",
    "# 1\n",
    "# 3\n",
    "# 5\n",
    "\n",
    "# Sample output:\n",
    "# 2"
   ]
  },
  {
   "cell_type": "code",
   "execution_count": 1,
   "id": "21a037a9",
   "metadata": {},
   "outputs": [
    {
     "name": "stdout",
     "output_type": "stream",
     "text": [
      "1\n",
      "3\n",
      "5\n",
      "2\n"
     ]
    }
   ],
   "source": [
    "a1 = int(input())\n",
    "a2 = int(input())\n",
    "a3 = int(input())\n",
    "\n",
    "print(a3-a2)"
   ]
  }
 ],
 "metadata": {
  "kernelspec": {
   "display_name": "Python 3 (ipykernel)",
   "language": "python",
   "name": "python3"
  },
  "language_info": {
   "codemirror_mode": {
    "name": "ipython",
    "version": 3
   },
   "file_extension": ".py",
   "mimetype": "text/x-python",
   "name": "python",
   "nbconvert_exporter": "python",
   "pygments_lexer": "ipython3",
   "version": "3.9.12"
  }
 },
 "nbformat": 4,
 "nbformat_minor": 5
}
