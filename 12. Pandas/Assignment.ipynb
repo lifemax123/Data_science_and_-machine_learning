{
 "cells": [
  {
   "cell_type": "markdown",
   "id": "50223325",
   "metadata": {},
   "source": [
    "### Terror Attack City"
   ]
  },
  {
   "cell_type": "code",
   "execution_count": null,
   "id": "b82f8944",
   "metadata": {},
   "outputs": [],
   "source": [
    "import pandas as pd\n",
    "path = 'terrorismData.csv'\n",
    "df_terrorism = pd.read_csv(path,encoding = 'ISO-8859-1')\n",
    "df_terrorism = df_terrorism[df_terrorism['State'] == 'Jammu and Kashmir']\n",
    "city_list = df_terrorism['City'].value_counts()\n",
    "city = city_list.index[0]\n",
    "attack = city_list.value[0]\n",
    "df_terrorism = df_terrorism[df_terrorism['City'] == city]\n",
    "group = df_terrorism['Group'].value_counts().index[1]\n",
    "print(city,attack,group)"
   ]
  },
  {
   "cell_type": "markdown",
   "id": "da993c8e",
   "metadata": {},
   "source": [
    "### Terror Government"
   ]
  },
  {
   "cell_type": "code",
   "execution_count": null,
   "id": "4d362bf6",
   "metadata": {},
   "outputs": [],
   "source": [
    "import pandas as pd\n",
    "import numpy as np\n",
    "df = pd.read_csv('terrorismData.csv')\n",
    "\n",
    "a = df[df.Day>=26]\n",
    "b = a[a.Year==2014]\n",
    "c = b[b.Country=='India']\n",
    "ans1 = c[c.Month==5]\n",
    "\n",
    "d = df[df.Year==2014]\n",
    "e = d[d.Country=='India']\n",
    "ans2 = e[e.Month>5]\n",
    "\n",
    "f = df[df.Country=='India']\n",
    "ans3 = f[f.Year>2014]\n",
    "\n",
    "count = ans1.shape[0] + ans2.shape[0] + ans3.shape[0]\n",
    "\n",
    "ans1=ans1[ans1.Group!='Unknown']\n",
    "ans2=ans2[ans2.Group!='Unknown']\n",
    "ans3=ans3[ans3.Group!='Unknown']\n",
    "\n",
    "print(count,ans3.Group.describe().top)"
   ]
  },
  {
   "cell_type": "markdown",
   "id": "fb95b337",
   "metadata": {},
   "source": [
    "### Terror Frequency "
   ]
  },
  {
   "cell_type": "code",
   "execution_count": null,
   "id": "c4d18b35",
   "metadata": {},
   "outputs": [],
   "source": [
    "import pandas as pd\n",
    "import numpy as np\n",
    "df = pd.read_csv('terrorismData.csv')\n",
    "\n",
    "year = len(set(df['Year']))\n",
    "\n",
    "df = df[df.Country == 'India']\n",
    "df['Casualty'] = df['Killed'] + df['Wounded']\n",
    "\n",
    "jk = df[df.State == 'Jammu and Kashmir']\n",
    "rc = df[(df.State == 'Jharkhand') | (df.State == 'Odisha') | (df.State == 'Andhra Pradesh') | (df.State == 'Chhattisgarh')]\n",
    "\n",
    "jkc = int(np.sum(jk['Casualty']))\n",
    "rcc = int(np.sum(rc['Casualty']))\n",
    "\n",
    "print(rcc//year,jkc//year)"
   ]
  },
  {
   "cell_type": "markdown",
   "id": "f83b4a71",
   "metadata": {},
   "source": [
    "### Terror DeadliestAttack "
   ]
  },
  {
   "cell_type": "code",
   "execution_count": null,
   "id": "e406bd97",
   "metadata": {},
   "outputs": [],
   "source": [
    "import pandas as pd\n",
    "df = pd.read_csv('terrorismData.csv')\n",
    "\n",
    "df = df[df.Killed==df.Killed.max()]\n",
    "mx_killed = df.Killed.iloc[0]\n",
    "country = df.Country.iloc[0]\n",
    "group = df.Group.iloc[0]\n",
    "print(int(mx_killed), country, group)"
   ]
  },
  {
   "cell_type": "markdown",
   "id": "fd4198a9",
   "metadata": {},
   "source": [
    "###  Terror Attack\n"
   ]
  },
  {
   "cell_type": "code",
   "execution_count": null,
   "id": "71929ad3",
   "metadata": {},
   "outputs": [],
   "source": [
    "import pandas as pd\n",
    "import numpy as np\n",
    "df = pd.read_csv('terrorismData.csv')\n",
    "\n",
    "year = len(set(df['Year']))\n",
    "\n",
    "df = df[df.Country == 'India']\n",
    "df['Casualty'] = df['Killed'] + df['Wounded']\n",
    "\n",
    "jk = df[df.State == 'Jammu and Kashmir']\n",
    "rc = df[(df.State == 'Jharkhand') | (df.State == 'Odisha') | (df.State == 'Andhra Pradesh') | (df.State == 'Chhattisgarh')]\n",
    "\n",
    "jkc = int(np.sum(jk['Casualty']))\n",
    "rcc = int(np.sum(rc['Casualty']))\n",
    "\n",
    "print(rcc//year,jkc//year)"
   ]
  }
 ],
 "metadata": {
  "kernelspec": {
   "display_name": "Python 3 (ipykernel)",
   "language": "python",
   "name": "python3"
  },
  "language_info": {
   "codemirror_mode": {
    "name": "ipython",
    "version": 3
   },
   "file_extension": ".py",
   "mimetype": "text/x-python",
   "name": "python",
   "nbconvert_exporter": "python",
   "pygments_lexer": "ipython3",
   "version": "3.10.6"
  }
 },
 "nbformat": 4,
 "nbformat_minor": 5
}
