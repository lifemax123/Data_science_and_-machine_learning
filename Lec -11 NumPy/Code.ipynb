{
 "cells": [
  {
   "cell_type": "markdown",
   "id": "1253dd4c",
   "metadata": {},
   "source": [
    "### NumPy 2D array"
   ]
  },
  {
   "cell_type": "markdown",
   "id": "fc82290d",
   "metadata": {},
   "source": [
    "Problem Statement:\n",
    "    \n",
    "Given a 2D list, create a numpy 2D array using it.\n",
    "\n",
    "Note: Given 2D list is [[1, 2, 3], [4, 5, 6], [7, 8, 9]]\n",
    "Print the Numpy array."
   ]
  },
  {
   "cell_type": "code",
   "execution_count": 1,
   "id": "6c480a98",
   "metadata": {},
   "outputs": [
    {
     "name": "stdout",
     "output_type": "stream",
     "text": [
      "[[1 2 3]\n",
      " [4 5 6]\n",
      " [7 8 9]]\n"
     ]
    }
   ],
   "source": [
    "import numpy as np\n",
    "l=[[1,2,3],[4,5,6],[7,8,9]]\n",
    "b=np.array(l,dtype=int)\n",
    "print(b)"
   ]
  },
  {
   "cell_type": "markdown",
   "id": "20bd25a3",
   "metadata": {},
   "source": [
    "### NumPy 0s and 1s "
   ]
  },
  {
   "cell_type": "markdown",
   "id": "e493f9e7",
   "metadata": {},
   "source": [
    "Problem Statement:\n",
    "    \n",
    "Create an integer array of size 10, where all the values should be 0 but the fifth value should be 1.\n",
    "Print the elements of array."
   ]
  },
  {
   "cell_type": "code",
   "execution_count": 2,
   "id": "797c38cb",
   "metadata": {},
   "outputs": [
    {
     "name": "stdout",
     "output_type": "stream",
     "text": [
      "0 0 0 0 1 0 0 0 0 0\n"
     ]
    }
   ],
   "source": [
    "import numpy as np\n",
    "arr = np.zeros(10, dtype=int)\n",
    "arr[4] = 1\n",
    "print(*arr)"
   ]
  },
  {
   "cell_type": "markdown",
   "id": "d279f41a",
   "metadata": {},
   "source": [
    "### NumPy Inclusive"
   ]
  },
  {
   "cell_type": "markdown",
   "id": "28e5cf9e",
   "metadata": {},
   "source": [
    "Problem Statement:\n",
    "    \n",
    "Create an array with values ranging consecutively from 9 to 49 (both inclusive).\n",
    "Print the Numpy array."
   ]
  },
  {
   "cell_type": "code",
   "execution_count": 3,
   "id": "61894dc9",
   "metadata": {},
   "outputs": [
    {
     "name": "stdout",
     "output_type": "stream",
     "text": [
      "9 10 11 12 13 14 15 16 17 18 19 20 21 22 23 24 25 26 27 28 29 30 31 32 33 34 35 36 37 38 39 40 41 42 43 44 45 46 47 48 49\n"
     ]
    }
   ],
   "source": [
    "import numpy as np\n",
    "arr = np.arange(9,50)\n",
    "print(*arr)"
   ]
  },
  {
   "cell_type": "markdown",
   "id": "0380f82b",
   "metadata": {},
   "source": [
    "### Identity Matrix "
   ]
  },
  {
   "cell_type": "markdown",
   "id": "15385aed",
   "metadata": {},
   "source": [
    "Problem Statement:\n",
    "\n",
    "Create a matrix having diagonal elements as 1 and all other elements as 0 of size (5, 6).\n",
    "Print the Numpy array."
   ]
  },
  {
   "cell_type": "code",
   "execution_count": 5,
   "id": "5126e582",
   "metadata": {},
   "outputs": [
    {
     "name": "stdout",
     "output_type": "stream",
     "text": [
      "[[1 0 0 0 0 0]\n",
      " [0 1 0 0 0 0]\n",
      " [0 0 1 0 0 0]\n",
      " [0 0 0 1 0 0]\n",
      " [0 0 0 0 1 0]]\n"
     ]
    }
   ],
   "source": [
    "import numpy as np\n",
    "arr = np.eye(5,6,dtype=int)\n",
    "print(arr)"
   ]
  },
  {
   "cell_type": "markdown",
   "id": "93076347",
   "metadata": {},
   "source": [
    "### Cut the Rope"
   ]
  },
  {
   "cell_type": "markdown",
   "id": "422f6a6f",
   "metadata": {},
   "source": [
    "Problem Statement:\n",
    "    \n",
    "You are given a rope of length 5m. Cut the rope into 9 parts such that each part is of equal length.\n",
    "Note:Array elements are the points where cut is to be made and round upto 2 decimal place.\n",
    "Print the array element."
   ]
  },
  {
   "cell_type": "code",
   "execution_count": 6,
   "id": "5a8f4726",
   "metadata": {},
   "outputs": [
    {
     "name": "stdout",
     "output_type": "stream",
     "text": [
      "0.56\n",
      "1.11\n",
      "1.67\n",
      "2.22\n",
      "2.78\n",
      "3.33\n",
      "3.89\n",
      "4.44\n"
     ]
    }
   ],
   "source": [
    "import numpy as np\n",
    "arr = np.linspace(0,5,10)\n",
    "for i in range(1, len(arr)-1) :\n",
    "    print(round(arr[i],2))"
   ]
  },
  {
   "cell_type": "markdown",
   "id": "b88f8e22",
   "metadata": {},
   "source": [
    "### Print Elements "
   ]
  },
  {
   "cell_type": "markdown",
   "id": "bc1ba4d6",
   "metadata": {},
   "source": [
    "Problem Statement:\n",
    "\n",
    "Given a 2D integer array size (4, 5) with name input_?"
   ]
  },
  {
   "cell_type": "code",
   "execution_count": 7,
   "id": "9d7cb1aa",
   "metadata": {},
   "outputs": [
    {
     "name": "stdout",
     "output_type": "stream",
     "text": [
      "11 12 13\n",
      "9 14 19\n",
      "11 12 13 14 15 16 17 18 19 20 \n",
      "7 8 12 13 "
     ]
    }
   ],
   "source": [
    "import numpy as np\n",
    "input_ = np.arange(1,21,1)\n",
    "input_ = input_.reshape(4,5)\n",
    "print(*input_[2,:3])\n",
    "\n",
    "print(*input_[1:4,3])\n",
    "\n",
    "c = input_[2:4,:5]\n",
    "print(*c[0],end=' ')\n",
    "print(*c[1],end=' ')\n",
    "print()\n",
    "\n",
    "c = input_[1:3,1:3]\n",
    "print(*c[0],end=' ')\n",
    "print(*c[1],end=' ')"
   ]
  },
  {
   "cell_type": "markdown",
   "id": "5c992fb4",
   "metadata": {},
   "source": [
    "### Non-Zero elements"
   ]
  },
  {
   "cell_type": "markdown",
   "id": "37a1004a",
   "metadata": {},
   "source": [
    "Problem Statemnt:\n",
    "    \n",
    "Find indices of non-zero elements from the array [1,2,0,0,4,0] ?\n",
    "Print the index of non-zero elements."
   ]
  },
  {
   "cell_type": "code",
   "execution_count": 10,
   "id": "3f68bd14",
   "metadata": {},
   "outputs": [
    {
     "name": "stdout",
     "output_type": "stream",
     "text": [
      "0 1 4\n"
     ]
    }
   ],
   "source": [
    "import numpy as np\n",
    "arr = np.array([1,2,0,0,4,0])\n",
    "ind = np.where(arr != 0)\n",
    "print(*ind[0])"
   ]
  },
  {
   "cell_type": "markdown",
   "id": "1b047e46",
   "metadata": {},
   "source": [
    "### Multiples of 3 "
   ]
  },
  {
   "cell_type": "markdown",
   "id": "58c6a7b1",
   "metadata": {},
   "source": [
    "Problem Statement:\n",
    "    \n",
    "Given an integer array of size 10. Print the index of elements which are multiple of 3.\n",
    "Note: Generate the following array\n",
    "\n",
    "array([ 1,  3,  5,  7,  9, 11, 13, 15, 17, 19])"
   ]
  },
  {
   "cell_type": "code",
   "execution_count": 12,
   "id": "ec0aadaa",
   "metadata": {},
   "outputs": [
    {
     "name": "stdout",
     "output_type": "stream",
     "text": [
      "0 1 4\n",
      "1 4 7\n"
     ]
    }
   ],
   "source": [
    "import numpy as np\n",
    "arr = np.array([1,2,0,0,4,0])\n",
    "ind = np.where(arr != 0)\n",
    "print(*ind[0])\n",
    "import numpy as np\n",
    "arr = np.arange(1,20,2)\n",
    "ind = np.where(arr%3 == 0)\n",
    "print(*ind[0])"
   ]
  },
  {
   "cell_type": "markdown",
   "id": "f352b15d",
   "metadata": {},
   "source": [
    "### Odd elements "
   ]
  },
  {
   "cell_type": "markdown",
   "id": "881b2050",
   "metadata": {},
   "source": [
    "Problem Statemnt:\n",
    "\n",
    "Given an integer array of size 10. Replace the odd number in numpy array with -1 ?\n",
    "Note: Generate the following array\n",
    "\n",
    "array([1, 2, 3, 4, 5, 6, 7, 8, 9, 10])"
   ]
  },
  {
   "cell_type": "code",
   "execution_count": 13,
   "id": "4521b8e6",
   "metadata": {},
   "outputs": [
    {
     "name": "stdout",
     "output_type": "stream",
     "text": [
      "-1 2 -1 4 -1 6 -1 8 -1 10\n"
     ]
    }
   ],
   "source": [
    "import numpy as np\n",
    "arr = np.arange(1,11)\n",
    "arr[arr % 2 != 0] = -1\n",
    "print(*arr)"
   ]
  },
  {
   "cell_type": "markdown",
   "id": "af780771",
   "metadata": {},
   "source": [
    "###  Replace Max "
   ]
  },
  {
   "cell_type": "markdown",
   "id": "4c7d1ef1",
   "metadata": {},
   "source": [
    "Problem Statemnt:\n",
    "\n",
    "Given an integer array of size 9 and replace the first occurrence of maximum value by 0?\n",
    "Note: Generate the following array\n",
    "\n",
    "array([11, 2, 13, 4, 15, 6, 27, 8, 19])"
   ]
  },
  {
   "cell_type": "code",
   "execution_count": 14,
   "id": "0e9c09cf",
   "metadata": {},
   "outputs": [
    {
     "name": "stdout",
     "output_type": "stream",
     "text": [
      "11\n",
      "2\n",
      "13\n",
      "4\n",
      "15\n",
      "6\n",
      "0\n",
      "8\n",
      "19\n"
     ]
    }
   ],
   "source": [
    "import numpy as np\n",
    "arr = np.array([11, 2, 13, 4, 15, 6, 27, 8, 19])\n",
    "arr[arr.argmax()] = 0\n",
    "for i in arr :\n",
    "    print(i)"
   ]
  },
  {
   "cell_type": "markdown",
   "id": "944ea989",
   "metadata": {},
   "source": [
    "### Negate Elements "
   ]
  },
  {
   "cell_type": "markdown",
   "id": "a94a30dc",
   "metadata": {},
   "source": [
    "Problem Statemnt:\n",
    "    \n",
    "Given a 1D array, negate all elements which are between 3 and 8 (both inclusive)?\n",
    "Note: Generate the following array\n",
    "\n",
    "array([1, 2, 3, 4, 5, 6, 7, 8, 9, 10])"
   ]
  },
  {
   "cell_type": "code",
   "execution_count": 15,
   "id": "44f7fd12",
   "metadata": {},
   "outputs": [
    {
     "name": "stdout",
     "output_type": "stream",
     "text": [
      "1\n",
      "2\n",
      "-3\n",
      "-4\n",
      "-5\n",
      "-6\n",
      "-7\n",
      "-8\n",
      "9\n",
      "10\n"
     ]
    }
   ],
   "source": [
    "import numpy as np\n",
    "arr = np.arange(1,11)\n",
    "arr[2:8] = np.multiply(arr[2:8],-1)\n",
    "for i in arr:\n",
    "    print(i)"
   ]
  },
  {
   "cell_type": "markdown",
   "id": "c0016c91",
   "metadata": {},
   "source": [
    "### Killed in USA "
   ]
  },
  {
   "cell_type": "code",
   "execution_count": null,
   "id": "0ff699e9",
   "metadata": {},
   "outputs": [],
   "source": [
    "import numpy as np\n",
    "import csv\n",
    "\n",
    "with open('terrorismData.csv',encoding=\"utf8\") as file_obj :\n",
    "    data = csv.DictReader(file_obj,skipinitialspace=True)\n",
    "\n",
    "    killed = []\n",
    "    country = []\n",
    "    for row in data:\n",
    "        killed.append(row['Killed'])\n",
    "        country.append(row['Country'])\n",
    "\n",
    "    np_killed = np.array(killed)\n",
    "    np_country = np.array(country)\n",
    "    \n",
    "    np_killed[np_killed == ''] = '0.0'\n",
    "    np_killed = np.array(np_killed,dtype=float)\n",
    "    \n",
    "    np_country = np.array(country)\n",
    "    bool_arr = np_country==\"United States\"\n",
    "    ans = np_killed[bool_arr]   \n",
    "    for i in ans:\n",
    "        print(int(i))"
   ]
  },
  {
   "cell_type": "markdown",
   "id": "002ebe90",
   "metadata": {},
   "source": [
    "###  Total Killed in USA\n"
   ]
  },
  {
   "cell_type": "code",
   "execution_count": null,
   "id": "f383846b",
   "metadata": {},
   "outputs": [],
   "source": [
    "import numpy as np\n",
    "import csv\n",
    "\n",
    "with open('terrorismData.csv',encoding=\"utf8\") as file_obj :\n",
    "    data = csv.DictReader(file_obj,skipinitialspace=True)\n",
    "\n",
    "    killed = []\n",
    "    country = []\n",
    "    for row in data:\n",
    "        killed.append(row['Killed'])\n",
    "        country.append(row['Country'])\n",
    "\n",
    "    np_killed = np.array(killed)\n",
    "    np_country = np.array(country)\n",
    "    \n",
    "    np_killed[np_killed=='']= '0.0'\n",
    "    np_killed = np.array(np_killed,dtype=float)\n",
    "    \n",
    "    np_country = np.array(country)\n",
    "    bool_arr = np_country == \"United States\"\n",
    "    ans = np_killed[bool_arr]\n",
    "    \n",
    "    print(int(np.sum(ans)))"
   ]
  }
 ],
 "metadata": {
  "kernelspec": {
   "display_name": "Python 3 (ipykernel)",
   "language": "python",
   "name": "python3"
  },
  "language_info": {
   "codemirror_mode": {
    "name": "ipython",
    "version": 3
   },
   "file_extension": ".py",
   "mimetype": "text/x-python",
   "name": "python",
   "nbconvert_exporter": "python",
   "pygments_lexer": "ipython3",
   "version": "3.10.6"
  }
 },
 "nbformat": 4,
 "nbformat_minor": 5
}
