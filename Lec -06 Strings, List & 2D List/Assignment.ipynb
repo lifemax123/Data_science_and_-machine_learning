{
 "cells": [
  {
   "cell_type": "markdown",
   "id": "b0c47125",
   "metadata": {},
   "source": [
    "### Remove Consecutive Duplicates"
   ]
  },
  {
   "cell_type": "markdown",
   "id": "a43c76b2",
   "metadata": {},
   "source": [
    "For a given string(str), remove all the consecutive duplicate characters."
   ]
  },
  {
   "cell_type": "code",
   "execution_count": 2,
   "id": "672afbfa",
   "metadata": {},
   "outputs": [
    {
     "name": "stdout",
     "output_type": "stream",
     "text": [
      "aaaa\n",
      "a"
     ]
    }
   ],
   "source": [
    "s=input()\n",
    "s=s+\" \"\n",
    "for i in range(len(s)-1):\n",
    "    if s[i]!=s[i+1]:\n",
    "        print(s[i],end=\"\")"
   ]
  },
  {
   "cell_type": "markdown",
   "id": "22b500c7",
   "metadata": {},
   "source": [
    "### Reverse Each Word "
   ]
  },
  {
   "cell_type": "markdown",
   "id": "9d29ba09",
   "metadata": {},
   "source": [
    "Input Sentence: \"Hello, I am Aadil!\"\n",
    "\n",
    "The expected output will print, \",olleH I ma !lidaA\"."
   ]
  },
  {
   "cell_type": "code",
   "execution_count": 3,
   "id": "7eb3a58d",
   "metadata": {},
   "outputs": [
    {
     "name": "stdout",
     "output_type": "stream",
     "text": [
      "Hello, I am Aadil!\n",
      ",olleH I ma !lidaA "
     ]
    }
   ],
   "source": [
    "s=input()\n",
    "new=s.split()\n",
    "for i in range(len(new)):\n",
    "    sad=new[i][::-1]\n",
    "    print(sad,end=\" \")"
   ]
  },
  {
   "cell_type": "markdown",
   "id": "bce46a20",
   "metadata": {},
   "source": [
    "### Highest Occuring Character "
   ]
  },
  {
   "cell_type": "markdown",
   "id": "1cd8c9b8",
   "metadata": {},
   "source": [
    "For a given a string(str), find and return the highest occurring character."
   ]
  },
  {
   "cell_type": "markdown",
   "id": "39cc362e",
   "metadata": {},
   "source": [
    "Input String: \"abcdeapapqarr\"\n",
    "\n",
    "Expected Output: 'a'"
   ]
  },
  {
   "cell_type": "code",
   "execution_count": 5,
   "id": "aa2e70c3",
   "metadata": {},
   "outputs": [
    {
     "name": "stdout",
     "output_type": "stream",
     "text": [
      "abcdeapapqarr\n",
      "a\n"
     ]
    }
   ],
   "source": [
    "ASCII_SIZE = 256 \n",
    "def highestOccuring(s):\n",
    "    count = [0] * ASCII_SIZE \n",
    "    max = -1\n",
    "    c = '' \n",
    "    \n",
    "    for i in s: \n",
    "        count[ord(i)]+=1; \n",
    "    for i in s: \n",
    "        if max < count[ord(i)]: \n",
    "            max = count[ord(i)] \n",
    "            c = i \n",
    "    return c\n",
    "\n",
    "s = input()\n",
    "print(highestOccuring(s))"
   ]
  },
  {
   "cell_type": "markdown",
   "id": "b7248334",
   "metadata": {},
   "source": [
    "### Leaders in array "
   ]
  },
  {
   "cell_type": "code",
   "execution_count": 6,
   "id": "4352768a",
   "metadata": {},
   "outputs": [
    {
     "name": "stdout",
     "output_type": "stream",
     "text": [
      "6\n",
      "3 12 34 2 0 -1\n",
      "34 2 0 -1 "
     ]
    }
   ],
   "source": [
    "def leaderprint(arr, n):\n",
    " \n",
    "    for i in range(0, n):\n",
    "        for j in range(i, n):\n",
    "            if (arr[i] < arr[j]):\n",
    "                break\n",
    "            if (j == n - 1):\n",
    "                print(arr[i],end=' ')\n",
    "\n",
    "num = int(input())\n",
    "arr = [int(x) for x in input().split()]\n",
    "n = len(arr)\n",
    "leaderprint(arr, n)"
   ]
  },
  {
   "cell_type": "markdown",
   "id": "3a1854d5",
   "metadata": {},
   "source": [
    "### Maximise the sum"
   ]
  },
  {
   "cell_type": "code",
   "execution_count": 8,
   "id": "db00ac48",
   "metadata": {},
   "outputs": [
    {
     "name": "stdout",
     "output_type": "stream",
     "text": [
      "6\n",
      "1 5 10 15 20 25\n",
      "5\n",
      "2 4 5 9 15\n",
      "81\n"
     ]
    }
   ],
   "source": [
    "def maxSum(ar1, ar2, m, n):\n",
    "    i, j = 0, 0\n",
    "    result, sum1, sum2= 0, 0, 0\n",
    "    while (i < m and j < n): \n",
    "        if ar1[i] < ar2[j]: \n",
    "            sum1 += ar1[i] \n",
    "            i+=1 \n",
    "        elif ar1[i] > ar2[j]: \n",
    "            sum2 += ar2[j] \n",
    "            j+=1  \n",
    "        #intersection point\n",
    "        else:\n",
    "            result+= max(sum1,sum2) \n",
    "            sum1, sum2 = 0, 0\n",
    "            while (i < m and j < n and ar1[i]==ar2[j]): \n",
    "                result += ar1[i] \n",
    "                i+=1\n",
    "                j+=1\n",
    "    #no more intersection points\n",
    "    #rest numbers in subsequent array\n",
    "    while i < m: \n",
    "        sum1 += ar1[i] \n",
    "        i+=1\n",
    "    while j < n: \n",
    "        sum2 += ar2[j] \n",
    "        j+=1\n",
    "    result += max(sum1,sum2) \n",
    "    return result\n",
    "\n",
    "m = int(input())\n",
    "a1 = [int(i) for i in input().split()]\n",
    "n = int(input())\n",
    "a2 = [int(j) for j in input().split()]\n",
    "print(maxSum(a1,a2,m,n))"
   ]
  },
  {
   "cell_type": "markdown",
   "id": "5cc4f644",
   "metadata": {},
   "source": [
    "### Largest Row or Column"
   ]
  },
  {
   "cell_type": "code",
   "execution_count": null,
   "id": "ea739035",
   "metadata": {},
   "outputs": [],
   "source": [
    "from sys import stdin\n",
    "\n",
    "MIN_VALUE=-2147483648\n",
    "\n",
    "def findLargest(arr, nRows, mCols):\n",
    "    isRow =True\n",
    "    largestSum=MIN_VALUE\n",
    "    num=0\n",
    "    for i in range(nRows):\n",
    "        rowSum=0\n",
    "        for j in range(mCols):\n",
    "            rowSum+=arr[i][j]\n",
    "        if rowSum>largestSum:\n",
    "            largestSum=rowSum\n",
    "            num=i\n",
    "    for j in range(mCols):\n",
    "        colSum=0\n",
    "        for i in range(nRows):\n",
    "            colSum+=arr[i][j]\n",
    "        if colSum>largestSum:\n",
    "            largestSum=colSum\n",
    "            num=j\n",
    "            isRow=False\n",
    "    if isRow:\n",
    "        print(\"row \"+str(num)+\" \"+str(largestSum))\n",
    "    else:\n",
    "        print(\"column \"+str(num)+\" \"+str(largestSum))\n",
    "\n",
    "def take2DInput() :\n",
    "    li = stdin.readline().rstrip().split(\" \")\n",
    "    nRows = int(li[0])\n",
    "    mCols = int(li[1])\n",
    "    \n",
    "    if nRows == 0 :\n",
    "        return list(), 0, 0\n",
    "    \n",
    "    mat = [list(map(int, input().strip().split(\" \"))) for row in range(nRows)]\n",
    "    return mat, nRows, mCols\n",
    "\n",
    "\n",
    "t = int(stdin.readline().rstrip())\n",
    "\n",
    "while t > 0 :\n",
    "\n",
    "    mat, nRows, mCols = take2DInput()\n",
    "    findLargest(mat, nRows, mCols)\n",
    "\n",
    "    t -= 1"
   ]
  },
  {
   "cell_type": "markdown",
   "id": "02c98124",
   "metadata": {},
   "source": [
    "### Print Spiral"
   ]
  },
  {
   "cell_type": "code",
   "execution_count": 12,
   "id": "17d98913",
   "metadata": {},
   "outputs": [
    {
     "name": "stdout",
     "output_type": "stream",
     "text": [
      "1\n",
      "4 4\n",
      "1 2 3 4\n",
      "5 6 7 8\n",
      "9 10 11 12\n",
      "13 14 15 16\n",
      "1 2 3 4 8 12 16 15 14 13 9 5 6 7 11 10 \n"
     ]
    }
   ],
   "source": [
    "from sys import stdin\n",
    "\n",
    "def spiralPrint(twoDArr, nRows, mCols):\n",
    "    top=0\n",
    "    bottom=row-1\n",
    "    left=0\n",
    "    right=col-1\n",
    "    direction=0\n",
    "\n",
    "    while (top<=bottom) and (left<=right):\n",
    "\n",
    "        if (direction==0):\n",
    "            for i in range(left,right+1):\n",
    "                print(twoDArr[top][i],end=\" \")\n",
    "            top+=1\n",
    "            direction=1\n",
    "\n",
    "        elif (direction==1):\n",
    "            for i in range(top,bottom+1):\n",
    "                print(twoDArr[i][right],end=\" \")\n",
    "            right-=1\n",
    "            direction=2\n",
    "\n",
    "        elif (direction==2):\n",
    "            for i in range(right,left-1,-1):\n",
    "                print(twoDArr[bottom][i],end=\" \")\n",
    "            bottom-=1\n",
    "            direction=3\n",
    "\n",
    "        elif (direction==3):\n",
    "            for i in range(bottom,top-1,-1):\n",
    "                print(twoDArr[i][left],end=\" \")\n",
    "            left+=1\n",
    "            direction=0\n",
    "\n",
    "            \n",
    "            \n",
    "            \n",
    "            \n",
    "for i in range(int(input())):\n",
    "    l=[int(i) for i in input().strip().split(\" \")]\n",
    "    row,col = l[0],l[1]\n",
    "    arr=[[int(i) for i in input().split()] for j in range(row)]\n",
    "    spiralPrint(arr,row,col)\n",
    "    print()"
   ]
  }
 ],
 "metadata": {
  "kernelspec": {
   "display_name": "Python 3 (ipykernel)",
   "language": "python",
   "name": "python3"
  },
  "language_info": {
   "codemirror_mode": {
    "name": "ipython",
    "version": 3
   },
   "file_extension": ".py",
   "mimetype": "text/x-python",
   "name": "python",
   "nbconvert_exporter": "python",
   "pygments_lexer": "ipython3",
   "version": "3.10.6"
  }
 },
 "nbformat": 4,
 "nbformat_minor": 5
}
