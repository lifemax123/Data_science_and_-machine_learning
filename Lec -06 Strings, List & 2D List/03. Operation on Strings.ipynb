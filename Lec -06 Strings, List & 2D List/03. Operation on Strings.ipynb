{
 "cells": [
  {
   "cell_type": "markdown",
   "metadata": {},
   "source": [
    "### Split"
   ]
  },
  {
   "cell_type": "code",
   "execution_count": 3,
   "metadata": {
    "scrolled": false
   },
   "outputs": [
    {
     "name": "stdout",
     "output_type": "stream",
     "text": [
      "['My', 'Name', 'Is', 'Parikh']\n"
     ]
    }
   ],
   "source": [
    "str = \"My Name Is Parikh\"\n",
    "li = str.split()\n",
    "print(li)"
   ]
  },
  {
   "cell_type": "code",
   "execution_count": 10,
   "metadata": {
    "scrolled": true
   },
   "outputs": [
    {
     "name": "stdout",
     "output_type": "stream",
     "text": [
      "['My', 'Name Is Parikh']\n"
     ]
    }
   ],
   "source": [
    "str = \"My Name Is Parikh\"\n",
    "li = str.split(' ',1)\n",
    "print(li)"
   ]
  },
  {
   "cell_type": "markdown",
   "metadata": {},
   "source": [
    "# Replace"
   ]
  },
  {
   "cell_type": "code",
   "execution_count": 12,
   "metadata": {
    "scrolled": false
   },
   "outputs": [
    {
     "name": "stdout",
     "output_type": "stream",
     "text": [
      "my name is rohan\n"
     ]
    }
   ],
   "source": [
    "str = \"my name is parikh\"\n",
    "str = str.replace(\"parikh\",\"rohan\")\n",
    "print(str)"
   ]
  },
  {
   "cell_type": "code",
   "execution_count": 13,
   "metadata": {
    "scrolled": true
   },
   "outputs": [
    {
     "name": "stdout",
     "output_type": "stream",
     "text": [
      "my name is rohan rohan rohan\n"
     ]
    }
   ],
   "source": [
    "str = \"my name is parikh parikh parikh\"\n",
    "str = str.replace(\"parikh\",\"rohan\")\n",
    "print(str)"
   ]
  },
  {
   "cell_type": "code",
   "execution_count": 14,
   "metadata": {
    "scrolled": true
   },
   "outputs": [
    {
     "name": "stdout",
     "output_type": "stream",
     "text": [
      "my name is rohan rohan parikh\n"
     ]
    }
   ],
   "source": [
    "str = \"my name is parikh parikh parikh\"\n",
    "str = str.replace(\"parikh\",\"rohan\",2)\n",
    "print(str)"
   ]
  },
  {
   "cell_type": "markdown",
   "metadata": {},
   "source": [
    "### FIND"
   ]
  },
  {
   "cell_type": "code",
   "execution_count": 16,
   "metadata": {
    "scrolled": false
   },
   "outputs": [
    {
     "name": "stdout",
     "output_type": "stream",
     "text": [
      "3\n"
     ]
    }
   ],
   "source": [
    "str = 'My Name is Parikh'\n",
    "index = str.find(\"Na\")\n",
    "print(index)"
   ]
  },
  {
   "cell_type": "code",
   "execution_count": 21,
   "metadata": {},
   "outputs": [
    {
     "name": "stdout",
     "output_type": "stream",
     "text": [
      "-1\n"
     ]
    }
   ],
   "source": [
    "str = 'My Name is Parikh'\n",
    "index = str.find(\"ra\")\n",
    "print(index)"
   ]
  },
  {
   "cell_type": "code",
   "execution_count": 17,
   "metadata": {
    "scrolled": true
   },
   "outputs": [
    {
     "name": "stdout",
     "output_type": "stream",
     "text": [
      "11\n"
     ]
    }
   ],
   "source": [
    "str = \"my name is parikh parikh\"\n",
    "index = str.find(\"par\")\n",
    "print(index)"
   ]
  },
  {
   "cell_type": "code",
   "execution_count": 19,
   "metadata": {
    "scrolled": true
   },
   "outputs": [
    {
     "name": "stdout",
     "output_type": "stream",
     "text": [
      "18\n"
     ]
    }
   ],
   "source": [
    "str = \"my name is parikh parikh\"\n",
    "index = str.find(\"par\",16,21)\n",
    "print(index)"
   ]
  },
  {
   "cell_type": "markdown",
   "metadata": {},
   "source": [
    "### Lower and Upper"
   ]
  },
  {
   "cell_type": "code",
   "execution_count": 22,
   "metadata": {
    "scrolled": true
   },
   "outputs": [
    {
     "name": "stdout",
     "output_type": "stream",
     "text": [
      "my name is parikh\n"
     ]
    }
   ],
   "source": [
    "str = 'My name is Parikh'\n",
    "str = str.lower()\n",
    "print(str)"
   ]
  },
  {
   "cell_type": "code",
   "execution_count": 23,
   "metadata": {
    "scrolled": true
   },
   "outputs": [
    {
     "name": "stdout",
     "output_type": "stream",
     "text": [
      "MY NAME IS PARIKH\n"
     ]
    }
   ],
   "source": [
    "str = 'my name is parikh'\n",
    "str = str.upper()\n",
    "print(str)"
   ]
  },
  {
   "cell_type": "markdown",
   "metadata": {},
   "source": [
    "## Startswith"
   ]
  },
  {
   "cell_type": "code",
   "execution_count": 25,
   "metadata": {
    "scrolled": true
   },
   "outputs": [
    {
     "name": "stdout",
     "output_type": "stream",
     "text": [
      "True\n"
     ]
    }
   ],
   "source": [
    "str = 'my name is parikh'\n",
    "ans = str.startswith(\"my na\")\n",
    "print(ans)"
   ]
  },
  {
   "cell_type": "code",
   "execution_count": 28,
   "metadata": {
    "scrolled": true
   },
   "outputs": [
    {
     "name": "stdout",
     "output_type": "stream",
     "text": [
      "False\n"
     ]
    }
   ],
   "source": [
    "str = 'my name is parikh'\n",
    "ans = str.startswith(\"my nae\")\n",
    "print(ans)"
   ]
  },
  {
   "cell_type": "code",
   "execution_count": 35,
   "metadata": {
    "scrolled": true
   },
   "outputs": [
    {
     "name": "stdout",
     "output_type": "stream",
     "text": [
      "True\n"
     ]
    }
   ],
   "source": [
    "str = 'my name is parikh'\n",
    "ans = str.startswith(\"pa\",11,18)\n",
    "print(ans)"
   ]
  },
  {
   "cell_type": "markdown",
   "metadata": {},
   "source": [
    "### Replace Character in Strings"
   ]
  },
  {
   "cell_type": "code",
   "execution_count": 1,
   "metadata": {
    "scrolled": true
   },
   "outputs": [
    {
     "name": "stdout",
     "output_type": "stream",
     "text": [
      "ebcde\n"
     ]
    }
   ],
   "source": [
    "def replace(str,char1,char2):\n",
    "    \n",
    "    newStr = \"\"\n",
    "    for char in str:\n",
    "        if (char == char1):\n",
    "            newStr +=char2\n",
    "        else:\n",
    "            newStr+= char\n",
    "    return newStr\n",
    "    \n",
    "str = \"abcda\"\n",
    "str = replace(str,\"a\",\"e\")\n",
    "print(str)"
   ]
  },
  {
   "cell_type": "markdown",
   "metadata": {},
   "source": [
    "### Count Strings"
   ]
  },
  {
   "cell_type": "code",
   "execution_count": 2,
   "metadata": {},
   "outputs": [
    {
     "name": "stdout",
     "output_type": "stream",
     "text": [
      "3 4 3 2\n"
     ]
    }
   ],
   "source": [
    "def countInString(str):\n",
    "    v,c,d,s=0,0,0,0\n",
    "    \n",
    "    for char in str:\n",
    "        if (char>='a'and char<='z')or(char>=\"A\"and char<='Z'):\n",
    "            char = char.lower()\n",
    "            if (char==\"a\" or char =='e'or char ==\"i\" or char =='o'or char =='u'):\n",
    "                v+=1\n",
    "            else:\n",
    "                c+=1\n",
    "        elif (char>=\"0\"and char<=\"9\"):\n",
    "            d+=1\n",
    "        else:\n",
    "            s+=1\n",
    "    return v,c,d,s\n",
    "\n",
    "str = \"Vaibhav@123!\"\n",
    "v,c,d,s=countInString(str)\n",
    "print(v,c,d,s)       "
   ]
  }
 ],
 "metadata": {
  "kernelspec": {
   "display_name": "Python 3 (ipykernel)",
   "language": "python",
   "name": "python3"
  },
  "language_info": {
   "codemirror_mode": {
    "name": "ipython",
    "version": 3
   },
   "file_extension": ".py",
   "mimetype": "text/x-python",
   "name": "python",
   "nbconvert_exporter": "python",
   "pygments_lexer": "ipython3",
   "version": "3.10.6"
  }
 },
 "nbformat": 4,
 "nbformat_minor": 4
}
