{
 "cells": [
  {
   "cell_type": "markdown",
   "metadata": {
    "id": "ZUOinR4_gOu4"
   },
   "source": [
    "##### NumPy"
   ]
  },
  {
   "cell_type": "markdown",
   "metadata": {
    "id": "5qsvufJc4sGX"
   },
   "source": [
    "**What will you learn?**\n",
    "1. Introduction to NumPy\n",
    "2. Advantages\n",
    "3. **Functionalities of NumPy** : Creation, Manipulation\n",
    "4. Boolean Indexing\n",
    "5. NumPy Broadcasting"
   ]
  },
  {
   "cell_type": "markdown",
   "metadata": {
    "id": "zPP_PsIcROaf"
   },
   "source": [
    "#####  Introduction"
   ]
  },
  {
   "cell_type": "markdown",
   "metadata": {
    "id": "pdj4YiLXRXfg"
   },
   "source": [
    "NumPy stands for Numerical Python. It has following features : \n",
    "\n",
    "**POWERFUL N-DIMENSIONAL ARRAYS** : Fast and versatile, the NumPy vectorization, indexing, and broadcasting concepts are the de-facto standards of array computing today.\n",
    "\n",
    "**NUMERICAL COMPUTING TOOLS** : NumPy offers comprehensive mathematical functions, random number generators, linear algebra routines, Fourier transforms, and more.\n",
    "\n",
    "**INTEROPERABLE** : NumPy supports a wide range of hardware and computing platforms, and plays well with distributed, GPU, and sparse array libraries.\n",
    "\n",
    "**PERFORMANT** : The core of NumPy is well-optimized C code. Enjoy the flexibility of Python with the speed of compiled code.\n",
    "\n",
    "**EASY TO USE** : NumPy’s high level syntax makes it accessible and productive for programmers from any background or experience level.\n",
    "\n",
    "**OPEN SOURCE** : Distributed under a liberal BSD license, NumPy is developed and maintained publicly on GitHub by a vibrant, responsive, and diverse community.\n"
   ]
  },
  {
   "cell_type": "markdown",
   "metadata": {
    "id": "xfazJT3-SQL-"
   },
   "source": [
    "#####  Advantages over normal lists"
   ]
  },
  {
   "cell_type": "markdown",
   "metadata": {
    "id": "LCs1DfBtSTKF"
   },
   "source": [
    "You may think, we already have python lists with us to use. So why should we ever opt for NumPy? Let us see some advantages of NumPy over normal python lists."
   ]
  },
  {
   "cell_type": "markdown",
   "metadata": {
    "id": "_hbg2I7aSfY5"
   },
   "source": [
    "### **Memory Consumption**"
   ]
  },
  {
   "cell_type": "markdown",
   "metadata": {
    "id": "HlwXIZ8NSfWb"
   },
   "source": [
    "NumPy arrays use much less memory as compared to normal lists. We can easily verify this."
   ]
  },
  {
   "cell_type": "code",
   "execution_count": null,
   "metadata": {
    "id": "UoK8-uOBSoXs"
   },
   "outputs": [],
   "source": [
    "import numpy as np\n",
    "import sys\n",
    "\n",
    "li_arr = [i for i in range(100)]     # Create list of 100 elements\n",
    "np_arr = np.arange(100)              # Create numpy array of 100 elements"
   ]
  },
  {
   "cell_type": "code",
   "execution_count": null,
   "metadata": {
    "colab": {
     "base_uri": "https://localhost:8080/"
    },
    "id": "5q3irkQVS7B5",
    "outputId": "3aaf4c33-d417-4459-c1d0-179b71a26aa9"
   },
   "outputs": [
    {
     "name": "stdout",
     "output_type": "stream",
     "text": [
      "800\n"
     ]
    }
   ],
   "source": [
    "## Size of 100 elements in numpy array\n",
    "print(np_arr.itemsize * np_arr.size)"
   ]
  },
  {
   "cell_type": "code",
   "execution_count": null,
   "metadata": {
    "colab": {
     "base_uri": "https://localhost:8080/"
    },
    "id": "GfMcWcw3TKFC",
    "outputId": "dd08119a-2839-440f-ec4c-5123c368af27"
   },
   "outputs": [
    {
     "name": "stdout",
     "output_type": "stream",
     "text": [
      "2800\n"
     ]
    }
   ],
   "source": [
    "## Size of 100 elements in python list\n",
    "print(sys.getsizeof(1) * len(li_arr))"
   ]
  },
  {
   "cell_type": "markdown",
   "metadata": {
    "id": "xpWrapu2TYVR"
   },
   "source": [
    "### **Time Execution**"
   ]
  },
  {
   "cell_type": "markdown",
   "metadata": {
    "id": "XauUusIZTFgm"
   },
   "source": [
    "NumPy arrays are much faster as compared to python list. We can easily verify this."
   ]
  },
  {
   "cell_type": "code",
   "execution_count": null,
   "metadata": {
    "id": "tOXKM7i9Ttx4"
   },
   "outputs": [],
   "source": [
    "import time\n",
    "import numpy as np  "
   ]
  },
  {
   "cell_type": "code",
   "execution_count": null,
   "metadata": {
    "id": "J_Q4c-inTtk0"
   },
   "outputs": [],
   "source": [
    "size = 100000"
   ]
  },
  {
   "cell_type": "code",
   "execution_count": null,
   "metadata": {
    "id": "_xrvwc0GTtE-"
   },
   "outputs": [],
   "source": [
    "def addition_using_list():\n",
    "  t1 = time.time()\n",
    "  a = range(size)\n",
    "  b = range(size)\n",
    "  c = [a[i] + b[i] for i in range(size)]\n",
    "  t2 = time.time()\n",
    "  return t2 - t1\n",
    "  "
   ]
  },
  {
   "cell_type": "code",
   "execution_count": null,
   "metadata": {
    "id": "w9pi_RP6UBpR"
   },
   "outputs": [],
   "source": [
    "def addition_using_numpy():\n",
    "  t1 = time.time()\n",
    "  a = np.arange(size)\n",
    "  b = np.arange(size)\n",
    "  c = a + b\n",
    "  t2 = time.time()\n",
    "  return t2 - t1"
   ]
  },
  {
   "cell_type": "code",
   "execution_count": null,
   "metadata": {
    "colab": {
     "base_uri": "https://localhost:8080/"
    },
    "id": "BLJR4Y2CUHYy",
    "outputId": "2a7a9909-2635-44c9-ce26-8ccddd4fa48b"
   },
   "outputs": [
    {
     "name": "stdout",
     "output_type": "stream",
     "text": [
      "List =  38.43832015991211\n",
      "NumPy =  0.5583763122558594\n"
     ]
    }
   ],
   "source": [
    "t_list = addition_using_list()\n",
    "t_numpy = addition_using_numpy()\n",
    "print(\"List = \", t_list * 1000)   \n",
    "print(\"NumPy = \", t_numpy * 1000)"
   ]
  },
  {
   "cell_type": "markdown",
   "metadata": {
    "id": "fSAnLWDOSfUO"
   },
   "source": [
    "### **Convinient to Use**"
   ]
  },
  {
   "cell_type": "markdown",
   "metadata": {
    "id": "qsWMsGLlUjD5"
   },
   "source": [
    "It is much easier to perform basic operations in NumPy arrays"
   ]
  },
  {
   "cell_type": "markdown",
   "metadata": {
    "id": "CbBJwHilSfEA"
   },
   "source": [
    "## **Why is NumPy Faster Than Lists?**"
   ]
  },
  {
   "cell_type": "markdown",
   "metadata": {
    "id": "QXEkb74SSfB6"
   },
   "source": [
    "NumPy arrays are stored at one continuous place in memory unlike lists, so processes can access and manipulate them very efficiently.\n",
    "\n",
    "This behavior is called locality of reference in computer science.\n",
    "\n",
    "This is the main reason why NumPy is faster than lists. Also it is optimized to work with latest CPU architectures."
   ]
  },
  {
   "cell_type": "markdown",
   "metadata": {
    "id": "XBoUeAL2Se_q"
   },
   "source": [
    "## **Creating NumPy Arrays**"
   ]
  },
  {
   "cell_type": "code",
   "execution_count": null,
   "metadata": {
    "id": "YMPW6QHfVcxe"
   },
   "outputs": [],
   "source": [
    "import numpy as np    ## Use np as an alias for numpy"
   ]
  },
  {
   "cell_type": "markdown",
   "metadata": {
    "id": "myGHhYNlSe9m"
   },
   "source": [
    "### **np.array()**"
   ]
  },
  {
   "cell_type": "markdown",
   "metadata": {
    "id": "MbUNvjOWVp4E"
   },
   "source": [
    "NumPy is used to work with arrays. The array object in NumPy is called ndarray.\n",
    "\n",
    "We can create a NumPy ndarray object by using the array() function.\n",
    "\n",
    "**Syntax**\n",
    "\n",
    "    numpy.array(object, dtype=None, *, copy=True, order='K', subok=False, ndmin=0, like=None)\n",
    "\n",
    "**Parameters**\n",
    "\n",
    "1. **object :** array_like\n",
    "\n",
    "    An array, any object exposing the array interface, an object whose __array__ method returns an array, or any (nested) sequence.\n",
    "\n",
    "2. **dtype :** data-type, optional\n",
    "\n",
    "    The desired data-type for the array. If not given, then the type will be determined as the minimum type required to hold the objects in the sequence.\n",
    "\n",
    "3. **copy :** bool, optional\n",
    "\n",
    "    If true (default), then the object is copied. Otherwise, a copy will only be made if __array__ returns a copy, if obj is a nested sequence, or if a copy is needed to satisfy any of the other requirements (dtype, order, etc.)."
   ]
  },
  {
   "cell_type": "code",
   "execution_count": null,
   "metadata": {
    "colab": {
     "base_uri": "https://localhost:8080/"
    },
    "id": "gYI2IHIIVpeR",
    "outputId": "c51861c1-d18b-444f-b80b-a29798a5e832"
   },
   "outputs": [
    {
     "name": "stdout",
     "output_type": "stream",
     "text": [
      "[1 2 3]\n",
      "<class 'numpy.ndarray'>\n"
     ]
    }
   ],
   "source": [
    "a = [1, 2, 3]\n",
    "b = np.array(a)\n",
    "print(b)\n",
    "print(type(b))"
   ]
  },
  {
   "cell_type": "code",
   "execution_count": null,
   "metadata": {
    "colab": {
     "base_uri": "https://localhost:8080/"
    },
    "id": "zuQ-FyiqVoqo",
    "outputId": "61c21697-9e99-437c-9f5c-35801ec94feb"
   },
   "outputs": [
    {
     "name": "stdout",
     "output_type": "stream",
     "text": [
      "['1' '2' '3' '5' '4.5']\n"
     ]
    }
   ],
   "source": [
    "a = [1, 2, 3, '5', 4.5]\n",
    "b = np.array(a, dtype = str)\n",
    "print(b)"
   ]
  },
  {
   "cell_type": "code",
   "execution_count": null,
   "metadata": {
    "colab": {
     "base_uri": "https://localhost:8080/"
    },
    "id": "PK0kLV-zWOIU",
    "outputId": "f83ba840-0935-4f0d-cee2-563d44a7dccb"
   },
   "outputs": [
    {
     "name": "stdout",
     "output_type": "stream",
     "text": [
      "['1' '2' '3' '5' '4.5' '1' '2' '3' '5' '4.5' '1' '2' '3' '5' '4.5']\n"
     ]
    }
   ],
   "source": [
    "a = [1, 2, 3, '5', 4.5]\n",
    "b = np.array(a * 3)\n",
    "print(b)"
   ]
  },
  {
   "cell_type": "markdown",
   "metadata": {
    "id": "yR1G1kzjSe7P"
   },
   "source": [
    "### **np.ones()**"
   ]
  },
  {
   "cell_type": "markdown",
   "metadata": {
    "id": "3sQy_GTZWfc7"
   },
   "source": [
    "**Syntax**\n",
    "\n",
    "    numpy.ones(shape, dtype=None, order='C', *, like=None)\n",
    "\n",
    "This function returns a new array of given shape and type, filled with ones.\n",
    "\n",
    "**Parameters**\n",
    "1. **shape :** int or sequence of ints\n",
    "\n",
    "    Shape of the new array, e.g., (2, 3) or 2.\n",
    "\n",
    "2. **dtype :** data-type, optional\n",
    "\n",
    "    The desired data-type for the array, e.g., numpy.int8. Default is numpy.float64.\n",
    "\n",
    "3. **order :** {‘C’, ‘F’}, optional, default: C\n",
    "\n",
    "    Whether to store multi-dimensional data in row-major (C-style) or column-major (Fortran-style) order in memory.\n",
    "  \n",
    "4. **like :** array_like\n",
    "\n",
    "    Reference object to allow the creation of arrays which are not NumPy arrays. If an array-like passed in as like supports the __array_function__ protocol, the result will be defined by it. In this case, it ensures the creation of an array object compatible with that passed in via this argument."
   ]
  },
  {
   "cell_type": "code",
   "execution_count": null,
   "metadata": {
    "colab": {
     "base_uri": "https://localhost:8080/"
    },
    "id": "B_SVohnFW9PD",
    "outputId": "a34f6012-2528-4868-8699-c5dc98bac14b"
   },
   "outputs": [
    {
     "data": {
      "text/plain": [
       "array([1, 1, 1])"
      ]
     },
     "execution_count": 25,
     "metadata": {
      "tags": []
     },
     "output_type": "execute_result"
    }
   ],
   "source": [
    "b = np.ones(3, dtype = int)\n",
    "b"
   ]
  },
  {
   "cell_type": "code",
   "execution_count": null,
   "metadata": {
    "colab": {
     "base_uri": "https://localhost:8080/"
    },
    "id": "FpOZJDlIW9Mt",
    "outputId": "ba46e9cf-107c-4435-b4ff-5fb1ea916a09"
   },
   "outputs": [
    {
     "data": {
      "text/plain": [
       "array([[1, 1, 1],\n",
       "       [1, 1, 1]])"
      ]
     },
     "execution_count": 26,
     "metadata": {
      "tags": []
     },
     "output_type": "execute_result"
    }
   ],
   "source": [
    "b = np.ones((2, 3), dtype = int)\n",
    "b"
   ]
  },
  {
   "cell_type": "markdown",
   "metadata": {
    "id": "OuBBpWeiSe1a"
   },
   "source": [
    "### **np.zeros()**"
   ]
  },
  {
   "cell_type": "markdown",
   "metadata": {
    "id": "PL6L3f2NXKVy"
   },
   "source": [
    "**Syntax**\n",
    "\n",
    "    numpy.zeros(shape, dtype=float, order='C', *, like=None)\n",
    "\n",
    "This returns a new array of given shape and type, filled with zeros.\n",
    "\n",
    "**Parameters**\n",
    "1. **shape :** int or tuple of ints\n",
    "\n",
    "    Shape of the new array, e.g., (2, 3) or 2.\n",
    "\n",
    "1. **dtype :** data-type, optional\n",
    "\n",
    "    The desired data-type for the array, e.g., numpy.int8. Default is numpy.float64.\n",
    "\n",
    "3. **order :** {‘C’, ‘F’}, optional, default: ‘C’\n",
    "\n",
    "    Whether to store multi-dimensional data in row-major (C-style) or column-major (Fortran-style) order in memory.\n"
   ]
  },
  {
   "cell_type": "code",
   "execution_count": null,
   "metadata": {
    "colab": {
     "base_uri": "https://localhost:8080/"
    },
    "id": "7y5mmZXTXPMy",
    "outputId": "f837b22f-4a14-451e-f6d8-4ce5904cdc52"
   },
   "outputs": [
    {
     "data": {
      "text/plain": [
       "array([0, 0, 0])"
      ]
     },
     "execution_count": 27,
     "metadata": {
      "tags": []
     },
     "output_type": "execute_result"
    }
   ],
   "source": [
    "b = np.zeros(3, dtype = int)\n",
    "b"
   ]
  },
  {
   "cell_type": "code",
   "execution_count": null,
   "metadata": {
    "colab": {
     "base_uri": "https://localhost:8080/"
    },
    "id": "zv3OA8BFXPEz",
    "outputId": "5a1e105d-6cc9-4821-d870-5ec4562c875d"
   },
   "outputs": [
    {
     "data": {
      "text/plain": [
       "array([[0., 0., 0., 0.],\n",
       "       [0., 0., 0., 0.],\n",
       "       [0., 0., 0., 0.]])"
      ]
     },
     "execution_count": 28,
     "metadata": {
      "tags": []
     },
     "output_type": "execute_result"
    }
   ],
   "source": [
    "b = np.zeros((3, 4))\n",
    "b"
   ]
  },
  {
   "cell_type": "markdown",
   "metadata": {
    "id": "UsFrFCtRSemk"
   },
   "source": [
    "### **np.full()**"
   ]
  },
  {
   "cell_type": "markdown",
   "metadata": {
    "id": "kTRIAjdiXL1l"
   },
   "source": [
    "**Syntax**\n",
    "\n",
    "    numpy.full(shape, fill_value, dtype=None, order='C', *, like=None)\n",
    "\n",
    "Return a new array of given shape and type, filled with fill_value.\n",
    "\n",
    "**Parameters**\n",
    "1. **shape :** int or sequence of ints\n",
    "\n",
    "    Shape of the new array, e.g., (2, 3) or 2.\n",
    "\n",
    "2. **fill_value :** scalar or array_like\n",
    "\n",
    "    Fill value.\n",
    "\n",
    "3. **dtype :** data-type, optional\n",
    "\n",
    "    The desired data-type for the array The default, None, means\n",
    "    np.array(fill_value).dtype.\n",
    "\n",
    "3. **order :** {‘C’, ‘F’}, optional\n",
    "\n",
    "    Whether to store multidimensional data in C- or Fortran-contiguous (row- or column-wise) order in memory.\n",
    "\n"
   ]
  },
  {
   "cell_type": "code",
   "execution_count": null,
   "metadata": {
    "colab": {
     "base_uri": "https://localhost:8080/"
    },
    "id": "0iyhEdQcXRjG",
    "outputId": "2d0b0503-b7ac-423f-843e-46320e62d027"
   },
   "outputs": [
    {
     "data": {
      "text/plain": [
       "array([[5., 5., 5.],\n",
       "       [5., 5., 5.],\n",
       "       [5., 5., 5.]])"
      ]
     },
     "execution_count": 29,
     "metadata": {
      "tags": []
     },
     "output_type": "execute_result"
    }
   ],
   "source": [
    "b = np.full((3, 3), 5, dtype = float)\n",
    "b"
   ]
  },
  {
   "cell_type": "markdown",
   "metadata": {
    "id": "V9x7ORz2XFJ9"
   },
   "source": [
    "### **np.empty()**"
   ]
  },
  {
   "cell_type": "markdown",
   "metadata": {
    "id": "7YCzxboaXMdJ"
   },
   "source": [
    "**Syntax**\n",
    "\n",
    "    numpy.empty(shape, dtype=float, order='C', *, like=None)\n",
    "\n",
    "This returns a new array of given shape and type, without initializing entries.\n",
    "\n",
    "**Parameters**\n",
    "1. **shape :** int or tuple of int\n",
    "\n",
    "    Shape of the empty array, e.g., (2, 3) or 2.\n",
    "\n",
    "2. **dtype :** data-type, optional\n",
    "\n",
    "    Desired output data-type for the array, e.g, numpy.int8. Default is numpy.float64.\n",
    "\n",
    "3. **order :** {‘C’, ‘F’}, optional, default: ‘C’\n",
    "\n",
    "    Whether to store multi-dimensional data in row-major (C-style) or column-major (Fortran-style) order in memory.\n"
   ]
  },
  {
   "cell_type": "code",
   "execution_count": null,
   "metadata": {
    "colab": {
     "base_uri": "https://localhost:8080/"
    },
    "id": "C9CZJjffXe82",
    "outputId": "a7fbe783-fb96-48fc-ae80-e2e51aeffbb7"
   },
   "outputs": [
    {
     "data": {
      "text/plain": [
       "array([[5.e-324, 5.e-324],\n",
       "       [5.e-324, 0.e+000]])"
      ]
     },
     "execution_count": 30,
     "metadata": {
      "tags": []
     },
     "output_type": "execute_result"
    }
   ],
   "source": [
    "np.empty([2, 2])             # uninitialized"
   ]
  },
  {
   "cell_type": "code",
   "execution_count": null,
   "metadata": {
    "colab": {
     "base_uri": "https://localhost:8080/"
    },
    "id": "3KMBRyxNXgr-",
    "outputId": "6098f9ac-6b7b-45e0-e245-b6962bc35f45"
   },
   "outputs": [
    {
     "data": {
      "text/plain": [
       "array([[           43490272, 6868628531463585792],\n",
       "       [6854015001108239443, 5572446284745688131]])"
      ]
     },
     "execution_count": 32,
     "metadata": {
      "tags": []
     },
     "output_type": "execute_result"
    }
   ],
   "source": [
    "np.empty([2, 2], dtype=int)              # uninitialized"
   ]
  },
  {
   "cell_type": "markdown",
   "metadata": {
    "id": "O-__DyjnXpJy"
   },
   "source": [
    "**Note:** You will get a different result each time you execute using empty, as the array formed will always be uninitialised."
   ]
  },
  {
   "cell_type": "markdown",
   "metadata": {
    "id": "n8fQOkyZZF2g"
   },
   "source": [
    "### **np.arange()**"
   ]
  },
  {
   "cell_type": "markdown",
   "metadata": {
    "id": "0U4qs649ZFvO"
   },
   "source": [
    "**Syntax**\n",
    "\n",
    "    numpy.arange([start, ]stop, [step, ]dtype=None, *, like=None)\n",
    "\n",
    "This returns evenly spaced values within a given interval.\n",
    "\n",
    "Values are generated within the half-open interval [start, stop) (in other words, the interval including start but excluding stop). For integer arguments the function is equivalent to the Python built-in range function, but returns an ndarray rather than a list.\n",
    "\n",
    "When using a non-integer step, such as 0.1, the results will often not be consistent. It is better to use numpy.linspace for these cases.\n",
    "\n",
    "**Parameters**\n",
    "1. **start :** integer or real, optional\n",
    "\n",
    "    Start of interval. The interval includes this value. The default start value is 0.\n",
    "\n",
    "2. **stop :** integer or real\n",
    "\n",
    "    End of interval. The interval does not include this value, except in some cases where step is not an integer and floating point round-off affects the length of out.\n",
    "\n",
    "3. **step :** integer or real, optional\n",
    "\n",
    "    Spacing between values. For any output out, this is the distance between two adjacent values, out[i+1] - out[i]. The default step size is 1. If step is specified as a position argument, start must also be given.\n",
    "\n",
    "4. **dtype :** dtype\n",
    "\n",
    "    The type of the output array. If dtype is not given, infer the data type from the other input arguments."
   ]
  },
  {
   "cell_type": "code",
   "execution_count": null,
   "metadata": {
    "colab": {
     "base_uri": "https://localhost:8080/"
    },
    "id": "08L5dSIbZcgr",
    "outputId": "ec1b2fd9-dc99-4a28-cd91-bfc676f3b677"
   },
   "outputs": [
    {
     "data": {
      "text/plain": [
       "array([0, 1, 2, 3, 4, 5, 6, 7, 8, 9])"
      ]
     },
     "execution_count": 33,
     "metadata": {
      "tags": []
     },
     "output_type": "execute_result"
    }
   ],
   "source": [
    "b = np.arange(10)\n",
    "b"
   ]
  },
  {
   "cell_type": "code",
   "execution_count": null,
   "metadata": {
    "colab": {
     "base_uri": "https://localhost:8080/"
    },
    "id": "9P7l252OZc7w",
    "outputId": "1d2ea31e-a7f9-4554-c822-b126df9c9e21"
   },
   "outputs": [
    {
     "data": {
      "text/plain": [
       "array([2, 3, 4, 5, 6, 7, 8, 9])"
      ]
     },
     "execution_count": 34,
     "metadata": {
      "tags": []
     },
     "output_type": "execute_result"
    }
   ],
   "source": [
    "b = np.arange(2, 10)\n",
    "b"
   ]
  },
  {
   "cell_type": "code",
   "execution_count": null,
   "metadata": {
    "colab": {
     "base_uri": "https://localhost:8080/"
    },
    "id": "MsH88cQBZfs9",
    "outputId": "c4bf9ffe-2cc4-4179-8dff-7ce6a8e2c911"
   },
   "outputs": [
    {
     "data": {
      "text/plain": [
       "array([ 2,  4,  6,  8, 10, 12, 14, 16, 18])"
      ]
     },
     "execution_count": 35,
     "metadata": {
      "tags": []
     },
     "output_type": "execute_result"
    }
   ],
   "source": [
    "b = np.arange(2, 20, 2)\n",
    "b"
   ]
  },
  {
   "cell_type": "markdown",
   "metadata": {
    "id": "n9XvqcPzZFsI"
   },
   "source": [
    "### **np.linspace()**"
   ]
  },
  {
   "cell_type": "markdown",
   "metadata": {
    "id": "K6c-g2kxZFpK"
   },
   "source": [
    "**Syntax**\n",
    "\n",
    "    numpy.linspace(start, stop, num=50, endpoint=True, retstep=False, dtype=None, axis=0)[source]\n",
    "This returns evenly spaced numbers over a specified interval.\n",
    "\n",
    "\n",
    "The endpoint of the interval can optionally be excluded.\n",
    "\n",
    "**Parameters**\n",
    "\n",
    "1. **start :** array_like\n",
    "    The starting value of the sequence.\n",
    "\n",
    "2. **stop :** array_like\n",
    "\n",
    "    The end value of the sequence, unless endpoint is set to False. In that case, the sequence consists of all but the last of num + 1 evenly spaced samples, so that stop is excluded. Note that the step size changes when endpoint is False.\n",
    "\n",
    "3. **num :** int, optional\n",
    "\n",
    "    Number of samples to generate. Default is 50. Must be non-negative.\n",
    "\n",
    "4. **endpoint :** bool, optional\n",
    "\n",
    "    If True, stop is the last sample. Otherwise, it is not included. Default is True.\n",
    "\n",
    "5. **retstep :** bool, optional\n",
    "\n",
    "    If True, return (samples, step), where step is the spacing between samples.\n",
    "\n",
    "6. **dtype :** dtype, optional\n",
    "\n",
    "    The type of the output array. If dtype is not given, the data type is inferred from start and stop. The inferred dtype will never be an integer; float is chosen even if the arguments would produce an array of integers.\n",
    "\n",
    "\n",
    "7. **axis :** int, optional\n",
    "\n",
    "    The axis in the result to store the samples. Relevant only if start or stop are array-like. By default (0), the samples will be along a new axis inserted at the beginning. Use -1 to get an axis at the end.\n",
    "\n"
   ]
  },
  {
   "cell_type": "code",
   "execution_count": null,
   "metadata": {
    "colab": {
     "base_uri": "https://localhost:8080/"
    },
    "id": "1EGRUOpaZ-Iq",
    "outputId": "5d5a72f4-eb6c-4ff3-a4a0-2dda344e2cc2"
   },
   "outputs": [
    {
     "name": "stdout",
     "output_type": "stream",
     "text": [
      "0.16326530612244916\n",
      "0.16326530612244916\n"
     ]
    }
   ],
   "source": [
    "b = np.linspace(2, 10)\n",
    "b\n",
    "print(b[1] - b[0])\n",
    "print(b[3] - b[2])"
   ]
  },
  {
   "cell_type": "code",
   "execution_count": null,
   "metadata": {
    "colab": {
     "base_uri": "https://localhost:8080/"
    },
    "id": "PRqUfJD_Z-GS",
    "outputId": "ae94e82f-5cf5-481a-ddb8-4a62261f12c6"
   },
   "outputs": [
    {
     "data": {
      "text/plain": [
       "array([2, 3, 5, 6, 8])"
      ]
     },
     "execution_count": 37,
     "metadata": {
      "tags": []
     },
     "output_type": "execute_result"
    }
   ],
   "source": [
    "b = np.linspace(2, 10, 5, dtype = int, endpoint = False)\n",
    "b"
   ]
  },
  {
   "cell_type": "markdown",
   "metadata": {
    "id": "iMAD9St-ZFmK"
   },
   "source": [
    "**The difference between np.arange() and np.linspace() is that, using arange() we actually have control over step value, and using linspace() we have control over the number of values we want to generate.**"
   ]
  },
  {
   "cell_type": "markdown",
   "metadata": {
    "id": "r1jmlREYZFjN"
   },
   "source": [
    "### **np.identity()**\n",
    "\n"
   ]
  },
  {
   "cell_type": "markdown",
   "metadata": {
    "id": "QWDaE20Sb405"
   },
   "source": [
    "**Syntax**\n",
    "\n",
    "    numpy.identity(n, dtype=None, *, like=None)\n",
    "This returns the identity array.\n",
    "\n",
    "The identity array is a **square array** with ones on the main diagonal.\n",
    "\n",
    "**Parameters**\n",
    "\n",
    "1. **n :** int\n",
    "    Number of rows (and columns) in n x n output.\n",
    "\n",
    "2. **dtype :** data-type, optional\n",
    "    Data-type of the output. Defaults to float.\n",
    "\n"
   ]
  },
  {
   "cell_type": "code",
   "execution_count": null,
   "metadata": {
    "colab": {
     "base_uri": "https://localhost:8080/"
    },
    "id": "1yYpr_M0bXh5",
    "outputId": "838791e4-8f65-4aef-c340-9f3d7f947a70"
   },
   "outputs": [
    {
     "data": {
      "text/plain": [
       "array([[1., 0., 0.],\n",
       "       [0., 1., 0.],\n",
       "       [0., 0., 1.]])"
      ]
     },
     "execution_count": 38,
     "metadata": {
      "tags": []
     },
     "output_type": "execute_result"
    }
   ],
   "source": [
    "b = np.identity(3)\n",
    "b"
   ]
  },
  {
   "cell_type": "markdown",
   "metadata": {
    "id": "HphCVsIRZFgU"
   },
   "source": [
    "### **np.eye()**"
   ]
  },
  {
   "cell_type": "markdown",
   "metadata": {
    "id": "mSx3d4BOb5tj"
   },
   "source": [
    "**Syntax**\n",
    "\n",
    "    numpy.eye(N, M=None, k=0, dtype=<class 'float'>, order='C', *, like=None)\n",
    "\n",
    "This returns a **2-D array** with ones on the diagonal and zeros elsewhere.\n",
    "\n",
    "**Parameters**\n",
    "1. **N :** int\n",
    "\n",
    "    Number of rows in the output.\n",
    "\n",
    "1. **M :** int, optional\n",
    "\n",
    "    Number of columns in the output. If None, defaults to N.\n",
    "\n",
    "1. **k :** int, optional\n",
    "\n",
    "    Index of the diagonal: 0 (the default) refers to the main diagonal, a positive value refers to an upper diagonal, and a negative value to a lower diagonal.\n",
    "\n",
    "1. **dtype :** data-type, optional\n",
    "\n",
    "    Data-type of the returned array.\n",
    "\n",
    "1. **order :** {‘C’, ‘F’}, optional\n",
    "\n",
    "    Whether the output should be stored in row-major (C-style) or column-major (Fortran-style) order in memory.\n",
    "\n"
   ]
  },
  {
   "cell_type": "code",
   "execution_count": null,
   "metadata": {
    "id": "z-d7sidUbYO_"
   },
   "outputs": [],
   "source": [
    "b = np.eye(3, 4)\n",
    "b"
   ]
  },
  {
   "cell_type": "markdown",
   "metadata": {
    "id": "bEMyXW1GZFWB"
   },
   "source": [
    "### **np.random.rand()**\n"
   ]
  },
  {
   "cell_type": "markdown",
   "metadata": {
    "id": "qELJp9J8c6zK"
   },
   "source": [
    "**Syntax**\n",
    "\n",
    "    np.random.rand(d0, d1, ..., dn)\n",
    "\n",
    "This returns random values in a given shape.\n",
    "\n",
    "**Parameters**\n",
    "1. **d0, d1, …, dn :** int, optional\n",
    "\n",
    "    The dimensions of the returned array, must be non-negative. If no argument is given a single Python float is returned.\n",
    "\n"
   ]
  },
  {
   "cell_type": "code",
   "execution_count": null,
   "metadata": {
    "colab": {
     "base_uri": "https://localhost:8080/"
    },
    "id": "0Ik5KtfVbcCA",
    "outputId": "43781009-f5bb-4f6a-e6e9-703dcef99793"
   },
   "outputs": [
    {
     "data": {
      "text/plain": [
       "array([6.36252717, 5.46331891, 0.49020069, 1.23093931, 9.64687412,\n",
       "       8.52428849, 8.59851532, 1.07664848, 0.35596578, 2.98403531])"
      ]
     },
     "execution_count": 39,
     "metadata": {
      "tags": []
     },
     "output_type": "execute_result"
    }
   ],
   "source": [
    "## To generate values in range 0 - 10, we simply multiply by 10\n",
    "b = np.random.rand(10) * 10    \n",
    "b"
   ]
  },
  {
   "cell_type": "code",
   "execution_count": null,
   "metadata": {
    "colab": {
     "base_uri": "https://localhost:8080/"
    },
    "id": "lEELWx5ubb5v",
    "outputId": "3967cee7-f19c-4133-cac5-71b81a04150f"
   },
   "outputs": [
    {
     "data": {
      "text/plain": [
       "array([[0.99036289, 0.86868431, 0.83913126],\n",
       "       [0.99637935, 0.38461734, 0.96949518]])"
      ]
     },
     "execution_count": 40,
     "metadata": {
      "tags": []
     },
     "output_type": "execute_result"
    }
   ],
   "source": [
    "b = np.random.rand(2, 3)\n",
    "b"
   ]
  },
  {
   "cell_type": "markdown",
   "metadata": {
    "id": "sjwLSN_QZFSU"
   },
   "source": [
    "### **np.random.randint()**"
   ]
  },
  {
   "cell_type": "markdown",
   "metadata": {
    "id": "mVZrgsvPcngO"
   },
   "source": [
    "**Syntax**\n",
    "\n",
    "    random.randint(low, high=None, size=None, dtype=int)\n",
    "\n",
    "This returns random integers from low (inclusive) to high (exclusive).\n",
    "\n",
    "\n",
    "**Parameters**\n",
    "1. **low :** int or array-like of ints\n",
    "\n",
    "    Lowest (signed) integers to be drawn from the distribution (unless high=None, in which case this parameter is one above the highest such integer).\n",
    "\n",
    "1. **high :** int or array-like of ints, optional\n",
    "\n",
    "    If provided, one above the largest (signed) integer to be drawn from the distribution (see above for behavior if high=None). If array-like, must contain integer values\n",
    "\n",
    "1. **size :** int or tuple of ints, optional\n",
    "\n",
    "    Output shape. If the given shape is, e.g., (m, n, k), then m * n * k samples are drawn. Default is None, in which case a single value is returned.\n",
    "\n",
    "1. **dtype :** dtype, optional\n",
    "\n",
    "    Desired dtype of the result. Byteorder must be native. The default value is int.\n"
   ]
  },
  {
   "cell_type": "code",
   "execution_count": null,
   "metadata": {
    "colab": {
     "base_uri": "https://localhost:8080/"
    },
    "id": "zCL9Qk42bjAu",
    "outputId": "7a92d27d-7d7c-47d4-d211-9aa55056d0d2"
   },
   "outputs": [
    {
     "data": {
      "text/plain": [
       "array([0, 1, 0, 0, 0, 1, 1, 1, 1, 1])"
      ]
     },
     "execution_count": 43,
     "metadata": {
      "tags": []
     },
     "output_type": "execute_result"
    }
   ],
   "source": [
    "np.random.randint(2, size=10)"
   ]
  },
  {
   "cell_type": "code",
   "execution_count": null,
   "metadata": {
    "colab": {
     "base_uri": "https://localhost:8080/"
    },
    "id": "upn5YEfnbj8Y",
    "outputId": "4b486517-4177-495d-faf5-caca99275d69"
   },
   "outputs": [
    {
     "data": {
      "text/plain": [
       "array([0, 0, 0, 0, 0, 0, 0, 0, 0, 0])"
      ]
     },
     "execution_count": 44,
     "metadata": {
      "tags": []
     },
     "output_type": "execute_result"
    }
   ],
   "source": [
    "np.random.randint(1, size=10)"
   ]
  },
  {
   "cell_type": "code",
   "execution_count": null,
   "metadata": {
    "colab": {
     "base_uri": "https://localhost:8080/"
    },
    "id": "jwy3vrC5d0jF",
    "outputId": "b8650042-8729-444f-d6bf-9fe9af6de621"
   },
   "outputs": [
    {
     "data": {
      "text/plain": [
       "array([[0, 0, 4, 1],\n",
       "       [2, 0, 1, 2]])"
      ]
     },
     "execution_count": 45,
     "metadata": {
      "tags": []
     },
     "output_type": "execute_result"
    }
   ],
   "source": [
    "np.random.randint(5, size=(2, 4))"
   ]
  },
  {
   "cell_type": "code",
   "execution_count": null,
   "metadata": {
    "colab": {
     "base_uri": "https://localhost:8080/"
    },
    "id": "9M_BL-7Yd2uw",
    "outputId": "0a099f2d-02d1-4ee9-dec3-be094d61a77e"
   },
   "outputs": [
    {
     "data": {
      "text/plain": [
       "array([1, 4, 6])"
      ]
     },
     "execution_count": 46,
     "metadata": {
      "tags": []
     },
     "output_type": "execute_result"
    }
   ],
   "source": [
    "np.random.randint(1, [3, 5, 10])"
   ]
  },
  {
   "cell_type": "markdown",
   "metadata": {
    "id": "RD950WLNe0x2"
   },
   "source": [
    "## **Indexing and Slicing**"
   ]
  },
  {
   "cell_type": "markdown",
   "metadata": {
    "id": "rfgYgAGOe3t0"
   },
   "source": [
    "Since we already know how to use indices and perform slicing in normal python lists, we shall see in comparison, how a numpy array does similar things."
   ]
  },
  {
   "cell_type": "markdown",
   "metadata": {
    "id": "gbZFLGB8fktp"
   },
   "source": [
    "### **1-D Arrays**"
   ]
  },
  {
   "cell_type": "code",
   "execution_count": null,
   "metadata": {
    "colab": {
     "base_uri": "https://localhost:8080/"
    },
    "id": "a0-Cduyie3b5",
    "outputId": "2d96e46b-29eb-4018-84fb-58fd3e618539"
   },
   "outputs": [
    {
     "name": "stdout",
     "output_type": "stream",
     "text": [
      "[1, 2, 3, 4, 5]\n",
      "[1 2 3 4 5]\n"
     ]
    }
   ],
   "source": [
    "import numpy as np\n",
    "\n",
    "li = [1, 2, 3, 4, 5]\n",
    "arr = np.array(li)\n",
    "\n",
    "print(li)\n",
    "print(arr)"
   ]
  },
  {
   "cell_type": "code",
   "execution_count": null,
   "metadata": {
    "colab": {
     "base_uri": "https://localhost:8080/"
    },
    "id": "P7y7gtBNfDOb",
    "outputId": "8176f482-2250-4a88-9951-be36c31d8c33"
   },
   "outputs": [
    {
     "name": "stdout",
     "output_type": "stream",
     "text": [
      "<memory at 0x7f55ef36f4c8>\n",
      "(5,)\n",
      "int64\n",
      "(8,)\n"
     ]
    }
   ],
   "source": [
    "print(arr.data)\n",
    "print(arr.shape)\n",
    "print(arr.dtype)\n",
    "## Refers to the memory gap between two elements of numpy array\n",
    "print(arr.strides)  "
   ]
  },
  {
   "cell_type": "code",
   "execution_count": null,
   "metadata": {
    "colab": {
     "base_uri": "https://localhost:8080/"
    },
    "id": "jrAVV3MGfDMA",
    "outputId": "77e9ed22-bca3-4181-88c3-fb4eca4d546b"
   },
   "outputs": [
    {
     "name": "stdout",
     "output_type": "stream",
     "text": [
      "4\n",
      "4\n"
     ]
    }
   ],
   "source": [
    "## Accessing elements\n",
    "print(li[3])\n",
    "print(arr[3])"
   ]
  },
  {
   "cell_type": "code",
   "execution_count": null,
   "metadata": {
    "colab": {
     "base_uri": "https://localhost:8080/"
    },
    "id": "EIjLTXZbfbI_",
    "outputId": "b69d6a29-9e42-4601-d0c7-a9e85bc5cb5d"
   },
   "outputs": [
    {
     "name": "stdout",
     "output_type": "stream",
     "text": [
      "[2, 3, 4]\n",
      "[2 3 4]\n"
     ]
    }
   ],
   "source": [
    "## Accessing more than one elements\n",
    "print(li[1:4])\n",
    "print(arr[1:4])"
   ]
  },
  {
   "cell_type": "markdown",
   "metadata": {
    "id": "vaqBkIrbfobc"
   },
   "source": [
    "### **2-D Arrays**"
   ]
  },
  {
   "cell_type": "code",
   "execution_count": null,
   "metadata": {
    "colab": {
     "base_uri": "https://localhost:8080/"
    },
    "id": "s-7B76ZmfDJx",
    "outputId": "ff4ae9e4-9d81-44fc-84d6-06bfbb413bda"
   },
   "outputs": [
    {
     "name": "stdout",
     "output_type": "stream",
     "text": [
      "[[1, 2, 3, 4], [5, 6, 7, 8], [9, 10, 11, 12], [13, 14, 15, 16]]\n",
      "[[ 1  2  3  4]\n",
      " [ 5  6  7  8]\n",
      " [ 9 10 11 12]\n",
      " [13 14 15 16]]\n"
     ]
    }
   ],
   "source": [
    "li_2d = [[1, 2, 3, 4], [5, 6, 7, 8], [9, 10, 11, 12], [13, 14, 15, 16]]\n",
    "arr_2d = np.array(li_2d)\n",
    "\n",
    "print(li_2d)\n",
    "print(arr_2d)"
   ]
  },
  {
   "cell_type": "code",
   "execution_count": null,
   "metadata": {
    "colab": {
     "base_uri": "https://localhost:8080/"
    },
    "id": "bYNzh-QpfDFT",
    "outputId": "7c3581ea-c24d-4cd5-e0a2-a368f487d43b"
   },
   "outputs": [
    {
     "name": "stdout",
     "output_type": "stream",
     "text": [
      "<memory at 0x7f55ef457b40>\n",
      "(4, 4)\n",
      "int64\n",
      "(32, 8)\n"
     ]
    }
   ],
   "source": [
    "print(arr_2d.data)\n",
    "print(arr_2d.shape)\n",
    "print(arr_2d.dtype)\n",
    "print(arr_2d.strides)"
   ]
  },
  {
   "cell_type": "code",
   "execution_count": null,
   "metadata": {
    "colab": {
     "base_uri": "https://localhost:8080/"
    },
    "id": "b_MoL_L_fDB_",
    "outputId": "fb64fb98-e2e2-462c-8c31-e66a84b626a9"
   },
   "outputs": [
    {
     "name": "stdout",
     "output_type": "stream",
     "text": [
      "10\n",
      "10\n",
      "10\n"
     ]
    }
   ],
   "source": [
    "## Accessing the elements\n",
    "print(li_2d[2][1])\n",
    "print(arr_2d[2][1])\n",
    "print(arr_2d[2, 1])   # We may use comma also"
   ]
  },
  {
   "cell_type": "code",
   "execution_count": null,
   "metadata": {
    "colab": {
     "base_uri": "https://localhost:8080/"
    },
    "id": "InedPZyufC_N",
    "outputId": "54ada034-ce4a-4cad-90c2-fcff395f3d9b"
   },
   "outputs": [
    {
     "name": "stdout",
     "output_type": "stream",
     "text": [
      "[5, 6, 7]\n",
      "[5 6 7]\n"
     ]
    }
   ],
   "source": [
    "## Slicing \n",
    "print(li_2d[1][:3])\n",
    "print(arr_2d[1, :3])"
   ]
  },
  {
   "cell_type": "markdown",
   "metadata": {
    "id": "qMssWSxEgLdR"
   },
   "source": [
    "For normal lists, we cannot get elements in column axis. Suppose we want to get elements of 1st, 2nd and 3rd row belonging only to the 2nd column, we may try this: "
   ]
  },
  {
   "cell_type": "code",
   "execution_count": null,
   "metadata": {
    "id": "tMTUiT6xfC9B"
   },
   "outputs": [],
   "source": [
    "print(li_2d[0:3][2])"
   ]
  },
  {
   "cell_type": "markdown",
   "metadata": {
    "id": "5NAP5em1gYix"
   },
   "source": [
    "But this does not work. Lets break it down into steps"
   ]
  },
  {
   "cell_type": "code",
   "execution_count": null,
   "metadata": {
    "colab": {
     "base_uri": "https://localhost:8080/"
    },
    "id": "Xo9-GAoKgbgJ",
    "outputId": "cf67eff6-ff1d-4f7c-8a2f-29785d9ffb2f"
   },
   "outputs": [
    {
     "name": "stdout",
     "output_type": "stream",
     "text": [
      "[[1, 2, 3, 4], [5, 6, 7, 8], [9, 10, 11, 12]]\n",
      "[9, 10, 11, 12]\n"
     ]
    }
   ],
   "source": [
    "x = li_2d[0:3]\n",
    "print(x)\n",
    "y = x[2]\n",
    "print(y)"
   ]
  },
  {
   "cell_type": "markdown",
   "metadata": {
    "id": "mfhx4DCCe0vf"
   },
   "source": [
    "This is easily possible in numpy arrays : "
   ]
  },
  {
   "cell_type": "code",
   "execution_count": null,
   "metadata": {
    "colab": {
     "base_uri": "https://localhost:8080/"
    },
    "id": "txJ6UsFFgjR_",
    "outputId": "42b2e58c-7365-4f1b-d864-d71f15630234"
   },
   "outputs": [
    {
     "name": "stdout",
     "output_type": "stream",
     "text": [
      "[ 3  7 11]\n"
     ]
    }
   ],
   "source": [
    "print(arr_2d[0 : 3, 2])"
   ]
  },
  {
   "cell_type": "markdown",
   "metadata": {
    "id": "F8DJI93ze0tO"
   },
   "source": [
    "We may also get multiple sliced rows and columns. Lets see how : "
   ]
  },
  {
   "cell_type": "code",
   "execution_count": null,
   "metadata": {
    "colab": {
     "base_uri": "https://localhost:8080/"
    },
    "id": "5q3nDuPQgrrv",
    "outputId": "d8862248-0f73-497e-95a2-77f9d2f791ea"
   },
   "outputs": [
    {
     "name": "stdout",
     "output_type": "stream",
     "text": [
      "[[10 11]\n",
      " [14 15]]\n",
      "[[13, 14, 15, 16]]\n"
     ]
    }
   ],
   "source": [
    "print(arr_2d[2:4, 1:3])\n",
    "print(li_2d[2:4][1:3])"
   ]
  },
  {
   "cell_type": "markdown",
   "metadata": {
    "id": "ESUogjk4grhk"
   },
   "source": [
    "## **Mathematical Operations**"
   ]
  },
  {
   "cell_type": "markdown",
   "metadata": {
    "id": "6BNt_okde0q-"
   },
   "source": [
    "Lets see how numpy arrays simplify mathematical operations for us."
   ]
  },
  {
   "cell_type": "markdown",
   "metadata": {
    "id": "Y6JBhgzah7gg"
   },
   "source": [
    "#### **Arithmetic Operations**"
   ]
  },
  {
   "cell_type": "code",
   "execution_count": null,
   "metadata": {
    "colab": {
     "base_uri": "https://localhost:8080/"
    },
    "id": "KPJ5MF40hEFD",
    "outputId": "487c766d-e72b-44a0-fc5f-54760c9ef1b1"
   },
   "outputs": [
    {
     "name": "stdout",
     "output_type": "stream",
     "text": [
      "[1, 2, 3, 4, 5]\n",
      "[ 3 19 18  8 19]\n",
      "[19  3  2  1 17]\n"
     ]
    }
   ],
   "source": [
    "import numpy as np\n",
    "\n",
    "li = [1, 2, 3, 4, 5]\n",
    "a = np.random.randint(1, 20, 5)\n",
    "b = np.random.randint(1, 20, 5)\n",
    "\n",
    "print(li)\n",
    "print(a)\n",
    "print(b)"
   ]
  },
  {
   "cell_type": "code",
   "execution_count": null,
   "metadata": {
    "colab": {
     "base_uri": "https://localhost:8080/"
    },
    "id": "edE9Y0KShHBh",
    "outputId": "cce203f1-fbb0-47a9-fcd8-4a4e092058d4"
   },
   "outputs": [
    {
     "data": {
      "text/plain": [
       "[2, 3, 4, 5, 6]"
      ]
     },
     "execution_count": 71,
     "metadata": {
      "tags": []
     },
     "output_type": "execute_result"
    }
   ],
   "source": [
    "## Adding 1 to each element in list\n",
    "li = [i+1 for i in li]\n",
    "li"
   ]
  },
  {
   "cell_type": "code",
   "execution_count": null,
   "metadata": {
    "colab": {
     "base_uri": "https://localhost:8080/"
    },
    "id": "NhnP2W4jhG_J",
    "outputId": "7a0db86e-e873-4503-980a-a07deaf72d2a"
   },
   "outputs": [
    {
     "data": {
      "text/plain": [
       "array([ 4, 20, 19,  9, 20])"
      ]
     },
     "execution_count": 72,
     "metadata": {
      "tags": []
     },
     "output_type": "execute_result"
    }
   ],
   "source": [
    "## Adding 1 to each element in numpy array\n",
    "a = a + 1\n",
    "a"
   ]
  },
  {
   "cell_type": "code",
   "execution_count": null,
   "metadata": {
    "colab": {
     "base_uri": "https://localhost:8080/"
    },
    "id": "YNGN_WCnhG9L",
    "outputId": "ad8600a1-7659-4751-813b-b87331f64c61"
   },
   "outputs": [
    {
     "data": {
      "text/plain": [
       "array([23, 23, 21, 10, 37])"
      ]
     },
     "execution_count": 73,
     "metadata": {
      "tags": []
     },
     "output_type": "execute_result"
    }
   ],
   "source": [
    "## Adding two numpy arrays\n",
    "c = a + b\n",
    "c"
   ]
  },
  {
   "cell_type": "code",
   "execution_count": null,
   "metadata": {
    "colab": {
     "base_uri": "https://localhost:8080/"
    },
    "id": "ixf3YkoGhG6v",
    "outputId": "4f501ad2-d665-42e8-80ae-a8a6ab3cf9bd"
   },
   "outputs": [
    {
     "data": {
      "text/plain": [
       "array([-15,  17,  17,   8,   3])"
      ]
     },
     "execution_count": 74,
     "metadata": {
      "tags": []
     },
     "output_type": "execute_result"
    }
   ],
   "source": [
    "## Subtracting two numpy arrays\n",
    "d = a - b\n",
    "d"
   ]
  },
  {
   "cell_type": "code",
   "execution_count": null,
   "metadata": {
    "colab": {
     "base_uri": "https://localhost:8080/"
    },
    "id": "hPTom7AphW93",
    "outputId": "304c09dd-c643-4535-842b-5aff78fd211e"
   },
   "outputs": [
    {
     "data": {
      "text/plain": [
       "array([ 76,  60,  38,   9, 340])"
      ]
     },
     "execution_count": 75,
     "metadata": {
      "tags": []
     },
     "output_type": "execute_result"
    }
   ],
   "source": [
    "## Multiplying two numpy arrays\n",
    "e = a * b\n",
    "e"
   ]
  },
  {
   "cell_type": "code",
   "execution_count": null,
   "metadata": {
    "colab": {
     "base_uri": "https://localhost:8080/"
    },
    "id": "1umaagXbhW38",
    "outputId": "4da3974b-e734-4715-d0cc-489d51c0a6e3"
   },
   "outputs": [
    {
     "data": {
      "text/plain": [
       "array([0.21052632, 6.66666667, 9.5       , 9.        , 1.17647059])"
      ]
     },
     "execution_count": 76,
     "metadata": {
      "tags": []
     },
     "output_type": "execute_result"
    }
   ],
   "source": [
    "## Dividing two numpy arrays\n",
    "f = a / b\n",
    "f"
   ]
  },
  {
   "cell_type": "code",
   "execution_count": null,
   "metadata": {
    "colab": {
     "base_uri": "https://localhost:8080/"
    },
    "id": "9ymCNzMthW1o",
    "outputId": "97fe6c62-a461-45f0-892a-ea6919200e83"
   },
   "outputs": [
    {
     "data": {
      "text/plain": [
       "array([        274877906944,                 8000,                  361,\n",
       "                          9, -8435036407491198976])"
      ]
     },
     "execution_count": 77,
     "metadata": {
      "tags": []
     },
     "output_type": "execute_result"
    }
   ],
   "source": [
    "h = a ** b\n",
    "h"
   ]
  },
  {
   "cell_type": "code",
   "execution_count": null,
   "metadata": {
    "colab": {
     "base_uri": "https://localhost:8080/"
    },
    "id": "5FbWwbe5hWzd",
    "outputId": "79f06e97-e71e-411f-f11a-a8a8fd3d75ba"
   },
   "outputs": [
    {
     "name": "stdout",
     "output_type": "stream",
     "text": [
      "[ 4 20 19  9 20]\n",
      "72\n",
      "14.4\n",
      "4\n",
      "0\n",
      "20\n",
      "1\n"
     ]
    }
   ],
   "source": [
    "## Some misc operations\n",
    "print(a)\n",
    "print(a.sum())    ## Sum of all elements\n",
    "print(a.mean())   ## Mean of all elements\n",
    "print(a.min())    ## Minimum of all elements\n",
    "print(a.argmin()) ## Index of minimum of all elements \n",
    "print(a.max())    ## Maximum of all elements\n",
    "print(a.argmax()) ## Index of maximum of all elements "
   ]
  },
  {
   "cell_type": "markdown",
   "metadata": {
    "id": "bCOFunnde0hn"
   },
   "source": [
    "#### **Logical Operations**"
   ]
  },
  {
   "cell_type": "code",
   "execution_count": null,
   "metadata": {
    "colab": {
     "base_uri": "https://localhost:8080/"
    },
    "id": "SKk-FZRdiFUt",
    "outputId": "d37506d1-16e9-4301-8c61-8eacac8a86f8"
   },
   "outputs": [
    {
     "name": "stdout",
     "output_type": "stream",
     "text": [
      "[ 4 20 19  9 20]\n",
      "[19  3  2  1 17]\n"
     ]
    }
   ],
   "source": [
    "print(a)\n",
    "print(b)"
   ]
  },
  {
   "cell_type": "code",
   "execution_count": null,
   "metadata": {
    "colab": {
     "base_uri": "https://localhost:8080/"
    },
    "id": "QOohR3FSiFPW",
    "outputId": "a1b6d89b-47d4-4e9c-8072-04d474b17d9c"
   },
   "outputs": [
    {
     "data": {
      "text/plain": [
       "array([False,  True,  True,  True,  True])"
      ]
     },
     "execution_count": 80,
     "metadata": {
      "tags": []
     },
     "output_type": "execute_result"
    }
   ],
   "source": [
    "a > b"
   ]
  },
  {
   "cell_type": "code",
   "execution_count": null,
   "metadata": {
    "colab": {
     "base_uri": "https://localhost:8080/"
    },
    "id": "qLhGwUsriFNP",
    "outputId": "2365e337-308b-4357-8a78-63f81ba5220b"
   },
   "outputs": [
    {
     "data": {
      "text/plain": [
       "array([ True, False, False, False, False])"
      ]
     },
     "execution_count": 81,
     "metadata": {
      "tags": []
     },
     "output_type": "execute_result"
    }
   ],
   "source": [
    "a < b"
   ]
  },
  {
   "cell_type": "code",
   "execution_count": null,
   "metadata": {
    "colab": {
     "base_uri": "https://localhost:8080/"
    },
    "id": "ieKOEU-JiFLB",
    "outputId": "89f94a50-9d28-4642-98b2-2fdeb779ff25"
   },
   "outputs": [
    {
     "data": {
      "text/plain": [
       "array([False, False, False, False, False])"
      ]
     },
     "execution_count": 82,
     "metadata": {
      "tags": []
     },
     "output_type": "execute_result"
    }
   ],
   "source": [
    "a == b"
   ]
  },
  {
   "cell_type": "code",
   "execution_count": null,
   "metadata": {
    "colab": {
     "base_uri": "https://localhost:8080/"
    },
    "id": "BeIFAlU4iFJD",
    "outputId": "4e0ab7b9-8362-475f-8e57-e4e1168b28b7"
   },
   "outputs": [
    {
     "name": "stdout",
     "output_type": "stream",
     "text": [
      "[ True  True  True  True  True]\n",
      "[ True  True  True  True  True]\n"
     ]
    }
   ],
   "source": [
    "print(np.logical_or(a, b))\n",
    "print(np.logical_and(a, b))"
   ]
  },
  {
   "cell_type": "code",
   "execution_count": null,
   "metadata": {
    "colab": {
     "base_uri": "https://localhost:8080/"
    },
    "id": "45l8xSTniFGr",
    "outputId": "c6e8e16b-aa07-4b40-a6df-8902cf64d6c8"
   },
   "outputs": [
    {
     "name": "stdout",
     "output_type": "stream",
     "text": [
      "[ 4 20  0  9 20]\n",
      "[False False  True False False]\n"
     ]
    }
   ],
   "source": [
    "a[2] = 0\n",
    "print(a)\n",
    "print(np.logical_not(a))"
   ]
  },
  {
   "cell_type": "markdown",
   "metadata": {
    "id": "edETT1boiYxE"
   },
   "source": [
    "**Try all these operations for 2-D arrays also.**"
   ]
  },
  {
   "cell_type": "markdown",
   "metadata": {
    "id": "Ey9GxcScIXFW"
   },
   "source": [
    "## **Boolean Indexing**"
   ]
  },
  {
   "cell_type": "markdown",
   "metadata": {
    "id": "ODPscmQLIaP5"
   },
   "source": [
    "NumPy also permits the use of a boolean-valued array as an index, to perform advanced indexing on an array. In its simplest form, this is an extremely intuitive and elegant method for selecting contents from an array based on logical conditions."
   ]
  },
  {
   "cell_type": "markdown",
   "metadata": {
    "id": "fTbCFHOzJ1s3"
   },
   "source": [
    "### **1D Arrays**"
   ]
  },
  {
   "cell_type": "markdown",
   "metadata": {
    "id": "2pwQPSs4IrGm"
   },
   "source": [
    "Let us see an example"
   ]
  },
  {
   "cell_type": "code",
   "execution_count": null,
   "metadata": {
    "id": "xsHRMHhxI1iH"
   },
   "outputs": [],
   "source": [
    "import numpy as np"
   ]
  },
  {
   "cell_type": "code",
   "execution_count": null,
   "metadata": {
    "colab": {
     "base_uri": "https://localhost:8080/"
    },
    "id": "lwD9jF6OI0Yx",
    "outputId": "6836a70e-ca65-4886-c7a8-5aca8ccf0cf6"
   },
   "outputs": [
    {
     "name": "stdout",
     "output_type": "stream",
     "text": [
      "[15  6  2 19 12 12  2  5]\n"
     ]
    }
   ],
   "source": [
    "b = np.random.randint(1, 20, 8)\n",
    "print(b)"
   ]
  },
  {
   "cell_type": "code",
   "execution_count": null,
   "metadata": {
    "colab": {
     "base_uri": "https://localhost:8080/"
    },
    "id": "7LIlaOdaI131",
    "outputId": "163c874a-30a8-4b7f-a7c2-2fd0ada485ca"
   },
   "outputs": [
    {
     "name": "stdout",
     "output_type": "stream",
     "text": [
      "[ True False False  True  True  True False False]\n"
     ]
    }
   ],
   "source": [
    "print(b > 10)"
   ]
  },
  {
   "cell_type": "code",
   "execution_count": null,
   "metadata": {
    "colab": {
     "base_uri": "https://localhost:8080/"
    },
    "id": "8oNwaczvI9aB",
    "outputId": "d5583bb8-1fe2-4f9b-a9f8-f4603e01fd9c"
   },
   "outputs": [
    {
     "name": "stdout",
     "output_type": "stream",
     "text": [
      "[ True False False  True  True  True False False]\n",
      "[15 19 12 12]\n"
     ]
    }
   ],
   "source": [
    "bool_arr = b > 10\n",
    "print(bool_arr)\n",
    "new_arr = b[bool_arr]\n",
    "print(new_arr)"
   ]
  },
  {
   "cell_type": "markdown",
   "metadata": {
    "id": "wT2peoYLJEv1"
   },
   "source": [
    "As you see, we are able to extract those elements for which the condition b > 10 was True.\n",
    "\n",
    "In shorthand, we may do the following :"
   ]
  },
  {
   "cell_type": "code",
   "execution_count": null,
   "metadata": {
    "colab": {
     "base_uri": "https://localhost:8080/"
    },
    "id": "2rKeJJTUJBco",
    "outputId": "d1721de6-5a1f-484d-d0a3-16574d0e4c46"
   },
   "outputs": [
    {
     "data": {
      "text/plain": [
       "array([15, 19, 12, 12])"
      ]
     },
     "execution_count": 9,
     "metadata": {
      "tags": []
     },
     "output_type": "execute_result"
    }
   ],
   "source": [
    "new_arr = b[b > 10]\n",
    "new_arr"
   ]
  },
  {
   "cell_type": "markdown",
   "metadata": {
    "id": "h4ecvM02JPLx"
   },
   "source": [
    "Some more examples : "
   ]
  },
  {
   "cell_type": "code",
   "execution_count": null,
   "metadata": {
    "colab": {
     "base_uri": "https://localhost:8080/"
    },
    "id": "sB6KtS3HJOMc",
    "outputId": "66e0ecf1-fb03-4c77-f368-0079a977f58a"
   },
   "outputs": [
    {
     "data": {
      "text/plain": [
       "array([15, 12, 12])"
      ]
     },
     "execution_count": 10,
     "metadata": {
      "tags": []
     },
     "output_type": "execute_result"
    }
   ],
   "source": [
    "new_arr = b[(b > 10) & (b < 18)]\n",
    "new_arr"
   ]
  },
  {
   "cell_type": "code",
   "execution_count": null,
   "metadata": {
    "colab": {
     "base_uri": "https://localhost:8080/"
    },
    "id": "PFRaCGVpJRNl",
    "outputId": "19c43586-7a2c-4cd3-cf72-bc33d60ea171"
   },
   "outputs": [
    {
     "name": "stdout",
     "output_type": "stream",
     "text": [
      "[15  6  2 19 12 12  2  5]\n"
     ]
    },
    {
     "data": {
      "text/plain": [
       "array([15,  6,  2, 19, 12, 12,  2,  5])"
      ]
     },
     "execution_count": 11,
     "metadata": {
      "tags": []
     },
     "output_type": "execute_result"
    }
   ],
   "source": [
    "print(b)\n",
    "c = b\n",
    "c"
   ]
  },
  {
   "cell_type": "markdown",
   "metadata": {
    "id": "1p0pw-YjJgTf"
   },
   "source": [
    "In the next example, we will update some elements on basis of a condition."
   ]
  },
  {
   "cell_type": "code",
   "execution_count": null,
   "metadata": {
    "colab": {
     "base_uri": "https://localhost:8080/"
    },
    "id": "uRnDC2RcJY1I",
    "outputId": "643af31b-d8cb-44d6-c31c-3429dd0b8617"
   },
   "outputs": [
    {
     "name": "stdout",
     "output_type": "stream",
     "text": [
      "[19 19 19 19 12 12  2  5]\n"
     ]
    },
    {
     "data": {
      "text/plain": [
       "array([100, 100, 100, 100,  12,  12,   2,   5])"
      ]
     },
     "execution_count": 12,
     "metadata": {
      "tags": []
     },
     "output_type": "execute_result"
    }
   ],
   "source": [
    "c[:3] = 19\n",
    "print(c)\n",
    "c[c > 15] = 100\n",
    "c"
   ]
  },
  {
   "cell_type": "code",
   "execution_count": null,
   "metadata": {
    "colab": {
     "base_uri": "https://localhost:8080/"
    },
    "id": "TlH2ZHSnJcXc",
    "outputId": "c332fd3d-92e5-42df-d2a2-c026103c677d"
   },
   "outputs": [
    {
     "name": "stdout",
     "output_type": "stream",
     "text": [
      "[100 100 100 100  12  12   2   5]\n",
      "[100 100 100 100]\n"
     ]
    }
   ],
   "source": [
    "print(b)\n",
    "print(b[b == 100])"
   ]
  },
  {
   "cell_type": "code",
   "execution_count": null,
   "metadata": {
    "colab": {
     "base_uri": "https://localhost:8080/"
    },
    "id": "XqZJiNonJnnY",
    "outputId": "fba5844e-9a6c-435d-cd36-4d175207907e"
   },
   "outputs": [
    {
     "data": {
      "text/plain": [
       "(array([0, 1, 2, 3]),)"
      ]
     },
     "execution_count": 14,
     "metadata": {
      "tags": []
     },
     "output_type": "execute_result"
    }
   ],
   "source": [
    "## To get those indiced where element is 100\n",
    "ind = np.where(b == 100)\n",
    "ind"
   ]
  },
  {
   "cell_type": "markdown",
   "metadata": {
    "id": "grgzrKQ5J534"
   },
   "source": [
    "### **2D Arrays**"
   ]
  },
  {
   "cell_type": "markdown",
   "metadata": {
    "id": "5OCJJeasJ50T"
   },
   "source": [
    "2D arrays work the same as 1D arrays. Lets look at few examples"
   ]
  },
  {
   "cell_type": "code",
   "execution_count": null,
   "metadata": {
    "colab": {
     "base_uri": "https://localhost:8080/"
    },
    "id": "uDtAwo9bKCq3",
    "outputId": "0312be3a-6ff9-43a0-bdc0-c55ad3125a58"
   },
   "outputs": [
    {
     "name": "stdout",
     "output_type": "stream",
     "text": [
      "[[26  8 22 29 16 23]\n",
      " [26 10 15  5  8  8]\n",
      " [21 19  2  3 21 23]\n",
      " [23  4 25 29 21  2]\n",
      " [ 6 26 23 17  5 11]]\n"
     ]
    }
   ],
   "source": [
    "import numpy as np\n",
    "a = np.random.randint(1, 30, (5, 6))\n",
    "print(a)"
   ]
  },
  {
   "cell_type": "code",
   "execution_count": null,
   "metadata": {
    "colab": {
     "base_uri": "https://localhost:8080/"
    },
    "id": "RG2NmocxKFJU",
    "outputId": "ebad7671-2d65-4493-d738-40d7c1eb1ef2"
   },
   "outputs": [
    {
     "name": "stdout",
     "output_type": "stream",
     "text": [
      "[[ True False  True  True False  True]\n",
      " [ True False False False False False]\n",
      " [ True False False False  True  True]\n",
      " [ True False  True  True  True False]\n",
      " [False  True  True False False False]]\n"
     ]
    }
   ],
   "source": [
    "bool_arr = a > 20\n",
    "print(bool_arr)"
   ]
  },
  {
   "cell_type": "code",
   "execution_count": null,
   "metadata": {
    "colab": {
     "base_uri": "https://localhost:8080/"
    },
    "id": "vfLDv11lKKAq",
    "outputId": "91e7bd88-0ed3-4bfa-82ed-17351d33c3d0"
   },
   "outputs": [
    {
     "name": "stdout",
     "output_type": "stream",
     "text": [
      "[26 22 29 23 26 21 21 23 23 25 29 21 26 23]\n"
     ]
    }
   ],
   "source": [
    "ans = a[bool_arr]\n",
    "print(ans)"
   ]
  },
  {
   "cell_type": "code",
   "execution_count": null,
   "metadata": {
    "colab": {
     "base_uri": "https://localhost:8080/"
    },
    "id": "RfGfBtKEKLYi",
    "outputId": "5e8916d6-16cd-47fb-92a3-58cad9f2fd65"
   },
   "outputs": [
    {
     "name": "stdout",
     "output_type": "stream",
     "text": [
      "[[26  8 22 29 16 23]\n",
      " [26 10 15  5  8  8]\n",
      " [21 19  2  3 21 23]\n",
      " [23  4 25 29 21  2]\n",
      " [ 6 26 23 17  5 11]]\n"
     ]
    }
   ],
   "source": [
    "b = a\n",
    "print(a)"
   ]
  },
  {
   "cell_type": "code",
   "execution_count": null,
   "metadata": {
    "colab": {
     "base_uri": "https://localhost:8080/"
    },
    "id": "NAJwgijoKNHg",
    "outputId": "4dc590ee-e11b-4018-a840-8883789572da"
   },
   "outputs": [
    {
     "name": "stdout",
     "output_type": "stream",
     "text": [
      "[[100   8 100 100  16 100]\n",
      " [100  10  15   5   8   8]\n",
      " [100  19   2   3 100 100]\n",
      " [100   4 100 100 100   2]\n",
      " [  6 100 100  17   5  11]]\n"
     ]
    }
   ],
   "source": [
    "b[bool_arr] = 100\n",
    "print(b)"
   ]
  },
  {
   "cell_type": "markdown",
   "metadata": {
    "id": "UHdUU53lJ5we"
   },
   "source": [
    "We just updated all the values greater than 20 to 100."
   ]
  },
  {
   "cell_type": "code",
   "execution_count": null,
   "metadata": {
    "colab": {
     "base_uri": "https://localhost:8080/"
    },
    "id": "l8ysLIcBKgIs",
    "outputId": "ae74afd2-051f-45a9-ea60-e4563c5669c9"
   },
   "outputs": [
    {
     "name": "stdout",
     "output_type": "stream",
     "text": [
      "[[7 6]\n",
      " [1 5]]\n"
     ]
    }
   ],
   "source": [
    "c = np.random.randint(1, 10, (2, 2))\n",
    "print(c)"
   ]
  },
  {
   "cell_type": "code",
   "execution_count": null,
   "metadata": {
    "colab": {
     "base_uri": "https://localhost:8080/"
    },
    "id": "u73yRVrLKhBw",
    "outputId": "715df545-f008-4014-c5b6-96e1368d22cf"
   },
   "outputs": [
    {
     "name": "stdout",
     "output_type": "stream",
     "text": [
      "[[ True False]\n",
      " [False  True]\n",
      " [ True  True]]\n"
     ]
    }
   ],
   "source": [
    "c_bool = np.array([[True, False], [False, True], [True, True]])\n",
    "print(c_bool)"
   ]
  },
  {
   "cell_type": "code",
   "execution_count": null,
   "metadata": {
    "colab": {
     "base_uri": "https://localhost:8080/",
     "height": 162
    },
    "id": "fniUOKiaKjT-",
    "outputId": "42bf72c7-ab9c-47e3-9acd-1db2f3ee9944"
   },
   "outputs": [
    {
     "ename": "IndexError",
     "evalue": "ignored",
     "output_type": "error",
     "traceback": [
      "\u001b[0;31m---------------------------------------------------------------------------\u001b[0m",
      "\u001b[0;31mIndexError\u001b[0m                                Traceback (most recent call last)",
      "\u001b[0;32m<ipython-input-22-b198b149ed25>\u001b[0m in \u001b[0;36m<module>\u001b[0;34m()\u001b[0m\n\u001b[0;32m----> 1\u001b[0;31m \u001b[0mprint\u001b[0m\u001b[0;34m(\u001b[0m\u001b[0mc\u001b[0m\u001b[0;34m[\u001b[0m\u001b[0mc_bool\u001b[0m\u001b[0;34m]\u001b[0m\u001b[0;34m)\u001b[0m\u001b[0;34m\u001b[0m\u001b[0;34m\u001b[0m\u001b[0m\n\u001b[0m",
      "\u001b[0;31mIndexError\u001b[0m: boolean index did not match indexed array along dimension 0; dimension is 2 but corresponding boolean dimension is 3"
     ]
    }
   ],
   "source": [
    "print(c[c_bool])   ## Error generated because dimensions of boolean array and c are not same."
   ]
  },
  {
   "cell_type": "markdown",
   "metadata": {
    "id": "-aHwOygmKrzT"
   },
   "source": [
    "Lets see how we can work over a specific column."
   ]
  },
  {
   "cell_type": "code",
   "execution_count": null,
   "metadata": {
    "colab": {
     "base_uri": "https://localhost:8080/"
    },
    "id": "jdlhj-MeKqPX",
    "outputId": "77a0fcd7-fd6a-4887-c87e-b8471889de63"
   },
   "outputs": [
    {
     "name": "stdout",
     "output_type": "stream",
     "text": [
      "[[100   8 100 100  16 100]\n",
      " [100  10  15   5   8   8]\n",
      " [100  19   2   3 100 100]\n",
      " [100   4 100 100 100   2]\n",
      " [  6 100 100  17   5  11]]\n"
     ]
    }
   ],
   "source": [
    "print(b)"
   ]
  },
  {
   "cell_type": "code",
   "execution_count": null,
   "metadata": {
    "colab": {
     "base_uri": "https://localhost:8080/"
    },
    "id": "KN6iokqIKwZj",
    "outputId": "6503e3e4-bf73-4a7d-c6e0-363b3333aca1"
   },
   "outputs": [
    {
     "name": "stdout",
     "output_type": "stream",
     "text": [
      "[ True False False  True False]\n"
     ]
    }
   ],
   "source": [
    "bool_arr = b[:, 3] == 100\n",
    "print(bool_arr)"
   ]
  },
  {
   "cell_type": "markdown",
   "metadata": {
    "id": "a9AVTzroJ5s_"
   },
   "source": [
    "Lets update the array."
   ]
  },
  {
   "cell_type": "code",
   "execution_count": null,
   "metadata": {
    "colab": {
     "base_uri": "https://localhost:8080/"
    },
    "id": "_sM8933aKyf9",
    "outputId": "bc14b99c-3682-4f89-c15f-efb57f743eed"
   },
   "outputs": [
    {
     "name": "stdout",
     "output_type": "stream",
     "text": [
      "[[100   8 100  99  16 100]\n",
      " [100  10  15   5   8   8]\n",
      " [100  19   2   3 100 100]\n",
      " [100   4 100  99 100   2]\n",
      " [  6 100 100  17   5  11]]\n"
     ]
    }
   ],
   "source": [
    "b[bool_arr, 3] = 99\n",
    "print(b)"
   ]
  },
  {
   "cell_type": "markdown",
   "metadata": {
    "id": "AMWngf9KJ5pU"
   },
   "source": [
    "## **NumPy Broadcasting**"
   ]
  },
  {
   "cell_type": "markdown",
   "metadata": {
    "id": "fXCzK474J5lb"
   },
   "source": [
    "The term broadcasting describes how numpy treats arrays with different shapes during arithmetic operations. Subject to certain constraints, the smaller array is “broadcast” across the larger array so that they have compatible shapes. Broadcasting provides a means of vectorizing array operations so that looping occurs in C instead of Python. It does this without making needless copies of data and usually leads to efficient algorithm implementations. There are, however, cases where broadcasting is a bad idea because it leads to inefficient use of memory that slows computation.\n",
    "\n",
    "\n",
    "NumPy operations are usually done on pairs of arrays on an element-by-element basis. In the simplest case, the two arrays must have exactly the same shape, as in the following example:\n",
    "\n"
   ]
  },
  {
   "cell_type": "code",
   "execution_count": null,
   "metadata": {
    "id": "kXSbjoAcLlzm"
   },
   "outputs": [],
   "source": [
    "import numpy as np"
   ]
  },
  {
   "cell_type": "code",
   "execution_count": null,
   "metadata": {
    "colab": {
     "base_uri": "https://localhost:8080/"
    },
    "id": "WmWwtLaDLnpD",
    "outputId": "989d1436-21a2-4ffa-c279-2f4dc36a6663"
   },
   "outputs": [
    {
     "data": {
      "text/plain": [
       "array([2., 4., 6.])"
      ]
     },
     "execution_count": 27,
     "metadata": {
      "tags": []
     },
     "output_type": "execute_result"
    }
   ],
   "source": [
    "a = np.array([1.0, 2.0, 3.0])\n",
    "b = np.array([2.0, 2.0, 2.0])\n",
    "a * b"
   ]
  },
  {
   "cell_type": "markdown",
   "metadata": {
    "id": "ddtxWbYpLp7a"
   },
   "source": [
    "NumPy’s broadcasting rule relaxes this constraint when the arrays’ shapes meet certain constraints. The simplest broadcasting example occurs when an array and a scalar value are combined in an operation:"
   ]
  },
  {
   "cell_type": "code",
   "execution_count": null,
   "metadata": {
    "colab": {
     "base_uri": "https://localhost:8080/"
    },
    "id": "ANPXYPgLLrDk",
    "outputId": "946a1c82-3457-4cd9-c9a8-f99c895582d1"
   },
   "outputs": [
    {
     "data": {
      "text/plain": [
       "array([2., 4., 6.])"
      ]
     },
     "execution_count": 28,
     "metadata": {
      "tags": []
     },
     "output_type": "execute_result"
    }
   ],
   "source": [
    "a = np.array([1.0, 2.0, 3.0])\n",
    "b = 2.0\n",
    "a * b"
   ]
  },
  {
   "cell_type": "markdown",
   "metadata": {
    "id": "J8KCcwlVLuiv"
   },
   "source": [
    "The result is equivalent to the previous example where b was an array. We can think of the scalar b being stretched during the arithmetic operation into an array with the same shape as a. The new elements in b are simply copies of the original scalar. The stretching analogy is only conceptual. NumPy is smart enough to use the original scalar value without actually making copies so that broadcasting operations are as memory and computationally efficient as possible.\n",
    "\n",
    "The code in the second example is more efficient than that in the first because broadcasting moves less memory around during the multiplication (b is a scalar rather than an array).\n",
    "\n"
   ]
  },
  {
   "cell_type": "markdown",
   "metadata": {
    "id": "a_DdmcxJL08F"
   },
   "source": [
    "When operating on two arrays, NumPy compares their shapes element-wise. It starts with the trailing (i.e. rightmost) dimensions and works its way left. Two dimensions are compatible when\n",
    "\n",
    "1. they are equal, or\n",
    "\n",
    "2. one of them is 1\n",
    "\n",
    "If these conditions are not met, a ValueError: operands could not be broadcast together exception is thrown, indicating that the arrays have incompatible shapes. The size of the resulting array is the size that is not 1 along each axis of the inputs."
   ]
  },
  {
   "cell_type": "code",
   "execution_count": null,
   "metadata": {
    "colab": {
     "base_uri": "https://localhost:8080/"
    },
    "id": "stQ97oAwLNh6",
    "outputId": "26a4fdfd-3794-4491-9a25-c016ee7d2d50"
   },
   "outputs": [
    {
     "name": "stdout",
     "output_type": "stream",
     "text": [
      "[[7 3 6]\n",
      " [9 6 3]\n",
      " [3 1 8]]\n",
      "[[4 3 9]\n",
      " [3 4 9]\n",
      " [6 7 1]]\n"
     ]
    }
   ],
   "source": [
    "x = np.random.randint(1, 10, (3, 3))\n",
    "y = np.random.randint(1, 10, (3, 3))\n",
    "print(x)\n",
    "print(y)"
   ]
  },
  {
   "cell_type": "code",
   "execution_count": null,
   "metadata": {
    "colab": {
     "base_uri": "https://localhost:8080/"
    },
    "id": "tx16zvAkLNyp",
    "outputId": "aa1da465-d756-4519-dadb-7d1cc2d8da30"
   },
   "outputs": [
    {
     "name": "stdout",
     "output_type": "stream",
     "text": [
      "[[ 3  0 -3]\n",
      " [ 6  2 -6]\n",
      " [-3 -6  7]]\n"
     ]
    }
   ],
   "source": [
    "ans = x - y\n",
    "print(ans)"
   ]
  },
  {
   "cell_type": "code",
   "execution_count": null,
   "metadata": {
    "colab": {
     "base_uri": "https://localhost:8080/"
    },
    "id": "Z8ez-N9JL5iR",
    "outputId": "bc369f1e-63bc-44db-ded6-7ef2cb8b347f"
   },
   "outputs": [
    {
     "name": "stdout",
     "output_type": "stream",
     "text": [
      "[[3 4 1]\n",
      " [6 5 5]\n",
      " [1 4 1]]\n",
      "[6 1 4]\n"
     ]
    }
   ],
   "source": [
    "x = np.random.randint(1, 10, (3, 3))\n",
    "y = np.random.randint(1, 10, (3))\n",
    "print(x)\n",
    "print(y)"
   ]
  },
  {
   "cell_type": "code",
   "execution_count": null,
   "metadata": {
    "colab": {
     "base_uri": "https://localhost:8080/"
    },
    "id": "wBR4BLB-L6qn",
    "outputId": "f11e8880-e43b-4a34-e435-06469d20d581"
   },
   "outputs": [
    {
     "name": "stdout",
     "output_type": "stream",
     "text": [
      "[[-3  3 -3]\n",
      " [ 0  4  1]\n",
      " [-5  3 -3]]\n"
     ]
    }
   ],
   "source": [
    "ans = x - y\n",
    "print(ans)"
   ]
  },
  {
   "cell_type": "code",
   "execution_count": null,
   "metadata": {
    "colab": {
     "base_uri": "https://localhost:8080/"
    },
    "id": "jRRcsCKqL7kq",
    "outputId": "4610c90b-a516-4eac-9594-57d1c732b1c6"
   },
   "outputs": [
    {
     "name": "stdout",
     "output_type": "stream",
     "text": [
      "[[1 1]\n",
      " [6 1]\n",
      " [3 3]]\n",
      "[[6 3 4]\n",
      " [1 1 2]]\n"
     ]
    }
   ],
   "source": [
    "x = np.random.randint(1, 10, (3, 2))\n",
    "y = np.random.randint(1, 10, (2, 3))\n",
    "print(x)\n",
    "print(y)"
   ]
  },
  {
   "cell_type": "markdown",
   "metadata": {
    "id": "ttQlJzTAOpPJ"
   },
   "source": [
    "#### **Transpose**"
   ]
  },
  {
   "cell_type": "markdown",
   "metadata": {
    "id": "1jntZ4lkL-3E"
   },
   "source": [
    "To make these two arrays compatible, we may **transpose** one array."
   ]
  },
  {
   "cell_type": "code",
   "execution_count": null,
   "metadata": {
    "colab": {
     "base_uri": "https://localhost:8080/"
    },
    "id": "TliTaWc8L9nS",
    "outputId": "f6ffcf66-77db-4e4d-ce6a-dc3d955e36ca"
   },
   "outputs": [
    {
     "name": "stdout",
     "output_type": "stream",
     "text": [
      "[[6 1]\n",
      " [3 1]\n",
      " [4 2]]\n",
      "[[-5  0]\n",
      " [ 3  0]\n",
      " [-1  1]]\n"
     ]
    }
   ],
   "source": [
    "y = np.transpose(y)\n",
    "print(y)\n",
    "ans = x - y\n",
    "print(ans)"
   ]
  },
  {
   "cell_type": "markdown",
   "metadata": {
    "id": "HbNy4hceOsiV"
   },
   "source": [
    "#### **Reshape**"
   ]
  },
  {
   "cell_type": "markdown",
   "metadata": {
    "id": "SaguAWHEN9Hs"
   },
   "source": [
    "We may also **reshape** our array. Lets see an example : "
   ]
  },
  {
   "cell_type": "code",
   "execution_count": null,
   "metadata": {
    "colab": {
     "base_uri": "https://localhost:8080/"
    },
    "id": "COBOT4QMMGOD",
    "outputId": "023620c1-1489-4592-f1ad-3eb46eb82eab"
   },
   "outputs": [
    {
     "data": {
      "text/plain": [
       "array([ 0,  1,  2,  3,  4,  5,  6,  7,  8,  9, 10, 11, 12, 13, 14, 15])"
      ]
     },
     "execution_count": 35,
     "metadata": {
      "tags": []
     },
     "output_type": "execute_result"
    }
   ],
   "source": [
    "x = np.arange(16)\n",
    "x"
   ]
  },
  {
   "cell_type": "code",
   "execution_count": null,
   "metadata": {
    "colab": {
     "base_uri": "https://localhost:8080/"
    },
    "id": "1QFi90SeODdq",
    "outputId": "e4ebb007-3d62-4278-cdfd-d3d6d21baaf8"
   },
   "outputs": [
    {
     "data": {
      "text/plain": [
       "array([[7, 2, 6, 8],\n",
       "       [3, 4, 6, 3],\n",
       "       [2, 7, 9, 7],\n",
       "       [2, 3, 4, 8]])"
      ]
     },
     "execution_count": 39,
     "metadata": {
      "tags": []
     },
     "output_type": "execute_result"
    }
   ],
   "source": [
    "y = np.random.randint(1, 10, (4, 4))\n",
    "y"
   ]
  },
  {
   "cell_type": "code",
   "execution_count": null,
   "metadata": {
    "colab": {
     "base_uri": "https://localhost:8080/",
     "height": 162
    },
    "id": "OtWPe0GVOH-4",
    "outputId": "44afed0c-ef70-4396-d40d-eb43e2fb41b5"
   },
   "outputs": [
    {
     "ename": "ValueError",
     "evalue": "ignored",
     "output_type": "error",
     "traceback": [
      "\u001b[0;31m---------------------------------------------------------------------------\u001b[0m",
      "\u001b[0;31mValueError\u001b[0m                                Traceback (most recent call last)",
      "\u001b[0;32m<ipython-input-40-e32109319f52>\u001b[0m in \u001b[0;36m<module>\u001b[0;34m()\u001b[0m\n\u001b[0;32m----> 1\u001b[0;31m \u001b[0mx\u001b[0m \u001b[0;34m*\u001b[0m \u001b[0my\u001b[0m\u001b[0;34m\u001b[0m\u001b[0;34m\u001b[0m\u001b[0m\n\u001b[0m",
      "\u001b[0;31mValueError\u001b[0m: operands could not be broadcast together with shapes (16,) (4,4) "
     ]
    }
   ],
   "source": [
    "x * y    ## Error generated"
   ]
  },
  {
   "cell_type": "markdown",
   "metadata": {
    "id": "LAeAgEeCOTTf"
   },
   "source": [
    "Lets reshape 'x'"
   ]
  },
  {
   "cell_type": "code",
   "execution_count": null,
   "metadata": {
    "colab": {
     "base_uri": "https://localhost:8080/"
    },
    "id": "0sa7SE_OOQxF",
    "outputId": "9f32fe04-0c6e-4975-f7e4-3a2e1a818f09"
   },
   "outputs": [
    {
     "data": {
      "text/plain": [
       "array([[ 0,  1,  2,  3],\n",
       "       [ 4,  5,  6,  7],\n",
       "       [ 8,  9, 10, 11],\n",
       "       [12, 13, 14, 15]])"
      ]
     },
     "execution_count": 42,
     "metadata": {
      "tags": []
     },
     "output_type": "execute_result"
    }
   ],
   "source": [
    "x = np.reshape(x, (4, 4))\n",
    "x"
   ]
  },
  {
   "cell_type": "markdown",
   "metadata": {
    "id": "RkEiYEl-OcQd"
   },
   "source": [
    "Now we may multiply, subtract, add or divide 'x' and 'y'."
   ]
  },
  {
   "cell_type": "code",
   "execution_count": null,
   "metadata": {
    "colab": {
     "base_uri": "https://localhost:8080/"
    },
    "id": "K4b6vYRkOYDW",
    "outputId": "cfdb17d4-1305-4c07-c4b5-7e5653f6c5f8"
   },
   "outputs": [
    {
     "data": {
      "text/plain": [
       "array([[  0,   2,  12,  24],\n",
       "       [ 12,  20,  36,  21],\n",
       "       [ 16,  63,  90,  77],\n",
       "       [ 24,  39,  56, 120]])"
      ]
     },
     "execution_count": 43,
     "metadata": {
      "tags": []
     },
     "output_type": "execute_result"
    }
   ],
   "source": [
    "x * y"
   ]
  },
  {
   "cell_type": "code",
   "execution_count": null,
   "metadata": {
    "colab": {
     "base_uri": "https://localhost:8080/"
    },
    "id": "QWKu1L4jOad4",
    "outputId": "6d5c4300-511a-4df0-ca0d-b1fbd3e8953d"
   },
   "outputs": [
    {
     "data": {
      "text/plain": [
       "array([[-7, -1, -4, -5],\n",
       "       [ 1,  1,  0,  4],\n",
       "       [ 6,  2,  1,  4],\n",
       "       [10, 10, 10,  7]])"
      ]
     },
     "execution_count": 44,
     "metadata": {
      "tags": []
     },
     "output_type": "execute_result"
    }
   ],
   "source": [
    "x - y"
   ]
  },
  {
   "cell_type": "code",
   "execution_count": null,
   "metadata": {
    "colab": {
     "base_uri": "https://localhost:8080/"
    },
    "id": "ioVS6e_yOi5r",
    "outputId": "4d7460d4-49f8-4b1f-8fc7-aa9b847381a9"
   },
   "outputs": [
    {
     "data": {
      "text/plain": [
       "array([[ 7,  3,  8, 11],\n",
       "       [ 7,  9, 12, 10],\n",
       "       [10, 16, 19, 18],\n",
       "       [14, 16, 18, 23]])"
      ]
     },
     "execution_count": 45,
     "metadata": {
      "tags": []
     },
     "output_type": "execute_result"
    }
   ],
   "source": [
    "x + y"
   ]
  },
  {
   "cell_type": "code",
   "execution_count": null,
   "metadata": {
    "colab": {
     "base_uri": "https://localhost:8080/"
    },
    "id": "o-F5WDe6Ojou",
    "outputId": "bd69dc9a-c41b-45ec-8991-22ee348258c6"
   },
   "outputs": [
    {
     "data": {
      "text/plain": [
       "array([[0.        , 0.5       , 0.33333333, 0.375     ],\n",
       "       [1.33333333, 1.25      , 1.        , 2.33333333],\n",
       "       [4.        , 1.28571429, 1.11111111, 1.57142857],\n",
       "       [6.        , 4.33333333, 3.5       , 1.875     ]])"
      ]
     },
     "execution_count": 46,
     "metadata": {
      "tags": []
     },
     "output_type": "execute_result"
    }
   ],
   "source": [
    "x / y"
   ]
  },
  {
   "cell_type": "code",
   "execution_count": null,
   "metadata": {
    "colab": {
     "base_uri": "https://localhost:8080/"
    },
    "id": "20m4lQF8OkJk",
    "outputId": "a9728f68-5428-4cdb-cfd7-31bbcf50b0b5"
   },
   "outputs": [
    {
     "data": {
      "text/plain": [
       "array([[0, 0, 0, 0],\n",
       "       [1, 1, 1, 2],\n",
       "       [4, 1, 1, 1],\n",
       "       [6, 4, 3, 1]])"
      ]
     },
     "execution_count": 47,
     "metadata": {
      "tags": []
     },
     "output_type": "execute_result"
    }
   ],
   "source": [
    "x // y "
   ]
  },
  {
   "cell_type": "code",
   "execution_count": null,
   "metadata": {
    "colab": {
     "base_uri": "https://localhost:8080/"
    },
    "id": "AvtqlkE1Okzh",
    "outputId": "67d97194-af43-4cb6-c70c-43028ec96ebb"
   },
   "outputs": [
    {
     "data": {
      "text/plain": [
       "array([[0, 1, 2, 3],\n",
       "       [1, 1, 0, 1],\n",
       "       [0, 2, 1, 4],\n",
       "       [0, 1, 2, 7]])"
      ]
     },
     "execution_count": 48,
     "metadata": {
      "tags": []
     },
     "output_type": "execute_result"
    }
   ],
   "source": [
    "x % y"
   ]
  }
 ],
 "metadata": {
  "colab": {
   "collapsed_sections": [],
   "name": "NumPy notes.ipynb",
   "provenance": []
  },
  "kernelspec": {
   "display_name": "Python 3 (ipykernel)",
   "language": "python",
   "name": "python3"
  },
  "language_info": {
   "codemirror_mode": {
    "name": "ipython",
    "version": 3
   },
   "file_extension": ".py",
   "mimetype": "text/x-python",
   "name": "python",
   "nbconvert_exporter": "python",
   "pygments_lexer": "ipython3",
   "version": "3.10.6"
  }
 },
 "nbformat": 4,
 "nbformat_minor": 1
}
