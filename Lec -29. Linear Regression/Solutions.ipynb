{
 "cells": [
  {
   "cell_type": "markdown",
   "id": "90172726",
   "metadata": {},
   "source": [
    "# Find coefficient and intercept"
   ]
  },
  {
   "cell_type": "code",
   "execution_count": null,
   "id": "1fa63aa3",
   "metadata": {},
   "outputs": [],
   "source": [
    "#For the given dataset \"FuelEconomy.csv\"\n",
    "#Create a Linear Regressor and fit the dataset in this. After that, print the coefficient and intercept."
   ]
  },
  {
   "cell_type": "code",
   "execution_count": null,
   "id": "e059c2e9",
   "metadata": {},
   "outputs": [],
   "source": [
    "import numpy as np\n",
    "from sklearn import model_selection\n",
    "from sklearn.linear_model import LinearRegression\n",
    "\n",
    "data = np.loadtxt('FuelEconomy.csv', delimiter = \",\")\n",
    "\n",
    "x = data[:, 0].reshape(-1, 1)\n",
    "y = data[:, 1]\n",
    "\n",
    "X_train, X_test, Y_train, Y_test = model_selection.train_test_split(x, y, test_size = 0.3, random_state = 42)\n",
    "\n",
    "algl = LinearRegression()\n",
    "algl.fit(X_train, Y_train)\n",
    "\n",
    "print(round(algl.coef_[0], 2))\n",
    "# print(algl.coef_)\n",
    "print(round(algl.intercept_,2))"
   ]
  },
  {
   "cell_type": "markdown",
   "id": "b107d400",
   "metadata": {},
   "source": [
    "# Find the testing and training score"
   ]
  },
  {
   "cell_type": "code",
   "execution_count": null,
   "id": "497396b2",
   "metadata": {},
   "outputs": [],
   "source": [
    "#For the given dataset \"FuelEconomy.csv\"\n",
    "#Create a Linear Regressor and fit the dataset in this and then print the training and testing score for this regressor.\n",
    "#Note: Inside the function \"traintestsplit\" use the \"random_state = 42\"."
   ]
  },
  {
   "cell_type": "code",
   "execution_count": null,
   "id": "59eab135",
   "metadata": {},
   "outputs": [],
   "source": [
    "\n",
    "import numpy as np\n",
    "from sklearn import model_selection\n",
    "from sklearn.linear_model import LinearRegression\n",
    "\n",
    "data = np.loadtxt('FuelEconomy.csv', delimiter = \",\")\n",
    "\n",
    "x = data[:, 0].reshape(-1, 1)\n",
    "y = data[:, 1]\n",
    "\n",
    "X_train, X_test, Y_train, Y_test = model_selection.train_test_split(x, y, test_size = 0.3, random_state = 42)\n",
    "\n",
    "algl = LinearRegression()\n",
    "algl.fit(X_train, Y_train)\n",
    "\n",
    "score_test = algl.score(X_test, Y_test)\n",
    "score_training = algl.score(X_train, Y_train)\n",
    "\n",
    "print(round(score_test,3))\n",
    "print(round(score_training,3))"
   ]
  }
 ],
 "metadata": {
  "kernelspec": {
   "display_name": "Python 3 (ipykernel)",
   "language": "python",
   "name": "python3"
  },
  "language_info": {
   "codemirror_mode": {
    "name": "ipython",
    "version": 3
   },
   "file_extension": ".py",
   "mimetype": "text/x-python",
   "name": "python",
   "nbconvert_exporter": "python",
   "pygments_lexer": "ipython3",
   "version": "3.9.12"
  }
 },
 "nbformat": 4,
 "nbformat_minor": 5
}
