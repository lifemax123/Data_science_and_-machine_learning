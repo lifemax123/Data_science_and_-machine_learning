{
 "cells": [
  {
   "cell_type": "markdown",
   "id": "ca62a0c1",
   "metadata": {},
   "source": [
    "### First non repeating character"
   ]
  },
  {
   "cell_type": "markdown",
   "id": "d5b161cf",
   "metadata": {},
   "source": [
    "In a given string, find the first non-repeating character .You are given a string, that can contain repeating characters. Your task is to return the first character in this string that does not repeat. i.e., occurs exactly once. The string will contain characters only from English alphabet set, i.e., ('A' - 'Z') and ('a' - 'z'). If there is no non-repeating character print the first character of string."
   ]
  },
  {
   "cell_type": "code",
   "execution_count": 4,
   "id": "fc26e871",
   "metadata": {},
   "outputs": [
    {
     "name": "stdout",
     "output_type": "stream",
     "text": [
      "aDcadhc\n",
      "D\n"
     ]
    }
   ],
   "source": [
    "def fn(s):\n",
    "    order = []\n",
    "    counts = {}\n",
    "    for x in s:\n",
    "        if x in counts:\n",
    "            counts[x] += 1\n",
    "        else:\n",
    "            counts[x] = 1 \n",
    "            order.append(x)\n",
    "    for x in order:\n",
    "        if counts[x] == 1:\n",
    "            return x\n",
    "    return None\n",
    "\n",
    "string = input()\n",
    "print(fn(string))"
   ]
  },
  {
   "cell_type": "markdown",
   "id": "6b2be1d0",
   "metadata": {},
   "source": [
    "### Different Names"
   ]
  },
  {
   "cell_type": "markdown",
   "id": "3f6a9ef5",
   "metadata": {},
   "source": [
    "In Little Flowers Public School, there are many students with same first names. You are given a task to find the students with same names. You will be given a string comprising of all the names of students and you have to tell the name and count of those students having same. If all the names are unique, print -1 instead.\n",
    "Note: We don't have to mention names whose frequency is 1."
   ]
  },
  {
   "cell_type": "code",
   "execution_count": 8,
   "id": "430ce2e3",
   "metadata": {},
   "outputs": [
    {
     "name": "stdout",
     "output_type": "stream",
     "text": [
      "Abhishek Harshit Ayush Iti\n",
      "-1\n"
     ]
    }
   ],
   "source": [
    "def differentNames(l):\n",
    "    pass\n",
    "\n",
    "names=input().strip().split()\n",
    "m=differentNames(names)\n",
    "if m:\n",
    "    for name in m:\n",
    "        print(name, m[name])\n",
    "else:\n",
    "    print(-1)"
   ]
  },
  {
   "cell_type": "markdown",
   "id": "98299424",
   "metadata": {},
   "source": [
    "### Even Count "
   ]
  },
  {
   "cell_type": "markdown",
   "id": "f327beec",
   "metadata": {},
   "source": [
    "You are provided with an integer array where each number is present either odd number of times or even number of times. You have to find and return the number which is present even number of times.\n",
    "If multiple numbers are present even number of times, then return that number which occurs first among these numbers in the given array. If no such number exists, then return -1."
   ]
  },
  {
   "cell_type": "code",
   "execution_count": 10,
   "id": "44e5d1eb",
   "metadata": {},
   "outputs": [
    {
     "name": "stdout",
     "output_type": "stream",
     "text": [
      "6\n",
      "2 5 3 5 3 4\n",
      "5\n"
     ]
    }
   ],
   "source": [
    "def getOddOccurrence(arr,size): \n",
    "       \n",
    "    map1 = {}  \n",
    "    for i in range(0, n):  \n",
    "      \n",
    "\n",
    "        if arr[i] not in map1:  \n",
    "            map1[arr[i]] = False\n",
    "  \n",
    "        else: \n",
    "            map1[arr[i]] = not map1[arr[i]] \n",
    "  \n",
    "    for j in range(0, n):  \n",
    "      \n",
    "\n",
    "        if map1[arr[j]] == True:  \n",
    "            break\n",
    "      \n",
    "    return arr[j]  \n",
    "\n",
    "n=int(input())\n",
    "arr=list(int(i) for i in input().strip().split(' '))\n",
    "k=(getOddOccurrence(arr,n))\n",
    "print(k)"
   ]
  },
  {
   "cell_type": "markdown",
   "id": "92066eea",
   "metadata": {},
   "source": [
    "### Unique triangles "
   ]
  },
  {
   "cell_type": "markdown",
   "id": "0a384e79",
   "metadata": {},
   "source": [
    "You are given n triangles. You are required to find how many triangles are unique out of given triangles. For each triangle you are given three integers a, b and c (the sides of a triangle).\n",
    "A triangle is said to be unique if there is no other triangle with same set of sides.\n",
    "In other words, we have to find frequency of each triangle and return the count of triangles whose frequency is 1."
   ]
  },
  {
   "cell_type": "code",
   "execution_count": 12,
   "id": "5c8a1c75",
   "metadata": {},
   "outputs": [
    {
     "name": "stdout",
     "output_type": "stream",
     "text": [
      "5\n",
      "7 6 5\n",
      "5 7 6\n",
      "8 2 9\n",
      "2 3 4\n",
      "8 2 9\n",
      "1\n"
     ]
    }
   ],
   "source": [
    "from collections import Counter\n",
    "\n",
    "\n",
    "def unique_triangles(arr):\n",
    "    counter = Counter([frozenset(a) for a in arr])\n",
    "    return len([res for res in counter if counter[res] == 1])\n",
    "\n",
    "\n",
    "\n",
    "n = int(input())\n",
    "arr = [list(map(int, input().split())) for x in range(n)]\n",
    "print(unique_triangles(arr))"
   ]
  },
  {
   "cell_type": "markdown",
   "id": "6a8e064e",
   "metadata": {},
   "source": [
    "### Pairs with difference K "
   ]
  },
  {
   "cell_type": "markdown",
   "id": "e7fb79e7",
   "metadata": {},
   "source": [
    "You are given with an array of integers and an integer K. \n",
    "\n",
    "You have to find and print the count of all such pairs which have difference K.\n",
    "Note: Take absolute difference between the elements of the array."
   ]
  },
  {
   "cell_type": "code",
   "execution_count": 13,
   "id": "afc96398",
   "metadata": {},
   "outputs": [
    {
     "name": "stdout",
     "output_type": "stream",
     "text": [
      "4\n",
      "5 1 2 4\n",
      "3\n",
      "2\n"
     ]
    }
   ],
   "source": [
    "def fact(n):\n",
    "    if n==0:\n",
    "        return 1\n",
    "    return n*fact(n-1)\n",
    "\n",
    "def printPairDiffK(l, k):\n",
    "    c=0\n",
    "    d={}\n",
    "    for i in l:\n",
    "        d[i]=d.get(i,0)+1\n",
    "    for j in l:\n",
    "        if n==d[j]:\n",
    "            fact_n = fact(n)\n",
    "            n_rfact = fact(n-2)\n",
    "            ans = fact_n//(n_rfact * 2)\n",
    "            \n",
    "            return ans\n",
    "        c+=d.get(j-k,0)\n",
    "    return c\n",
    "\n",
    "n=int(input())\n",
    "l=list(int(i) for i in input().strip().split(' '))\n",
    "k=int(input())\n",
    "print(printPairDiffK(l, k))"
   ]
  }
 ],
 "metadata": {
  "kernelspec": {
   "display_name": "Python 3 (ipykernel)",
   "language": "python",
   "name": "python3"
  },
  "language_info": {
   "codemirror_mode": {
    "name": "ipython",
    "version": 3
   },
   "file_extension": ".py",
   "mimetype": "text/x-python",
   "name": "python",
   "nbconvert_exporter": "python",
   "pygments_lexer": "ipython3",
   "version": "3.10.6"
  }
 },
 "nbformat": 4,
 "nbformat_minor": 5
}
