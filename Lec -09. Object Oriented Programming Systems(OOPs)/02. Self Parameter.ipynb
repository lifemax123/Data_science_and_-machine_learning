{
 "cells": [
  {
   "cell_type": "code",
   "execution_count": 1,
   "metadata": {},
   "outputs": [],
   "source": [
    "class Student():\n",
    "    \n",
    "    def Studentdetails(self):\n",
    "        self.name = 'Vaibhav'\n",
    "        print('name = ',self.name)"
   ]
  },
  {
   "cell_type": "code",
   "execution_count": 2,
   "metadata": {},
   "outputs": [],
   "source": [
    "s1 = Student()"
   ]
  },
  {
   "cell_type": "code",
   "execution_count": 3,
   "metadata": {},
   "outputs": [
    {
     "name": "stdout",
     "output_type": "stream",
     "text": [
      "name =  Vaibhav\n"
     ]
    }
   ],
   "source": [
    "s1.Studentdetails()"
   ]
  },
  {
   "cell_type": "code",
   "execution_count": 5,
   "metadata": {
    "scrolled": true
   },
   "outputs": [
    {
     "name": "stdout",
     "output_type": "stream",
     "text": [
      "name =  Vaibhav\n"
     ]
    }
   ],
   "source": [
    "Student.Studentdetails(s1)\n",
    "#class_name function (objectname)"
   ]
  },
  {
   "cell_type": "code",
   "execution_count": 7,
   "metadata": {
    "scrolled": true
   },
   "outputs": [
    {
     "name": "stdout",
     "output_type": "stream",
     "text": [
      "name =  Vaibhav\n",
      "percentage= 80\n"
     ]
    }
   ],
   "source": [
    "class Student():\n",
    "    \n",
    "    def Studentdetails(self):\n",
    "        self.name = 'Vaibhav'\n",
    "        percentage = 80\n",
    "        print('name = ',self.name)\n",
    "        print('percentage=',percentage)\n",
    "        pass\n",
    "    \n",
    "s1 = Student()\n",
    "s1.Studentdetails()"
   ]
  },
  {
   "cell_type": "code",
   "execution_count": 8,
   "metadata": {
    "scrolled": false
   },
   "outputs": [
    {
     "name": "stdout",
     "output_type": "stream",
     "text": [
      "name =  Vaibhav\n",
      "percentage= 80\n"
     ]
    },
    {
     "ename": "AttributeError",
     "evalue": "'Student' object has no attribute 'passed'",
     "output_type": "error",
     "traceback": [
      "\u001b[0;31m---------------------------------------------------------------------------\u001b[0m",
      "\u001b[0;31mAttributeError\u001b[0m                            Traceback (most recent call last)",
      "Cell \u001b[0;32mIn [8], line 20\u001b[0m\n\u001b[1;32m     18\u001b[0m s1 \u001b[38;5;241m=\u001b[39m Student()\n\u001b[1;32m     19\u001b[0m s1\u001b[38;5;241m.\u001b[39mStudentdetails()\n\u001b[0;32m---> 20\u001b[0m \u001b[43ms1\u001b[49m\u001b[38;5;241;43m.\u001b[39;49m\u001b[43mpassed\u001b[49m()\n",
      "\u001b[0;31mAttributeError\u001b[0m: 'Student' object has no attribute 'passed'"
     ]
    }
   ],
   "source": [
    "class Student():\n",
    "    \n",
    "    def Studentdetails(self):\n",
    "        self.name = 'Vaibhav'\n",
    "        percentage = 80\n",
    "        print('name = ',self.name)\n",
    "        print('percentage=',percentage)\n",
    "        pass\n",
    "    \n",
    "    def isPassed():\n",
    "        if percentage > Student.passingPercentage:\n",
    "            print('Student is passed')\n",
    "        else:\n",
    "            print('not passed')\n",
    "        \n",
    "    \n",
    "    \n",
    "s1 = Student()\n",
    "s1.Studentdetails()\n",
    "s1.passed()\n",
    "\n",
    "#due to percentage is local attribute rather than a instance attribute."
   ]
  },
  {
   "cell_type": "code",
   "execution_count": 9,
   "metadata": {},
   "outputs": [
    {
     "name": "stdout",
     "output_type": "stream",
     "text": [
      "name =  Vaibav\n",
      "percentage= 80\n",
      "Student is passed\n"
     ]
    }
   ],
   "source": [
    "class Student():\n",
    "    \n",
    "    passingPercentage = 40\n",
    "    \n",
    "    def Studentdetails(self):\n",
    "        self.name = 'Vaibav'\n",
    "        self.percentage = 80\n",
    "        print('name = ',self.name)\n",
    "        print('percentage=',self.percentage)\n",
    "        pass\n",
    "    \n",
    "    def isPassed(self):\n",
    "        if self.percentage > Student.passingPercentage:\n",
    "            print('Student is passed')\n",
    "        else:\n",
    "            print('not passed')\n",
    "            \n",
    "\n",
    "    \n",
    "            \n",
    "s1 = Student()\n",
    "s1.Studentdetails()\n",
    "s1.isPassed()                    "
   ]
  }
 ],
 "metadata": {
  "kernelspec": {
   "display_name": "Python 3 (ipykernel)",
   "language": "python",
   "name": "python3"
  },
  "language_info": {
   "codemirror_mode": {
    "name": "ipython",
    "version": 3
   },
   "file_extension": ".py",
   "mimetype": "text/x-python",
   "name": "python",
   "nbconvert_exporter": "python",
   "pygments_lexer": "ipython3",
   "version": "3.10.6"
  }
 },
 "nbformat": 4,
 "nbformat_minor": 4
}
